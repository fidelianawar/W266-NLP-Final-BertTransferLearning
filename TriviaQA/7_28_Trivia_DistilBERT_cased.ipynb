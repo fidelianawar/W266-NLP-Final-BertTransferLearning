{
  "cells": [
    {
      "cell_type": "markdown",
      "source": [
        "## Install and Load libraries"
      ],
      "metadata": {
        "id": "glktVHPa65L3"
      }
    },
    {
      "cell_type": "code",
      "execution_count": 1,
      "metadata": {
        "id": "MOsHUjgdIrIW",
        "colab": {
          "base_uri": "https://localhost:8080/"
        },
        "outputId": "b4f62d47-9af6-4136-8127-046e377b72d3"
      },
      "outputs": [
        {
          "output_type": "stream",
          "name": "stdout",
          "text": [
            "Looking in indexes: https://pypi.org/simple, https://us-python.pkg.dev/colab-wheels/public/simple/\n",
            "Collecting datasets\n",
            "  Downloading datasets-2.4.0-py3-none-any.whl (365 kB)\n",
            "\u001b[K     |████████████████████████████████| 365 kB 7.0 MB/s \n",
            "\u001b[?25hCollecting transformers\n",
            "  Downloading transformers-4.21.0-py3-none-any.whl (4.7 MB)\n",
            "\u001b[K     |████████████████████████████████| 4.7 MB 72.7 MB/s \n",
            "\u001b[?25hRequirement already satisfied: pandas in /usr/local/lib/python3.7/dist-packages (from datasets) (1.3.5)\n",
            "Requirement already satisfied: importlib-metadata in /usr/local/lib/python3.7/dist-packages (from datasets) (4.12.0)\n",
            "Collecting xxhash\n",
            "  Downloading xxhash-3.0.0-cp37-cp37m-manylinux_2_17_x86_64.manylinux2014_x86_64.whl (212 kB)\n",
            "\u001b[K     |████████████████████████████████| 212 kB 77.2 MB/s \n",
            "\u001b[?25hCollecting fsspec[http]>=2021.11.1\n",
            "  Downloading fsspec-2022.7.0-py3-none-any.whl (141 kB)\n",
            "\u001b[K     |████████████████████████████████| 141 kB 79.3 MB/s \n",
            "\u001b[?25hRequirement already satisfied: tqdm>=4.62.1 in /usr/local/lib/python3.7/dist-packages (from datasets) (4.64.0)\n",
            "Requirement already satisfied: dill<0.3.6 in /usr/local/lib/python3.7/dist-packages (from datasets) (0.3.5.1)\n",
            "Requirement already satisfied: multiprocess in /usr/local/lib/python3.7/dist-packages (from datasets) (0.70.13)\n",
            "Requirement already satisfied: requests>=2.19.0 in /usr/local/lib/python3.7/dist-packages (from datasets) (2.23.0)\n",
            "Requirement already satisfied: numpy>=1.17 in /usr/local/lib/python3.7/dist-packages (from datasets) (1.21.6)\n",
            "Collecting huggingface-hub<1.0.0,>=0.1.0\n",
            "  Downloading huggingface_hub-0.8.1-py3-none-any.whl (101 kB)\n",
            "\u001b[K     |████████████████████████████████| 101 kB 12.5 MB/s \n",
            "\u001b[?25hRequirement already satisfied: pyarrow>=6.0.0 in /usr/local/lib/python3.7/dist-packages (from datasets) (6.0.1)\n",
            "Collecting responses<0.19\n",
            "  Downloading responses-0.18.0-py3-none-any.whl (38 kB)\n",
            "Requirement already satisfied: packaging in /usr/local/lib/python3.7/dist-packages (from datasets) (21.3)\n",
            "Requirement already satisfied: aiohttp in /usr/local/lib/python3.7/dist-packages (from datasets) (3.8.1)\n",
            "Requirement already satisfied: filelock in /usr/local/lib/python3.7/dist-packages (from huggingface-hub<1.0.0,>=0.1.0->datasets) (3.7.1)\n",
            "Requirement already satisfied: typing-extensions>=3.7.4.3 in /usr/local/lib/python3.7/dist-packages (from huggingface-hub<1.0.0,>=0.1.0->datasets) (4.1.1)\n",
            "Collecting pyyaml>=5.1\n",
            "  Downloading PyYAML-6.0-cp37-cp37m-manylinux_2_5_x86_64.manylinux1_x86_64.manylinux_2_12_x86_64.manylinux2010_x86_64.whl (596 kB)\n",
            "\u001b[K     |████████████████████████████████| 596 kB 81.7 MB/s \n",
            "\u001b[?25hRequirement already satisfied: pyparsing!=3.0.5,>=2.0.2 in /usr/local/lib/python3.7/dist-packages (from packaging->datasets) (3.0.9)\n",
            "Requirement already satisfied: chardet<4,>=3.0.2 in /usr/local/lib/python3.7/dist-packages (from requests>=2.19.0->datasets) (3.0.4)\n",
            "Requirement already satisfied: idna<3,>=2.5 in /usr/local/lib/python3.7/dist-packages (from requests>=2.19.0->datasets) (2.10)\n",
            "Requirement already satisfied: certifi>=2017.4.17 in /usr/local/lib/python3.7/dist-packages (from requests>=2.19.0->datasets) (2022.6.15)\n",
            "Requirement already satisfied: urllib3!=1.25.0,!=1.25.1,<1.26,>=1.21.1 in /usr/local/lib/python3.7/dist-packages (from requests>=2.19.0->datasets) (1.24.3)\n",
            "Collecting urllib3!=1.25.0,!=1.25.1,<1.26,>=1.21.1\n",
            "  Downloading urllib3-1.25.11-py2.py3-none-any.whl (127 kB)\n",
            "\u001b[K     |████████████████████████████████| 127 kB 79.7 MB/s \n",
            "\u001b[?25hCollecting tokenizers!=0.11.3,<0.13,>=0.11.1\n",
            "  Downloading tokenizers-0.12.1-cp37-cp37m-manylinux_2_12_x86_64.manylinux2010_x86_64.whl (6.6 MB)\n",
            "\u001b[K     |████████████████████████████████| 6.6 MB 64.1 MB/s \n",
            "\u001b[?25hRequirement already satisfied: regex!=2019.12.17 in /usr/local/lib/python3.7/dist-packages (from transformers) (2022.6.2)\n",
            "Requirement already satisfied: frozenlist>=1.1.1 in /usr/local/lib/python3.7/dist-packages (from aiohttp->datasets) (1.3.0)\n",
            "Requirement already satisfied: multidict<7.0,>=4.5 in /usr/local/lib/python3.7/dist-packages (from aiohttp->datasets) (6.0.2)\n",
            "Requirement already satisfied: attrs>=17.3.0 in /usr/local/lib/python3.7/dist-packages (from aiohttp->datasets) (21.4.0)\n",
            "Requirement already satisfied: async-timeout<5.0,>=4.0.0a3 in /usr/local/lib/python3.7/dist-packages (from aiohttp->datasets) (4.0.2)\n",
            "Requirement already satisfied: yarl<2.0,>=1.0 in /usr/local/lib/python3.7/dist-packages (from aiohttp->datasets) (1.7.2)\n",
            "Requirement already satisfied: asynctest==0.13.0 in /usr/local/lib/python3.7/dist-packages (from aiohttp->datasets) (0.13.0)\n",
            "Requirement already satisfied: aiosignal>=1.1.2 in /usr/local/lib/python3.7/dist-packages (from aiohttp->datasets) (1.2.0)\n",
            "Requirement already satisfied: charset-normalizer<3.0,>=2.0 in /usr/local/lib/python3.7/dist-packages (from aiohttp->datasets) (2.1.0)\n",
            "Requirement already satisfied: zipp>=0.5 in /usr/local/lib/python3.7/dist-packages (from importlib-metadata->datasets) (3.8.1)\n",
            "Requirement already satisfied: pytz>=2017.3 in /usr/local/lib/python3.7/dist-packages (from pandas->datasets) (2022.1)\n",
            "Requirement already satisfied: python-dateutil>=2.7.3 in /usr/local/lib/python3.7/dist-packages (from pandas->datasets) (2.8.2)\n",
            "Requirement already satisfied: six>=1.5 in /usr/local/lib/python3.7/dist-packages (from python-dateutil>=2.7.3->pandas->datasets) (1.15.0)\n",
            "Installing collected packages: urllib3, pyyaml, fsspec, xxhash, tokenizers, responses, huggingface-hub, transformers, datasets\n",
            "  Attempting uninstall: urllib3\n",
            "    Found existing installation: urllib3 1.24.3\n",
            "    Uninstalling urllib3-1.24.3:\n",
            "      Successfully uninstalled urllib3-1.24.3\n",
            "  Attempting uninstall: pyyaml\n",
            "    Found existing installation: PyYAML 3.13\n",
            "    Uninstalling PyYAML-3.13:\n",
            "      Successfully uninstalled PyYAML-3.13\n",
            "\u001b[31mERROR: pip's dependency resolver does not currently take into account all the packages that are installed. This behaviour is the source of the following dependency conflicts.\n",
            "datascience 0.10.6 requires folium==0.2.1, but you have folium 0.8.3 which is incompatible.\u001b[0m\n",
            "Successfully installed datasets-2.4.0 fsspec-2022.7.0 huggingface-hub-0.8.1 pyyaml-6.0 responses-0.18.0 tokenizers-0.12.1 transformers-4.21.0 urllib3-1.25.11 xxhash-3.0.0\n"
          ]
        }
      ],
      "source": [
        "! pip install datasets transformers"
      ]
    },
    {
      "cell_type": "code",
      "source": [
        "from datasets import load_dataset, load_metric"
      ],
      "metadata": {
        "id": "li_HPpVo7DgD"
      },
      "execution_count": 2,
      "outputs": []
    },
    {
      "cell_type": "code",
      "source": [
        "from google.colab import drive\n",
        "drive.mount('/content/drive')"
      ],
      "metadata": {
        "id": "8PUeB2Jr-V9U",
        "colab": {
          "base_uri": "https://localhost:8080/"
        },
        "outputId": "04831060-3370-47b7-fa7e-ed68d789d74f"
      },
      "execution_count": 3,
      "outputs": [
        {
          "output_type": "stream",
          "name": "stdout",
          "text": [
            "Mounted at /content/drive\n"
          ]
        }
      ]
    },
    {
      "cell_type": "code",
      "execution_count": 4,
      "metadata": {
        "id": "X7RCjKmS-HqP",
        "colab": {
          "base_uri": "https://localhost:8080/"
        },
        "outputId": "9dfd0c9e-38fd-48ae-f446-6b9a09de6267"
      },
      "outputs": [
        {
          "output_type": "stream",
          "name": "stdout",
          "text": [
            "4.21.0\n"
          ]
        }
      ],
      "source": [
        "import transformers\n",
        "\n",
        "print(transformers.__version__)"
      ]
    },
    {
      "cell_type": "code",
      "source": [
        "from datasets import load_dataset\n",
        "from datasets import Dataset\n",
        "import tensorflow as tf\n",
        "import tensorflow_datasets as tfds\n",
        "import pandas as pd\n",
        "import numpy as np\n",
        "import matplotlib.pyplot as plt\n",
        "import json\n",
        "from google.colab import files\n",
        "import re"
      ],
      "metadata": {
        "id": "r3Phfxs5OJsA"
      },
      "execution_count": 5,
      "outputs": []
    },
    {
      "cell_type": "code",
      "execution_count": 56,
      "metadata": {
        "id": "zVvslsfMIrIh"
      },
      "outputs": [],
      "source": [
        "# This flag is the difference between SQUAD v1 or 2 (if you're using another dataset, it indicates if impossible\n",
        "# answers are allowed or not).\n",
        "squad_v2 = True\n",
        "model_checkpoint = model_name = \"drive/MyDrive/w266/model_checkpoints/DistilBert-NQ-TriviaQA-cased-trained/checkpoint-45500\"\n",
        "batch_size = 16"
      ]
    },
    {
      "cell_type": "code",
      "source": [
        "!ls drive/MyDrive/w266/data/TriviaQA"
      ],
      "metadata": {
        "colab": {
          "base_uri": "https://localhost:8080/"
        },
        "id": "R2KPUiRHRIen",
        "outputId": "ea662740-d9df-428d-863e-3fe1fa23b8b5"
      },
      "execution_count": 6,
      "outputs": [
        {
          "output_type": "stream",
          "name": "stdout",
          "text": [
            "test.json  train.json  validation.json\n"
          ]
        }
      ]
    },
    {
      "cell_type": "code",
      "execution_count": 15,
      "metadata": {
        "colab": {
          "base_uri": "https://localhost:8080/",
          "height": 174,
          "referenced_widgets": [
            "de59268a544a4fe9a22fc342b93b8d22",
            "b3e135ccdd624bf783e66e970ec35b50",
            "bfb682e2b0ab4eceb127e269b47829db",
            "69ea64567e22441090919b0ed96bcf93",
            "8bd6580d01f840d28c53085ee10709c6",
            "1566ca710f694f91af364e3f70140079",
            "4142763fdff74b8db00f3c996ae567cd",
            "751bf2a216fa407181db97ec338326cb",
            "1b1a1e515e5f4cd486908f809a1f8fbd",
            "e6bd664c2bf94b25889bc199ec909d18",
            "ecec728bbd854cc88d79b073a4076073",
            "4794e36f035348b8a93e8eb44f30f6fe",
            "c831ea98181c4c378d196c01453d5a64",
            "612a22343dbf4026af8d3a3886be4c27",
            "70d6e1e1dd8448a49cdb2add12c46d68",
            "7f0774f86c534f9f8ce88ee6a15df393",
            "a62a3368882c4d038cac11b556c0361d",
            "a4c454fa6e7c4b64980b192c6afb64f2",
            "1276607feece4dccb09dc521edd375fb",
            "a73b2f392e9942a5a7e52269c9287328",
            "ca53d765dbbf432bad891869ea14d70e",
            "27231db87bb94b4b96178ac657c64d6c"
          ]
        },
        "id": "s_AY1ATSIrIq",
        "outputId": "7c00236e-0a69-470b-ba51-779bd976c5c2"
      },
      "outputs": [
        {
          "output_type": "stream",
          "name": "stderr",
          "text": [
            "Using custom data configuration default-060d5ca45111dd04\n",
            "Reusing dataset json (/root/.cache/huggingface/datasets/json/default-060d5ca45111dd04/0.0.0/a3e658c4731e59120d44081ac10bf85dc7e1388126b92338344ce9661907f253)\n"
          ]
        },
        {
          "output_type": "display_data",
          "data": {
            "text/plain": [
              "  0%|          | 0/1 [00:00<?, ?it/s]"
            ],
            "application/vnd.jupyter.widget-view+json": {
              "version_major": 2,
              "version_minor": 0,
              "model_id": "de59268a544a4fe9a22fc342b93b8d22"
            }
          },
          "metadata": {}
        },
        {
          "output_type": "stream",
          "name": "stderr",
          "text": [
            "Using custom data configuration default-7d16357ee71199de\n",
            "Reusing dataset json (/root/.cache/huggingface/datasets/json/default-7d16357ee71199de/0.0.0/a3e658c4731e59120d44081ac10bf85dc7e1388126b92338344ce9661907f253)\n"
          ]
        },
        {
          "output_type": "display_data",
          "data": {
            "text/plain": [
              "  0%|          | 0/1 [00:00<?, ?it/s]"
            ],
            "application/vnd.jupyter.widget-view+json": {
              "version_major": 2,
              "version_minor": 0,
              "model_id": "4794e36f035348b8a93e8eb44f30f6fe"
            }
          },
          "metadata": {}
        }
      ],
      "source": [
        "train_path = \"drive/MyDrive/w266/data/TriviaQA/train.json\"\n",
        "train_data = load_dataset('json', data_files=train_path)\n",
        "train = train_data['train']\n",
        "\n",
        "test_path = \"drive/MyDrive/w266/data/TriviaQA/test.json\"\n",
        "test_data = load_dataset('json', data_files=test_path)\n",
        "test = test_data['train']"
      ]
    },
    {
      "cell_type": "code",
      "source": [
        "train"
      ],
      "metadata": {
        "id": "aQZ6csXVgcYD",
        "colab": {
          "base_uri": "https://localhost:8080/"
        },
        "outputId": "f451dbb2-b455-4208-e5a4-08aa2a1c8f0d"
      },
      "execution_count": null,
      "outputs": [
        {
          "output_type": "execute_result",
          "data": {
            "text/plain": [
              "Dataset({\n",
              "    features: ['question', 'id', 'context', 'answers'],\n",
              "    num_rows: 19965\n",
              "})"
            ]
          },
          "metadata": {},
          "execution_count": 13
        }
      ]
    },
    {
      "cell_type": "code",
      "source": [
        "test"
      ],
      "metadata": {
        "colab": {
          "base_uri": "https://localhost:8080/"
        },
        "id": "d5dq1F7NS9E7",
        "outputId": "bfc6c37d-3963-446a-9c82-0cd6aa481da1"
      },
      "execution_count": null,
      "outputs": [
        {
          "output_type": "execute_result",
          "data": {
            "text/plain": [
              "Dataset({\n",
              "    features: ['question', 'id', 'context', 'answers'],\n",
              "    num_rows: 2496\n",
              "})"
            ]
          },
          "metadata": {},
          "execution_count": 14
        }
      ]
    },
    {
      "cell_type": "code",
      "source": [
        "#dataset_train_test"
      ],
      "metadata": {
        "colab": {
          "base_uri": "https://localhost:8080/"
        },
        "id": "CySbv_LLjKS-",
        "outputId": "9ffc47ac-df29-4f52-8555-9e351a9871fa"
      },
      "execution_count": null,
      "outputs": [
        {
          "output_type": "execute_result",
          "data": {
            "text/plain": [
              "DatasetDict({\n",
              "    train: Dataset({\n",
              "        features: ['id', 'title', 'context', 'question', 'answers'],\n",
              "        num_rows: 117287\n",
              "    })\n",
              "    test: Dataset({\n",
              "        features: ['id', 'title', 'context', 'question', 'answers'],\n",
              "        num_rows: 13032\n",
              "    })\n",
              "})"
            ]
          },
          "metadata": {},
          "execution_count": 9
        }
      ]
    },
    {
      "cell_type": "code",
      "source": [
        "# train = dataset_train_val['train']\n",
        "# validation = dataset_train_val['validation']\n",
        "# test = dataset_train_test['test']"
      ],
      "metadata": {
        "id": "akSq0caWY896"
      },
      "execution_count": null,
      "outputs": []
    },
    {
      "cell_type": "code",
      "source": [
        "train.save_to_disk('drive/MyDrive/w266/data/SQuAD/train_master.json')\n",
        "validation.save_to_disk('drive/MyDrive/w266/data/SQuAD/validation_master.json')\n",
        "test.save_to_disk('drive/MyDrive/w266/data/SQuAD/test_master.json')"
      ],
      "metadata": {
        "colab": {
          "base_uri": "https://localhost:8080/",
          "height": 49,
          "referenced_widgets": [
            "9cd2e70ca2814eed877652198b7fb651",
            "c2b16c19aa65425a8711f797da88d995",
            "f06442ae366c469a90f6c7b253ffed8f",
            "f172919c57aa4b15bc8a2de640faa66b",
            "1e1f0da390894ccc94d06eb9e355135a",
            "eedafedf31b644d58106de25fdab8aa8",
            "a29d61c2324543709ff67e4bd61aaa45",
            "15cc58fadc7d4c298aa6499f87ae149d",
            "4bf9036b94a54755830caa53930d9650",
            "5f34da4440244974be2c615b4e209160",
            "258529ce235d4d0fa35fee68b4cc7997"
          ]
        },
        "id": "B0C13mwcPqL7",
        "outputId": "af959384-1fec-46e3-8752-a607bb30fbc4"
      },
      "execution_count": null,
      "outputs": [
        {
          "output_type": "display_data",
          "data": {
            "text/plain": [
              "Flattening the indices:   0%|          | 0/14 [00:00<?, ?ba/s]"
            ],
            "application/vnd.jupyter.widget-view+json": {
              "version_major": 2,
              "version_minor": 0,
              "model_id": "9cd2e70ca2814eed877652198b7fb651"
            }
          },
          "metadata": {}
        }
      ]
    },
    {
      "cell_type": "markdown",
      "metadata": {
        "id": "n9qywopnIrJH"
      },
      "source": [
        "## Preprocessing the training data"
      ]
    },
    {
      "cell_type": "markdown",
      "source": [
        "We will use TokenizerFast and leverage a few properties for QA task, such as return offset mapping etc. "
      ],
      "metadata": {
        "id": "XF3sXWFvP_kT"
      }
    },
    {
      "cell_type": "code",
      "execution_count": 16,
      "metadata": {
        "id": "eXNLu_-nIrJI"
      },
      "outputs": [],
      "source": [
        "from transformers import AutoTokenizer\n",
        "    \n",
        "tokenizer = AutoTokenizer.from_pretrained(model_checkpoint)"
      ]
    },
    {
      "cell_type": "code",
      "execution_count": 17,
      "metadata": {
        "id": "F7My3UCA-HqX"
      },
      "outputs": [],
      "source": [
        "import transformers\n",
        "assert isinstance(tokenizer, transformers.PreTrainedTokenizerFast)"
      ]
    },
    {
      "cell_type": "code",
      "execution_count": 18,
      "metadata": {
        "id": "a5hBlsrHIrJL"
      },
      "outputs": [],
      "source": [
        "# tokenizer(\"What is your name?\", \"My name is Sylvain.\")"
      ]
    },
    {
      "cell_type": "code",
      "execution_count": 19,
      "metadata": {
        "id": "1AZ1C44--HqY"
      },
      "outputs": [],
      "source": [
        "max_length = 384 # The maximum length of a feature (question and context)\n",
        "doc_stride = 128 # The authorized overlap between two part of the context when splitting it is needed."
      ]
    },
    {
      "cell_type": "code",
      "execution_count": 20,
      "metadata": {
        "id": "IDofBnPV-Hqe"
      },
      "outputs": [],
      "source": [
        "pad_on_right = tokenizer.padding_side == \"right\""
      ]
    },
    {
      "cell_type": "code",
      "execution_count": 21,
      "metadata": {
        "id": "PJTkLdpS-Hqe"
      },
      "outputs": [],
      "source": [
        "def prepare_train_features(examples):\n",
        "    # remove white space in question section \n",
        "    # left whitespace\n",
        "    examples[\"question\"] = [q.lstrip() for q in examples[\"question\"]]\n",
        "\n",
        "    # Tokenize with truncation and padding, but keep the overflows using a stride. This results\n",
        "    # in one example possible giving several features when a context is long, each of those features having a\n",
        "    # context that overlaps a bit the context of the previous feature.\n",
        "    tokenized_examples = tokenizer(\n",
        "        examples[\"question\" if pad_on_right else \"context\"],\n",
        "        examples[\"context\" if pad_on_right else \"question\"],\n",
        "        truncation=\"only_second\" if pad_on_right else \"only_first\",\n",
        "        max_length=max_length,\n",
        "        stride=doc_stride,\n",
        "        return_overflowing_tokens=True,\n",
        "        return_offsets_mapping=True,\n",
        "        padding=\"max_length\",\n",
        "    )\n",
        "\n",
        "    # maps feature back to sample\n",
        "    sample_mapping = tokenized_examples.pop(\"overflow_to_sample_mapping\")\n",
        "    # map from token to character position in the original context. \n",
        "    offset_mapping = tokenized_examples.pop(\"offset_mapping\")\n",
        "\n",
        "    # Let's label those examples!\n",
        "    tokenized_examples[\"start_positions\"] = []\n",
        "    tokenized_examples[\"end_positions\"] = []\n",
        "\n",
        "    for i, offsets in enumerate(offset_mapping):\n",
        "        # label impossible answers with the index of the CLS token.\n",
        "        input_ids = tokenized_examples[\"input_ids\"][i]\n",
        "        cls_index = input_ids.index(tokenizer.cls_token_id)\n",
        "\n",
        "        # Grab the sequence corresponding to that example (to know what is the context and what is the question).\n",
        "        sequence_ids = tokenized_examples.sequence_ids(i)\n",
        "\n",
        "        # One example can give several spans, this is the index of the example containing this span of text.\n",
        "        sample_index = sample_mapping[i]\n",
        "        answers = examples[\"answers\"][sample_index]\n",
        "        # If no answers are given, set the cls_index as answer.\n",
        "        if len(answers[\"answer_start\"]) == 0:\n",
        "            tokenized_examples[\"start_positions\"].append(cls_index)\n",
        "            tokenized_examples[\"end_positions\"].append(cls_index)\n",
        "        else:\n",
        "            # Start/end character index of the answer in the text.\n",
        "            start_char = answers[\"answer_start\"][0]\n",
        "            end_char = start_char + len(answers[\"text\"][0])\n",
        "\n",
        "            # Start token index of the current span in the text.\n",
        "            token_start_index = 0\n",
        "            while sequence_ids[token_start_index] != (1 if pad_on_right else 0):\n",
        "                token_start_index += 1\n",
        "\n",
        "            # End token index of the current span in the text.\n",
        "            token_end_index = len(input_ids) - 1\n",
        "            while sequence_ids[token_end_index] != (1 if pad_on_right else 0):\n",
        "                token_end_index -= 1\n",
        "\n",
        "            # Detect if the answer is out of the span (in which case this feature is labeled with the CLS index).\n",
        "            if not (offsets[token_start_index][0] <= start_char and offsets[token_end_index][1] >= end_char):\n",
        "                tokenized_examples[\"start_positions\"].append(cls_index)\n",
        "                tokenized_examples[\"end_positions\"].append(cls_index)\n",
        "            else:\n",
        "                # Otherwise move the token_start_index and token_end_index to the two ends of the answer.\n",
        "                # Note: we could go after the last offset if the answer is the last word (edge case).\n",
        "                while token_start_index < len(offsets) and offsets[token_start_index][0] <= start_char:\n",
        "                    token_start_index += 1\n",
        "                tokenized_examples[\"start_positions\"].append(token_start_index - 1)\n",
        "                while offsets[token_end_index][1] >= end_char:\n",
        "                    token_end_index -= 1\n",
        "                tokenized_examples[\"end_positions\"].append(token_end_index + 1)\n",
        "\n",
        "    return tokenized_examples"
      ]
    },
    {
      "cell_type": "code",
      "execution_count": 22,
      "metadata": {
        "id": "DDtsaJeVIrJT",
        "outputId": "d75b4747-9e3c-4fe5-eb9e-cafa9f342012",
        "colab": {
          "base_uri": "https://localhost:8080/",
          "height": 81,
          "referenced_widgets": [
            "e171954349a64a24bf74c57c69ec9c44",
            "e5d1fdea681145c3a6143b4dca8275c1",
            "e62296fae91a4a40a5f5653879fec7aa",
            "d6391b0e82c9415ebc7664a692c91ba3",
            "14370d53de22440ea209a1197a1b26ed",
            "a183a9b3d314437fad2f0ccfa9c5d444",
            "80e82c57334f4735984201c1b78ca479",
            "a1424d3708b449acb33107f4a5c5c263",
            "9d91022e293444c69381e6b07752ce2b",
            "71034debbdbf4e47a1fd47ffe9821948",
            "4f354ec8b5d24c59b25f3fbac4025603",
            "e4382393a2d241118528b964be7efe13",
            "95b7ef877b49424fbc617153835afb04",
            "b88dd38b15884de896deb3ed7300c21a",
            "6a81746aac6644b186849c3a240d299e",
            "bbc524aa13fd44b484a22d4fa37736dd",
            "a026077e83f440eb9e2ef944df4463c4",
            "d558fa4855f64bb1a9960ea4340b51e3",
            "efdba90c9ded4e56a046fc55bd2acac2",
            "154dd44305254ebea611f5812628ba97",
            "86136201c64d4d78962951835f8c15ba",
            "585d1bc822104950b65d0c8e9b0ae896"
          ]
        }
      },
      "outputs": [
        {
          "output_type": "display_data",
          "data": {
            "text/plain": [
              "  0%|          | 0/20 [00:00<?, ?ba/s]"
            ],
            "application/vnd.jupyter.widget-view+json": {
              "version_major": 2,
              "version_minor": 0,
              "model_id": "e171954349a64a24bf74c57c69ec9c44"
            }
          },
          "metadata": {}
        },
        {
          "output_type": "display_data",
          "data": {
            "text/plain": [
              "  0%|          | 0/3 [00:00<?, ?ba/s]"
            ],
            "application/vnd.jupyter.widget-view+json": {
              "version_major": 2,
              "version_minor": 0,
              "model_id": "e4382393a2d241118528b964be7efe13"
            }
          },
          "metadata": {}
        }
      ],
      "source": [
        "tokenized_train = train.map(prepare_train_features, batched=True, remove_columns=train.column_names)\n",
        "tokenized_test = test.map(prepare_train_features, batched=True, remove_columns=test.column_names)"
      ]
    },
    {
      "cell_type": "markdown",
      "metadata": {
        "id": "545PP3o8IrJV"
      },
      "source": [
        "## Fine-tuning the model"
      ]
    },
    {
      "cell_type": "code",
      "execution_count": 64,
      "metadata": {
        "id": "TlqNaB8jIrJW",
        "colab": {
          "base_uri": "https://localhost:8080/"
        },
        "outputId": "5f1dbaff-cf87-4584-cb53-1168f1f2ec91"
      },
      "outputs": [
        {
          "output_type": "stream",
          "name": "stderr",
          "text": [
            "loading configuration file drive/MyDrive/w266/model_checkpoints/DistilBert-NQ-TriviaQA-cased-trained/checkpoint-45500/config.json\n",
            "Model config DistilBertConfig {\n",
            "  \"_name_or_path\": \"drive/MyDrive/w266/model_checkpoints/DistilBert-NQ-TriviaQA-cased-trained/checkpoint-45500\",\n",
            "  \"activation\": \"gelu\",\n",
            "  \"architectures\": [\n",
            "    \"DistilBertForQuestionAnswering\"\n",
            "  ],\n",
            "  \"attention_dropout\": 0.1,\n",
            "  \"dim\": 768,\n",
            "  \"dropout\": 0.1,\n",
            "  \"hidden_dim\": 3072,\n",
            "  \"initializer_range\": 0.02,\n",
            "  \"max_position_embeddings\": 512,\n",
            "  \"model_type\": \"distilbert\",\n",
            "  \"n_heads\": 12,\n",
            "  \"n_layers\": 6,\n",
            "  \"output_past\": true,\n",
            "  \"pad_token_id\": 0,\n",
            "  \"qa_dropout\": 0.1,\n",
            "  \"seq_classif_dropout\": 0.2,\n",
            "  \"sinusoidal_pos_embds\": false,\n",
            "  \"tie_weights_\": true,\n",
            "  \"torch_dtype\": \"float32\",\n",
            "  \"transformers_version\": \"4.21.0\",\n",
            "  \"vocab_size\": 28996\n",
            "}\n",
            "\n",
            "loading weights file drive/MyDrive/w266/model_checkpoints/DistilBert-NQ-TriviaQA-cased-trained/checkpoint-45500/pytorch_model.bin\n",
            "All model checkpoint weights were used when initializing DistilBertForQuestionAnswering.\n",
            "\n",
            "All the weights of DistilBertForQuestionAnswering were initialized from the model checkpoint at drive/MyDrive/w266/model_checkpoints/DistilBert-NQ-TriviaQA-cased-trained/checkpoint-45500.\n",
            "If your task is similar to the task the model of the checkpoint was trained on, you can already use DistilBertForQuestionAnswering for predictions without further training.\n"
          ]
        }
      ],
      "source": [
        "from transformers import AutoModelForQuestionAnswering, TrainingArguments, Trainer\n",
        "\n",
        "model = AutoModelForQuestionAnswering.from_pretrained(model_checkpoint)"
      ]
    },
    {
      "cell_type": "code",
      "execution_count": 69,
      "metadata": {
        "id": "Bliy8zgjIrJY",
        "colab": {
          "base_uri": "https://localhost:8080/"
        },
        "outputId": "7c3a5a74-d191-4317-84ec-e47cae9eed9a"
      },
      "outputs": [
        {
          "output_type": "stream",
          "name": "stderr",
          "text": [
            "PyTorch: setting up devices\n",
            "The default value for the training argument `--report_to` will change in v5 (from all installed integrations to none). In v5, you will need to use `--report_to all` to get the same behavior as now. You should start updating your code and make this info disappear :-).\n"
          ]
        }
      ],
      "source": [
        "model_name = model_checkpoint.split(\"/\")[-1]\n",
        "args = TrainingArguments(\n",
        "    output_dir = 'drive/MyDrive/w266/model_checkpoints/DistilBert-NQ-TriviaQA-cased-trained',\n",
        "    evaluation_strategy = \"epoch\",\n",
        "    learning_rate=2e-5,\n",
        "    per_device_train_batch_size=batch_size,\n",
        "    per_device_eval_batch_size=batch_size,\n",
        "    num_train_epochs=1,\n",
        "    weight_decay=0.01\n",
        ")\n",
        "\n",
        "    # push_to_hub=True,"
      ]
    },
    {
      "cell_type": "code",
      "execution_count": 48,
      "metadata": {
        "id": "b71qS156-Hqh"
      },
      "outputs": [],
      "source": [
        "from transformers import default_data_collator\n",
        "\n",
        "data_collator = default_data_collator"
      ]
    },
    {
      "cell_type": "code",
      "execution_count": 70,
      "metadata": {
        "id": "imY1oC3SIrJf"
      },
      "outputs": [],
      "source": [
        "trainer = Trainer(\n",
        "    model,\n",
        "    args,\n",
        "    train_dataset=tokenized_train,\n",
        "    eval_dataset=tokenized_test,\n",
        "    data_collator=data_collator,\n",
        "    tokenizer=tokenizer,\n",
        ")\n",
        "\n",
        "\n",
        "    # eval_dataset=tokenized_datasets[\"validation\"],"
      ]
    },
    {
      "cell_type": "code",
      "execution_count": 71,
      "metadata": {
        "id": "uNx5pyRlIrJh",
        "outputId": "a97b2646-cda0-489d-c6d6-36ad0e2248fc",
        "colab": {
          "base_uri": "https://localhost:8080/",
          "height": 1000,
          "referenced_widgets": [
            "8c2f7a4e2b884e3089665d999d9446c8",
            "dd96f7c036204e9da33b2c5105b5b732",
            "fab4a894942f4bacafba9ba4f9f01a05",
            "cffe84ee2cbc41648a18ae86443e033a",
            "4cff872c68254f3db87cb50421eb8091",
            "7c963e1b51f048f69b8f6389b00d2aea",
            "4442fce82d5c4edd96f2a6db0cf1e406",
            "46ee994c481049a3a9074aa8296ea55e",
            "214cee7a03df448ab307a30f7a72720b",
            "e55716240f174adb8f88b533393636ea",
            "59382330dfb344fda7f7fca73e776009"
          ]
        }
      },
      "outputs": [
        {
          "output_type": "stream",
          "name": "stderr",
          "text": [
            "Loading model from drive/MyDrive/w266/model_checkpoints/DistilBert-NQ-TriviaQA-cased-trained/checkpoint-45500.\n",
            "/usr/local/lib/python3.7/dist-packages/transformers/optimization.py:310: FutureWarning: This implementation of AdamW is deprecated and will be removed in a future version. Use the PyTorch implementation torch.optim.AdamW instead, or set `no_deprecation_warning=True` to disable this warning\n",
            "  FutureWarning,\n",
            "***** Running training *****\n",
            "  Num examples = 1253082\n",
            "  Num Epochs = 1\n",
            "  Instantaneous batch size per device = 16\n",
            "  Total train batch size (w. parallel, distributed & accumulation) = 16\n",
            "  Gradient Accumulation steps = 1\n",
            "  Total optimization steps = 78318\n",
            "  Continuing training from checkpoint, will skip to saved global_step\n",
            "  Continuing training from epoch 0\n",
            "  Continuing training from global step 45500\n",
            "  Will skip the first 0 epochs then the first 45500 batches in the first epoch. If this takes a lot of time, you can add the `--ignore_data_skip` flag to your launch command, but you will resume the training on data already seen by your model.\n"
          ]
        },
        {
          "output_type": "display_data",
          "data": {
            "text/plain": [
              "  0%|          | 0/45500 [00:00<?, ?it/s]"
            ],
            "application/vnd.jupyter.widget-view+json": {
              "version_major": 2,
              "version_minor": 0,
              "model_id": "8c2f7a4e2b884e3089665d999d9446c8"
            }
          },
          "metadata": {}
        },
        {
          "output_type": "display_data",
          "data": {
            "text/plain": [
              "<IPython.core.display.HTML object>"
            ],
            "text/html": [
              "\n",
              "    <div>\n",
              "      \n",
              "      <progress value='78318' max='78318' style='width:300px; height:20px; vertical-align: middle;'></progress>\n",
              "      [78318/78318 3:11:35, Epoch 1/1]\n",
              "    </div>\n",
              "    <table border=\"1\" class=\"dataframe\">\n",
              "  <thead>\n",
              " <tr style=\"text-align: left;\">\n",
              "      <th>Epoch</th>\n",
              "      <th>Training Loss</th>\n",
              "      <th>Validation Loss</th>\n",
              "    </tr>\n",
              "  </thead>\n",
              "  <tbody>\n",
              "    <tr>\n",
              "      <td>1</td>\n",
              "      <td>0.095000</td>\n",
              "      <td>0.080620</td>\n",
              "    </tr>\n",
              "  </tbody>\n",
              "</table><p>"
            ]
          },
          "metadata": {}
        },
        {
          "output_type": "stream",
          "name": "stderr",
          "text": [
            "Saving model checkpoint to drive/MyDrive/w266/model_checkpoints/DistilBert-NQ-TriviaQA-cased-trained/checkpoint-46000\n",
            "Configuration saved in drive/MyDrive/w266/model_checkpoints/DistilBert-NQ-TriviaQA-cased-trained/checkpoint-46000/config.json\n",
            "Model weights saved in drive/MyDrive/w266/model_checkpoints/DistilBert-NQ-TriviaQA-cased-trained/checkpoint-46000/pytorch_model.bin\n",
            "tokenizer config file saved in drive/MyDrive/w266/model_checkpoints/DistilBert-NQ-TriviaQA-cased-trained/checkpoint-46000/tokenizer_config.json\n",
            "Special tokens file saved in drive/MyDrive/w266/model_checkpoints/DistilBert-NQ-TriviaQA-cased-trained/checkpoint-46000/special_tokens_map.json\n",
            "Saving model checkpoint to drive/MyDrive/w266/model_checkpoints/DistilBert-NQ-TriviaQA-cased-trained/checkpoint-46500\n",
            "Configuration saved in drive/MyDrive/w266/model_checkpoints/DistilBert-NQ-TriviaQA-cased-trained/checkpoint-46500/config.json\n",
            "Model weights saved in drive/MyDrive/w266/model_checkpoints/DistilBert-NQ-TriviaQA-cased-trained/checkpoint-46500/pytorch_model.bin\n",
            "tokenizer config file saved in drive/MyDrive/w266/model_checkpoints/DistilBert-NQ-TriviaQA-cased-trained/checkpoint-46500/tokenizer_config.json\n",
            "Special tokens file saved in drive/MyDrive/w266/model_checkpoints/DistilBert-NQ-TriviaQA-cased-trained/checkpoint-46500/special_tokens_map.json\n",
            "Saving model checkpoint to drive/MyDrive/w266/model_checkpoints/DistilBert-NQ-TriviaQA-cased-trained/checkpoint-47000\n",
            "Configuration saved in drive/MyDrive/w266/model_checkpoints/DistilBert-NQ-TriviaQA-cased-trained/checkpoint-47000/config.json\n",
            "Model weights saved in drive/MyDrive/w266/model_checkpoints/DistilBert-NQ-TriviaQA-cased-trained/checkpoint-47000/pytorch_model.bin\n",
            "tokenizer config file saved in drive/MyDrive/w266/model_checkpoints/DistilBert-NQ-TriviaQA-cased-trained/checkpoint-47000/tokenizer_config.json\n",
            "Special tokens file saved in drive/MyDrive/w266/model_checkpoints/DistilBert-NQ-TriviaQA-cased-trained/checkpoint-47000/special_tokens_map.json\n",
            "Saving model checkpoint to drive/MyDrive/w266/model_checkpoints/DistilBert-NQ-TriviaQA-cased-trained/checkpoint-47500\n",
            "Configuration saved in drive/MyDrive/w266/model_checkpoints/DistilBert-NQ-TriviaQA-cased-trained/checkpoint-47500/config.json\n",
            "Model weights saved in drive/MyDrive/w266/model_checkpoints/DistilBert-NQ-TriviaQA-cased-trained/checkpoint-47500/pytorch_model.bin\n",
            "tokenizer config file saved in drive/MyDrive/w266/model_checkpoints/DistilBert-NQ-TriviaQA-cased-trained/checkpoint-47500/tokenizer_config.json\n",
            "Special tokens file saved in drive/MyDrive/w266/model_checkpoints/DistilBert-NQ-TriviaQA-cased-trained/checkpoint-47500/special_tokens_map.json\n",
            "Saving model checkpoint to drive/MyDrive/w266/model_checkpoints/DistilBert-NQ-TriviaQA-cased-trained/checkpoint-48000\n",
            "Configuration saved in drive/MyDrive/w266/model_checkpoints/DistilBert-NQ-TriviaQA-cased-trained/checkpoint-48000/config.json\n",
            "Model weights saved in drive/MyDrive/w266/model_checkpoints/DistilBert-NQ-TriviaQA-cased-trained/checkpoint-48000/pytorch_model.bin\n",
            "tokenizer config file saved in drive/MyDrive/w266/model_checkpoints/DistilBert-NQ-TriviaQA-cased-trained/checkpoint-48000/tokenizer_config.json\n",
            "Special tokens file saved in drive/MyDrive/w266/model_checkpoints/DistilBert-NQ-TriviaQA-cased-trained/checkpoint-48000/special_tokens_map.json\n",
            "Saving model checkpoint to drive/MyDrive/w266/model_checkpoints/DistilBert-NQ-TriviaQA-cased-trained/checkpoint-48500\n",
            "Configuration saved in drive/MyDrive/w266/model_checkpoints/DistilBert-NQ-TriviaQA-cased-trained/checkpoint-48500/config.json\n",
            "Model weights saved in drive/MyDrive/w266/model_checkpoints/DistilBert-NQ-TriviaQA-cased-trained/checkpoint-48500/pytorch_model.bin\n",
            "tokenizer config file saved in drive/MyDrive/w266/model_checkpoints/DistilBert-NQ-TriviaQA-cased-trained/checkpoint-48500/tokenizer_config.json\n",
            "Special tokens file saved in drive/MyDrive/w266/model_checkpoints/DistilBert-NQ-TriviaQA-cased-trained/checkpoint-48500/special_tokens_map.json\n",
            "Saving model checkpoint to drive/MyDrive/w266/model_checkpoints/DistilBert-NQ-TriviaQA-cased-trained/checkpoint-49000\n",
            "Configuration saved in drive/MyDrive/w266/model_checkpoints/DistilBert-NQ-TriviaQA-cased-trained/checkpoint-49000/config.json\n",
            "Model weights saved in drive/MyDrive/w266/model_checkpoints/DistilBert-NQ-TriviaQA-cased-trained/checkpoint-49000/pytorch_model.bin\n",
            "tokenizer config file saved in drive/MyDrive/w266/model_checkpoints/DistilBert-NQ-TriviaQA-cased-trained/checkpoint-49000/tokenizer_config.json\n",
            "Special tokens file saved in drive/MyDrive/w266/model_checkpoints/DistilBert-NQ-TriviaQA-cased-trained/checkpoint-49000/special_tokens_map.json\n",
            "Saving model checkpoint to drive/MyDrive/w266/model_checkpoints/DistilBert-NQ-TriviaQA-cased-trained/checkpoint-49500\n",
            "Configuration saved in drive/MyDrive/w266/model_checkpoints/DistilBert-NQ-TriviaQA-cased-trained/checkpoint-49500/config.json\n",
            "Model weights saved in drive/MyDrive/w266/model_checkpoints/DistilBert-NQ-TriviaQA-cased-trained/checkpoint-49500/pytorch_model.bin\n",
            "tokenizer config file saved in drive/MyDrive/w266/model_checkpoints/DistilBert-NQ-TriviaQA-cased-trained/checkpoint-49500/tokenizer_config.json\n",
            "Special tokens file saved in drive/MyDrive/w266/model_checkpoints/DistilBert-NQ-TriviaQA-cased-trained/checkpoint-49500/special_tokens_map.json\n",
            "Saving model checkpoint to drive/MyDrive/w266/model_checkpoints/DistilBert-NQ-TriviaQA-cased-trained/checkpoint-50000\n",
            "Configuration saved in drive/MyDrive/w266/model_checkpoints/DistilBert-NQ-TriviaQA-cased-trained/checkpoint-50000/config.json\n",
            "Model weights saved in drive/MyDrive/w266/model_checkpoints/DistilBert-NQ-TriviaQA-cased-trained/checkpoint-50000/pytorch_model.bin\n",
            "tokenizer config file saved in drive/MyDrive/w266/model_checkpoints/DistilBert-NQ-TriviaQA-cased-trained/checkpoint-50000/tokenizer_config.json\n",
            "Special tokens file saved in drive/MyDrive/w266/model_checkpoints/DistilBert-NQ-TriviaQA-cased-trained/checkpoint-50000/special_tokens_map.json\n",
            "Saving model checkpoint to drive/MyDrive/w266/model_checkpoints/DistilBert-NQ-TriviaQA-cased-trained/checkpoint-50500\n",
            "Configuration saved in drive/MyDrive/w266/model_checkpoints/DistilBert-NQ-TriviaQA-cased-trained/checkpoint-50500/config.json\n",
            "Model weights saved in drive/MyDrive/w266/model_checkpoints/DistilBert-NQ-TriviaQA-cased-trained/checkpoint-50500/pytorch_model.bin\n",
            "tokenizer config file saved in drive/MyDrive/w266/model_checkpoints/DistilBert-NQ-TriviaQA-cased-trained/checkpoint-50500/tokenizer_config.json\n",
            "Special tokens file saved in drive/MyDrive/w266/model_checkpoints/DistilBert-NQ-TriviaQA-cased-trained/checkpoint-50500/special_tokens_map.json\n",
            "Saving model checkpoint to drive/MyDrive/w266/model_checkpoints/DistilBert-NQ-TriviaQA-cased-trained/checkpoint-51000\n",
            "Configuration saved in drive/MyDrive/w266/model_checkpoints/DistilBert-NQ-TriviaQA-cased-trained/checkpoint-51000/config.json\n",
            "Model weights saved in drive/MyDrive/w266/model_checkpoints/DistilBert-NQ-TriviaQA-cased-trained/checkpoint-51000/pytorch_model.bin\n",
            "tokenizer config file saved in drive/MyDrive/w266/model_checkpoints/DistilBert-NQ-TriviaQA-cased-trained/checkpoint-51000/tokenizer_config.json\n",
            "Special tokens file saved in drive/MyDrive/w266/model_checkpoints/DistilBert-NQ-TriviaQA-cased-trained/checkpoint-51000/special_tokens_map.json\n",
            "Saving model checkpoint to drive/MyDrive/w266/model_checkpoints/DistilBert-NQ-TriviaQA-cased-trained/checkpoint-51500\n",
            "Configuration saved in drive/MyDrive/w266/model_checkpoints/DistilBert-NQ-TriviaQA-cased-trained/checkpoint-51500/config.json\n",
            "Model weights saved in drive/MyDrive/w266/model_checkpoints/DistilBert-NQ-TriviaQA-cased-trained/checkpoint-51500/pytorch_model.bin\n",
            "tokenizer config file saved in drive/MyDrive/w266/model_checkpoints/DistilBert-NQ-TriviaQA-cased-trained/checkpoint-51500/tokenizer_config.json\n",
            "Special tokens file saved in drive/MyDrive/w266/model_checkpoints/DistilBert-NQ-TriviaQA-cased-trained/checkpoint-51500/special_tokens_map.json\n",
            "Saving model checkpoint to drive/MyDrive/w266/model_checkpoints/DistilBert-NQ-TriviaQA-cased-trained/checkpoint-52000\n",
            "Configuration saved in drive/MyDrive/w266/model_checkpoints/DistilBert-NQ-TriviaQA-cased-trained/checkpoint-52000/config.json\n",
            "Model weights saved in drive/MyDrive/w266/model_checkpoints/DistilBert-NQ-TriviaQA-cased-trained/checkpoint-52000/pytorch_model.bin\n",
            "tokenizer config file saved in drive/MyDrive/w266/model_checkpoints/DistilBert-NQ-TriviaQA-cased-trained/checkpoint-52000/tokenizer_config.json\n",
            "Special tokens file saved in drive/MyDrive/w266/model_checkpoints/DistilBert-NQ-TriviaQA-cased-trained/checkpoint-52000/special_tokens_map.json\n",
            "Saving model checkpoint to drive/MyDrive/w266/model_checkpoints/DistilBert-NQ-TriviaQA-cased-trained/checkpoint-52500\n",
            "Configuration saved in drive/MyDrive/w266/model_checkpoints/DistilBert-NQ-TriviaQA-cased-trained/checkpoint-52500/config.json\n",
            "Model weights saved in drive/MyDrive/w266/model_checkpoints/DistilBert-NQ-TriviaQA-cased-trained/checkpoint-52500/pytorch_model.bin\n",
            "tokenizer config file saved in drive/MyDrive/w266/model_checkpoints/DistilBert-NQ-TriviaQA-cased-trained/checkpoint-52500/tokenizer_config.json\n",
            "Special tokens file saved in drive/MyDrive/w266/model_checkpoints/DistilBert-NQ-TriviaQA-cased-trained/checkpoint-52500/special_tokens_map.json\n",
            "Saving model checkpoint to drive/MyDrive/w266/model_checkpoints/DistilBert-NQ-TriviaQA-cased-trained/checkpoint-53000\n",
            "Configuration saved in drive/MyDrive/w266/model_checkpoints/DistilBert-NQ-TriviaQA-cased-trained/checkpoint-53000/config.json\n",
            "Model weights saved in drive/MyDrive/w266/model_checkpoints/DistilBert-NQ-TriviaQA-cased-trained/checkpoint-53000/pytorch_model.bin\n",
            "tokenizer config file saved in drive/MyDrive/w266/model_checkpoints/DistilBert-NQ-TriviaQA-cased-trained/checkpoint-53000/tokenizer_config.json\n",
            "Special tokens file saved in drive/MyDrive/w266/model_checkpoints/DistilBert-NQ-TriviaQA-cased-trained/checkpoint-53000/special_tokens_map.json\n",
            "Saving model checkpoint to drive/MyDrive/w266/model_checkpoints/DistilBert-NQ-TriviaQA-cased-trained/checkpoint-53500\n",
            "Configuration saved in drive/MyDrive/w266/model_checkpoints/DistilBert-NQ-TriviaQA-cased-trained/checkpoint-53500/config.json\n",
            "Model weights saved in drive/MyDrive/w266/model_checkpoints/DistilBert-NQ-TriviaQA-cased-trained/checkpoint-53500/pytorch_model.bin\n",
            "tokenizer config file saved in drive/MyDrive/w266/model_checkpoints/DistilBert-NQ-TriviaQA-cased-trained/checkpoint-53500/tokenizer_config.json\n",
            "Special tokens file saved in drive/MyDrive/w266/model_checkpoints/DistilBert-NQ-TriviaQA-cased-trained/checkpoint-53500/special_tokens_map.json\n",
            "Saving model checkpoint to drive/MyDrive/w266/model_checkpoints/DistilBert-NQ-TriviaQA-cased-trained/checkpoint-54000\n",
            "Configuration saved in drive/MyDrive/w266/model_checkpoints/DistilBert-NQ-TriviaQA-cased-trained/checkpoint-54000/config.json\n",
            "Model weights saved in drive/MyDrive/w266/model_checkpoints/DistilBert-NQ-TriviaQA-cased-trained/checkpoint-54000/pytorch_model.bin\n",
            "tokenizer config file saved in drive/MyDrive/w266/model_checkpoints/DistilBert-NQ-TriviaQA-cased-trained/checkpoint-54000/tokenizer_config.json\n",
            "Special tokens file saved in drive/MyDrive/w266/model_checkpoints/DistilBert-NQ-TriviaQA-cased-trained/checkpoint-54000/special_tokens_map.json\n",
            "Saving model checkpoint to drive/MyDrive/w266/model_checkpoints/DistilBert-NQ-TriviaQA-cased-trained/checkpoint-54500\n",
            "Configuration saved in drive/MyDrive/w266/model_checkpoints/DistilBert-NQ-TriviaQA-cased-trained/checkpoint-54500/config.json\n",
            "Model weights saved in drive/MyDrive/w266/model_checkpoints/DistilBert-NQ-TriviaQA-cased-trained/checkpoint-54500/pytorch_model.bin\n",
            "tokenizer config file saved in drive/MyDrive/w266/model_checkpoints/DistilBert-NQ-TriviaQA-cased-trained/checkpoint-54500/tokenizer_config.json\n",
            "Special tokens file saved in drive/MyDrive/w266/model_checkpoints/DistilBert-NQ-TriviaQA-cased-trained/checkpoint-54500/special_tokens_map.json\n",
            "Saving model checkpoint to drive/MyDrive/w266/model_checkpoints/DistilBert-NQ-TriviaQA-cased-trained/checkpoint-55000\n",
            "Configuration saved in drive/MyDrive/w266/model_checkpoints/DistilBert-NQ-TriviaQA-cased-trained/checkpoint-55000/config.json\n",
            "Model weights saved in drive/MyDrive/w266/model_checkpoints/DistilBert-NQ-TriviaQA-cased-trained/checkpoint-55000/pytorch_model.bin\n",
            "tokenizer config file saved in drive/MyDrive/w266/model_checkpoints/DistilBert-NQ-TriviaQA-cased-trained/checkpoint-55000/tokenizer_config.json\n",
            "Special tokens file saved in drive/MyDrive/w266/model_checkpoints/DistilBert-NQ-TriviaQA-cased-trained/checkpoint-55000/special_tokens_map.json\n",
            "Saving model checkpoint to drive/MyDrive/w266/model_checkpoints/DistilBert-NQ-TriviaQA-cased-trained/checkpoint-55500\n",
            "Configuration saved in drive/MyDrive/w266/model_checkpoints/DistilBert-NQ-TriviaQA-cased-trained/checkpoint-55500/config.json\n",
            "Model weights saved in drive/MyDrive/w266/model_checkpoints/DistilBert-NQ-TriviaQA-cased-trained/checkpoint-55500/pytorch_model.bin\n",
            "tokenizer config file saved in drive/MyDrive/w266/model_checkpoints/DistilBert-NQ-TriviaQA-cased-trained/checkpoint-55500/tokenizer_config.json\n",
            "Special tokens file saved in drive/MyDrive/w266/model_checkpoints/DistilBert-NQ-TriviaQA-cased-trained/checkpoint-55500/special_tokens_map.json\n",
            "Saving model checkpoint to drive/MyDrive/w266/model_checkpoints/DistilBert-NQ-TriviaQA-cased-trained/checkpoint-56000\n",
            "Configuration saved in drive/MyDrive/w266/model_checkpoints/DistilBert-NQ-TriviaQA-cased-trained/checkpoint-56000/config.json\n",
            "Model weights saved in drive/MyDrive/w266/model_checkpoints/DistilBert-NQ-TriviaQA-cased-trained/checkpoint-56000/pytorch_model.bin\n",
            "tokenizer config file saved in drive/MyDrive/w266/model_checkpoints/DistilBert-NQ-TriviaQA-cased-trained/checkpoint-56000/tokenizer_config.json\n",
            "Special tokens file saved in drive/MyDrive/w266/model_checkpoints/DistilBert-NQ-TriviaQA-cased-trained/checkpoint-56000/special_tokens_map.json\n",
            "Saving model checkpoint to drive/MyDrive/w266/model_checkpoints/DistilBert-NQ-TriviaQA-cased-trained/checkpoint-56500\n",
            "Configuration saved in drive/MyDrive/w266/model_checkpoints/DistilBert-NQ-TriviaQA-cased-trained/checkpoint-56500/config.json\n",
            "Model weights saved in drive/MyDrive/w266/model_checkpoints/DistilBert-NQ-TriviaQA-cased-trained/checkpoint-56500/pytorch_model.bin\n",
            "tokenizer config file saved in drive/MyDrive/w266/model_checkpoints/DistilBert-NQ-TriviaQA-cased-trained/checkpoint-56500/tokenizer_config.json\n",
            "Special tokens file saved in drive/MyDrive/w266/model_checkpoints/DistilBert-NQ-TriviaQA-cased-trained/checkpoint-56500/special_tokens_map.json\n",
            "Saving model checkpoint to drive/MyDrive/w266/model_checkpoints/DistilBert-NQ-TriviaQA-cased-trained/checkpoint-57000\n",
            "Configuration saved in drive/MyDrive/w266/model_checkpoints/DistilBert-NQ-TriviaQA-cased-trained/checkpoint-57000/config.json\n",
            "Model weights saved in drive/MyDrive/w266/model_checkpoints/DistilBert-NQ-TriviaQA-cased-trained/checkpoint-57000/pytorch_model.bin\n",
            "tokenizer config file saved in drive/MyDrive/w266/model_checkpoints/DistilBert-NQ-TriviaQA-cased-trained/checkpoint-57000/tokenizer_config.json\n",
            "Special tokens file saved in drive/MyDrive/w266/model_checkpoints/DistilBert-NQ-TriviaQA-cased-trained/checkpoint-57000/special_tokens_map.json\n",
            "Saving model checkpoint to drive/MyDrive/w266/model_checkpoints/DistilBert-NQ-TriviaQA-cased-trained/checkpoint-57500\n",
            "Configuration saved in drive/MyDrive/w266/model_checkpoints/DistilBert-NQ-TriviaQA-cased-trained/checkpoint-57500/config.json\n",
            "Model weights saved in drive/MyDrive/w266/model_checkpoints/DistilBert-NQ-TriviaQA-cased-trained/checkpoint-57500/pytorch_model.bin\n",
            "tokenizer config file saved in drive/MyDrive/w266/model_checkpoints/DistilBert-NQ-TriviaQA-cased-trained/checkpoint-57500/tokenizer_config.json\n",
            "Special tokens file saved in drive/MyDrive/w266/model_checkpoints/DistilBert-NQ-TriviaQA-cased-trained/checkpoint-57500/special_tokens_map.json\n",
            "Saving model checkpoint to drive/MyDrive/w266/model_checkpoints/DistilBert-NQ-TriviaQA-cased-trained/checkpoint-58000\n",
            "Configuration saved in drive/MyDrive/w266/model_checkpoints/DistilBert-NQ-TriviaQA-cased-trained/checkpoint-58000/config.json\n",
            "Model weights saved in drive/MyDrive/w266/model_checkpoints/DistilBert-NQ-TriviaQA-cased-trained/checkpoint-58000/pytorch_model.bin\n",
            "tokenizer config file saved in drive/MyDrive/w266/model_checkpoints/DistilBert-NQ-TriviaQA-cased-trained/checkpoint-58000/tokenizer_config.json\n",
            "Special tokens file saved in drive/MyDrive/w266/model_checkpoints/DistilBert-NQ-TriviaQA-cased-trained/checkpoint-58000/special_tokens_map.json\n",
            "Saving model checkpoint to drive/MyDrive/w266/model_checkpoints/DistilBert-NQ-TriviaQA-cased-trained/checkpoint-58500\n",
            "Configuration saved in drive/MyDrive/w266/model_checkpoints/DistilBert-NQ-TriviaQA-cased-trained/checkpoint-58500/config.json\n",
            "Model weights saved in drive/MyDrive/w266/model_checkpoints/DistilBert-NQ-TriviaQA-cased-trained/checkpoint-58500/pytorch_model.bin\n",
            "tokenizer config file saved in drive/MyDrive/w266/model_checkpoints/DistilBert-NQ-TriviaQA-cased-trained/checkpoint-58500/tokenizer_config.json\n",
            "Special tokens file saved in drive/MyDrive/w266/model_checkpoints/DistilBert-NQ-TriviaQA-cased-trained/checkpoint-58500/special_tokens_map.json\n",
            "Saving model checkpoint to drive/MyDrive/w266/model_checkpoints/DistilBert-NQ-TriviaQA-cased-trained/checkpoint-59000\n",
            "Configuration saved in drive/MyDrive/w266/model_checkpoints/DistilBert-NQ-TriviaQA-cased-trained/checkpoint-59000/config.json\n",
            "Model weights saved in drive/MyDrive/w266/model_checkpoints/DistilBert-NQ-TriviaQA-cased-trained/checkpoint-59000/pytorch_model.bin\n",
            "tokenizer config file saved in drive/MyDrive/w266/model_checkpoints/DistilBert-NQ-TriviaQA-cased-trained/checkpoint-59000/tokenizer_config.json\n",
            "Special tokens file saved in drive/MyDrive/w266/model_checkpoints/DistilBert-NQ-TriviaQA-cased-trained/checkpoint-59000/special_tokens_map.json\n",
            "Saving model checkpoint to drive/MyDrive/w266/model_checkpoints/DistilBert-NQ-TriviaQA-cased-trained/checkpoint-59500\n",
            "Configuration saved in drive/MyDrive/w266/model_checkpoints/DistilBert-NQ-TriviaQA-cased-trained/checkpoint-59500/config.json\n",
            "Model weights saved in drive/MyDrive/w266/model_checkpoints/DistilBert-NQ-TriviaQA-cased-trained/checkpoint-59500/pytorch_model.bin\n",
            "tokenizer config file saved in drive/MyDrive/w266/model_checkpoints/DistilBert-NQ-TriviaQA-cased-trained/checkpoint-59500/tokenizer_config.json\n",
            "Special tokens file saved in drive/MyDrive/w266/model_checkpoints/DistilBert-NQ-TriviaQA-cased-trained/checkpoint-59500/special_tokens_map.json\n",
            "Saving model checkpoint to drive/MyDrive/w266/model_checkpoints/DistilBert-NQ-TriviaQA-cased-trained/checkpoint-60000\n",
            "Configuration saved in drive/MyDrive/w266/model_checkpoints/DistilBert-NQ-TriviaQA-cased-trained/checkpoint-60000/config.json\n",
            "Model weights saved in drive/MyDrive/w266/model_checkpoints/DistilBert-NQ-TriviaQA-cased-trained/checkpoint-60000/pytorch_model.bin\n",
            "tokenizer config file saved in drive/MyDrive/w266/model_checkpoints/DistilBert-NQ-TriviaQA-cased-trained/checkpoint-60000/tokenizer_config.json\n",
            "Special tokens file saved in drive/MyDrive/w266/model_checkpoints/DistilBert-NQ-TriviaQA-cased-trained/checkpoint-60000/special_tokens_map.json\n",
            "Saving model checkpoint to drive/MyDrive/w266/model_checkpoints/DistilBert-NQ-TriviaQA-cased-trained/checkpoint-60500\n",
            "Configuration saved in drive/MyDrive/w266/model_checkpoints/DistilBert-NQ-TriviaQA-cased-trained/checkpoint-60500/config.json\n",
            "Model weights saved in drive/MyDrive/w266/model_checkpoints/DistilBert-NQ-TriviaQA-cased-trained/checkpoint-60500/pytorch_model.bin\n",
            "tokenizer config file saved in drive/MyDrive/w266/model_checkpoints/DistilBert-NQ-TriviaQA-cased-trained/checkpoint-60500/tokenizer_config.json\n",
            "Special tokens file saved in drive/MyDrive/w266/model_checkpoints/DistilBert-NQ-TriviaQA-cased-trained/checkpoint-60500/special_tokens_map.json\n",
            "Saving model checkpoint to drive/MyDrive/w266/model_checkpoints/DistilBert-NQ-TriviaQA-cased-trained/checkpoint-61000\n",
            "Configuration saved in drive/MyDrive/w266/model_checkpoints/DistilBert-NQ-TriviaQA-cased-trained/checkpoint-61000/config.json\n",
            "Model weights saved in drive/MyDrive/w266/model_checkpoints/DistilBert-NQ-TriviaQA-cased-trained/checkpoint-61000/pytorch_model.bin\n",
            "tokenizer config file saved in drive/MyDrive/w266/model_checkpoints/DistilBert-NQ-TriviaQA-cased-trained/checkpoint-61000/tokenizer_config.json\n",
            "Special tokens file saved in drive/MyDrive/w266/model_checkpoints/DistilBert-NQ-TriviaQA-cased-trained/checkpoint-61000/special_tokens_map.json\n",
            "Saving model checkpoint to drive/MyDrive/w266/model_checkpoints/DistilBert-NQ-TriviaQA-cased-trained/checkpoint-61500\n",
            "Configuration saved in drive/MyDrive/w266/model_checkpoints/DistilBert-NQ-TriviaQA-cased-trained/checkpoint-61500/config.json\n",
            "Model weights saved in drive/MyDrive/w266/model_checkpoints/DistilBert-NQ-TriviaQA-cased-trained/checkpoint-61500/pytorch_model.bin\n",
            "tokenizer config file saved in drive/MyDrive/w266/model_checkpoints/DistilBert-NQ-TriviaQA-cased-trained/checkpoint-61500/tokenizer_config.json\n",
            "Special tokens file saved in drive/MyDrive/w266/model_checkpoints/DistilBert-NQ-TriviaQA-cased-trained/checkpoint-61500/special_tokens_map.json\n",
            "Saving model checkpoint to drive/MyDrive/w266/model_checkpoints/DistilBert-NQ-TriviaQA-cased-trained/checkpoint-62000\n",
            "Configuration saved in drive/MyDrive/w266/model_checkpoints/DistilBert-NQ-TriviaQA-cased-trained/checkpoint-62000/config.json\n",
            "Model weights saved in drive/MyDrive/w266/model_checkpoints/DistilBert-NQ-TriviaQA-cased-trained/checkpoint-62000/pytorch_model.bin\n",
            "tokenizer config file saved in drive/MyDrive/w266/model_checkpoints/DistilBert-NQ-TriviaQA-cased-trained/checkpoint-62000/tokenizer_config.json\n",
            "Special tokens file saved in drive/MyDrive/w266/model_checkpoints/DistilBert-NQ-TriviaQA-cased-trained/checkpoint-62000/special_tokens_map.json\n",
            "Saving model checkpoint to drive/MyDrive/w266/model_checkpoints/DistilBert-NQ-TriviaQA-cased-trained/checkpoint-62500\n",
            "Configuration saved in drive/MyDrive/w266/model_checkpoints/DistilBert-NQ-TriviaQA-cased-trained/checkpoint-62500/config.json\n",
            "Model weights saved in drive/MyDrive/w266/model_checkpoints/DistilBert-NQ-TriviaQA-cased-trained/checkpoint-62500/pytorch_model.bin\n",
            "tokenizer config file saved in drive/MyDrive/w266/model_checkpoints/DistilBert-NQ-TriviaQA-cased-trained/checkpoint-62500/tokenizer_config.json\n",
            "Special tokens file saved in drive/MyDrive/w266/model_checkpoints/DistilBert-NQ-TriviaQA-cased-trained/checkpoint-62500/special_tokens_map.json\n",
            "Saving model checkpoint to drive/MyDrive/w266/model_checkpoints/DistilBert-NQ-TriviaQA-cased-trained/checkpoint-63000\n",
            "Configuration saved in drive/MyDrive/w266/model_checkpoints/DistilBert-NQ-TriviaQA-cased-trained/checkpoint-63000/config.json\n",
            "Model weights saved in drive/MyDrive/w266/model_checkpoints/DistilBert-NQ-TriviaQA-cased-trained/checkpoint-63000/pytorch_model.bin\n",
            "tokenizer config file saved in drive/MyDrive/w266/model_checkpoints/DistilBert-NQ-TriviaQA-cased-trained/checkpoint-63000/tokenizer_config.json\n",
            "Special tokens file saved in drive/MyDrive/w266/model_checkpoints/DistilBert-NQ-TriviaQA-cased-trained/checkpoint-63000/special_tokens_map.json\n",
            "Saving model checkpoint to drive/MyDrive/w266/model_checkpoints/DistilBert-NQ-TriviaQA-cased-trained/checkpoint-63500\n",
            "Configuration saved in drive/MyDrive/w266/model_checkpoints/DistilBert-NQ-TriviaQA-cased-trained/checkpoint-63500/config.json\n",
            "Model weights saved in drive/MyDrive/w266/model_checkpoints/DistilBert-NQ-TriviaQA-cased-trained/checkpoint-63500/pytorch_model.bin\n",
            "tokenizer config file saved in drive/MyDrive/w266/model_checkpoints/DistilBert-NQ-TriviaQA-cased-trained/checkpoint-63500/tokenizer_config.json\n",
            "Special tokens file saved in drive/MyDrive/w266/model_checkpoints/DistilBert-NQ-TriviaQA-cased-trained/checkpoint-63500/special_tokens_map.json\n",
            "Saving model checkpoint to drive/MyDrive/w266/model_checkpoints/DistilBert-NQ-TriviaQA-cased-trained/checkpoint-64000\n",
            "Configuration saved in drive/MyDrive/w266/model_checkpoints/DistilBert-NQ-TriviaQA-cased-trained/checkpoint-64000/config.json\n",
            "Model weights saved in drive/MyDrive/w266/model_checkpoints/DistilBert-NQ-TriviaQA-cased-trained/checkpoint-64000/pytorch_model.bin\n",
            "tokenizer config file saved in drive/MyDrive/w266/model_checkpoints/DistilBert-NQ-TriviaQA-cased-trained/checkpoint-64000/tokenizer_config.json\n",
            "Special tokens file saved in drive/MyDrive/w266/model_checkpoints/DistilBert-NQ-TriviaQA-cased-trained/checkpoint-64000/special_tokens_map.json\n",
            "Saving model checkpoint to drive/MyDrive/w266/model_checkpoints/DistilBert-NQ-TriviaQA-cased-trained/checkpoint-64500\n",
            "Configuration saved in drive/MyDrive/w266/model_checkpoints/DistilBert-NQ-TriviaQA-cased-trained/checkpoint-64500/config.json\n",
            "Model weights saved in drive/MyDrive/w266/model_checkpoints/DistilBert-NQ-TriviaQA-cased-trained/checkpoint-64500/pytorch_model.bin\n",
            "tokenizer config file saved in drive/MyDrive/w266/model_checkpoints/DistilBert-NQ-TriviaQA-cased-trained/checkpoint-64500/tokenizer_config.json\n",
            "Special tokens file saved in drive/MyDrive/w266/model_checkpoints/DistilBert-NQ-TriviaQA-cased-trained/checkpoint-64500/special_tokens_map.json\n",
            "Saving model checkpoint to drive/MyDrive/w266/model_checkpoints/DistilBert-NQ-TriviaQA-cased-trained/checkpoint-65000\n",
            "Configuration saved in drive/MyDrive/w266/model_checkpoints/DistilBert-NQ-TriviaQA-cased-trained/checkpoint-65000/config.json\n",
            "Model weights saved in drive/MyDrive/w266/model_checkpoints/DistilBert-NQ-TriviaQA-cased-trained/checkpoint-65000/pytorch_model.bin\n",
            "tokenizer config file saved in drive/MyDrive/w266/model_checkpoints/DistilBert-NQ-TriviaQA-cased-trained/checkpoint-65000/tokenizer_config.json\n",
            "Special tokens file saved in drive/MyDrive/w266/model_checkpoints/DistilBert-NQ-TriviaQA-cased-trained/checkpoint-65000/special_tokens_map.json\n",
            "Saving model checkpoint to drive/MyDrive/w266/model_checkpoints/DistilBert-NQ-TriviaQA-cased-trained/checkpoint-65500\n",
            "Configuration saved in drive/MyDrive/w266/model_checkpoints/DistilBert-NQ-TriviaQA-cased-trained/checkpoint-65500/config.json\n",
            "Model weights saved in drive/MyDrive/w266/model_checkpoints/DistilBert-NQ-TriviaQA-cased-trained/checkpoint-65500/pytorch_model.bin\n",
            "tokenizer config file saved in drive/MyDrive/w266/model_checkpoints/DistilBert-NQ-TriviaQA-cased-trained/checkpoint-65500/tokenizer_config.json\n",
            "Special tokens file saved in drive/MyDrive/w266/model_checkpoints/DistilBert-NQ-TriviaQA-cased-trained/checkpoint-65500/special_tokens_map.json\n",
            "Saving model checkpoint to drive/MyDrive/w266/model_checkpoints/DistilBert-NQ-TriviaQA-cased-trained/checkpoint-66000\n",
            "Configuration saved in drive/MyDrive/w266/model_checkpoints/DistilBert-NQ-TriviaQA-cased-trained/checkpoint-66000/config.json\n",
            "Model weights saved in drive/MyDrive/w266/model_checkpoints/DistilBert-NQ-TriviaQA-cased-trained/checkpoint-66000/pytorch_model.bin\n",
            "tokenizer config file saved in drive/MyDrive/w266/model_checkpoints/DistilBert-NQ-TriviaQA-cased-trained/checkpoint-66000/tokenizer_config.json\n",
            "Special tokens file saved in drive/MyDrive/w266/model_checkpoints/DistilBert-NQ-TriviaQA-cased-trained/checkpoint-66000/special_tokens_map.json\n",
            "Saving model checkpoint to drive/MyDrive/w266/model_checkpoints/DistilBert-NQ-TriviaQA-cased-trained/checkpoint-66500\n",
            "Configuration saved in drive/MyDrive/w266/model_checkpoints/DistilBert-NQ-TriviaQA-cased-trained/checkpoint-66500/config.json\n",
            "Model weights saved in drive/MyDrive/w266/model_checkpoints/DistilBert-NQ-TriviaQA-cased-trained/checkpoint-66500/pytorch_model.bin\n",
            "tokenizer config file saved in drive/MyDrive/w266/model_checkpoints/DistilBert-NQ-TriviaQA-cased-trained/checkpoint-66500/tokenizer_config.json\n",
            "Special tokens file saved in drive/MyDrive/w266/model_checkpoints/DistilBert-NQ-TriviaQA-cased-trained/checkpoint-66500/special_tokens_map.json\n",
            "Saving model checkpoint to drive/MyDrive/w266/model_checkpoints/DistilBert-NQ-TriviaQA-cased-trained/checkpoint-67000\n",
            "Configuration saved in drive/MyDrive/w266/model_checkpoints/DistilBert-NQ-TriviaQA-cased-trained/checkpoint-67000/config.json\n",
            "Model weights saved in drive/MyDrive/w266/model_checkpoints/DistilBert-NQ-TriviaQA-cased-trained/checkpoint-67000/pytorch_model.bin\n",
            "tokenizer config file saved in drive/MyDrive/w266/model_checkpoints/DistilBert-NQ-TriviaQA-cased-trained/checkpoint-67000/tokenizer_config.json\n",
            "Special tokens file saved in drive/MyDrive/w266/model_checkpoints/DistilBert-NQ-TriviaQA-cased-trained/checkpoint-67000/special_tokens_map.json\n",
            "Saving model checkpoint to drive/MyDrive/w266/model_checkpoints/DistilBert-NQ-TriviaQA-cased-trained/checkpoint-67500\n",
            "Configuration saved in drive/MyDrive/w266/model_checkpoints/DistilBert-NQ-TriviaQA-cased-trained/checkpoint-67500/config.json\n",
            "Model weights saved in drive/MyDrive/w266/model_checkpoints/DistilBert-NQ-TriviaQA-cased-trained/checkpoint-67500/pytorch_model.bin\n",
            "tokenizer config file saved in drive/MyDrive/w266/model_checkpoints/DistilBert-NQ-TriviaQA-cased-trained/checkpoint-67500/tokenizer_config.json\n",
            "Special tokens file saved in drive/MyDrive/w266/model_checkpoints/DistilBert-NQ-TriviaQA-cased-trained/checkpoint-67500/special_tokens_map.json\n",
            "Saving model checkpoint to drive/MyDrive/w266/model_checkpoints/DistilBert-NQ-TriviaQA-cased-trained/checkpoint-68000\n",
            "Configuration saved in drive/MyDrive/w266/model_checkpoints/DistilBert-NQ-TriviaQA-cased-trained/checkpoint-68000/config.json\n",
            "Model weights saved in drive/MyDrive/w266/model_checkpoints/DistilBert-NQ-TriviaQA-cased-trained/checkpoint-68000/pytorch_model.bin\n",
            "tokenizer config file saved in drive/MyDrive/w266/model_checkpoints/DistilBert-NQ-TriviaQA-cased-trained/checkpoint-68000/tokenizer_config.json\n",
            "Special tokens file saved in drive/MyDrive/w266/model_checkpoints/DistilBert-NQ-TriviaQA-cased-trained/checkpoint-68000/special_tokens_map.json\n",
            "Saving model checkpoint to drive/MyDrive/w266/model_checkpoints/DistilBert-NQ-TriviaQA-cased-trained/checkpoint-68500\n",
            "Configuration saved in drive/MyDrive/w266/model_checkpoints/DistilBert-NQ-TriviaQA-cased-trained/checkpoint-68500/config.json\n",
            "Model weights saved in drive/MyDrive/w266/model_checkpoints/DistilBert-NQ-TriviaQA-cased-trained/checkpoint-68500/pytorch_model.bin\n",
            "tokenizer config file saved in drive/MyDrive/w266/model_checkpoints/DistilBert-NQ-TriviaQA-cased-trained/checkpoint-68500/tokenizer_config.json\n",
            "Special tokens file saved in drive/MyDrive/w266/model_checkpoints/DistilBert-NQ-TriviaQA-cased-trained/checkpoint-68500/special_tokens_map.json\n",
            "Saving model checkpoint to drive/MyDrive/w266/model_checkpoints/DistilBert-NQ-TriviaQA-cased-trained/checkpoint-69000\n",
            "Configuration saved in drive/MyDrive/w266/model_checkpoints/DistilBert-NQ-TriviaQA-cased-trained/checkpoint-69000/config.json\n",
            "Model weights saved in drive/MyDrive/w266/model_checkpoints/DistilBert-NQ-TriviaQA-cased-trained/checkpoint-69000/pytorch_model.bin\n",
            "tokenizer config file saved in drive/MyDrive/w266/model_checkpoints/DistilBert-NQ-TriviaQA-cased-trained/checkpoint-69000/tokenizer_config.json\n",
            "Special tokens file saved in drive/MyDrive/w266/model_checkpoints/DistilBert-NQ-TriviaQA-cased-trained/checkpoint-69000/special_tokens_map.json\n",
            "Saving model checkpoint to drive/MyDrive/w266/model_checkpoints/DistilBert-NQ-TriviaQA-cased-trained/checkpoint-69500\n",
            "Configuration saved in drive/MyDrive/w266/model_checkpoints/DistilBert-NQ-TriviaQA-cased-trained/checkpoint-69500/config.json\n",
            "Model weights saved in drive/MyDrive/w266/model_checkpoints/DistilBert-NQ-TriviaQA-cased-trained/checkpoint-69500/pytorch_model.bin\n",
            "tokenizer config file saved in drive/MyDrive/w266/model_checkpoints/DistilBert-NQ-TriviaQA-cased-trained/checkpoint-69500/tokenizer_config.json\n",
            "Special tokens file saved in drive/MyDrive/w266/model_checkpoints/DistilBert-NQ-TriviaQA-cased-trained/checkpoint-69500/special_tokens_map.json\n",
            "Saving model checkpoint to drive/MyDrive/w266/model_checkpoints/DistilBert-NQ-TriviaQA-cased-trained/checkpoint-70000\n",
            "Configuration saved in drive/MyDrive/w266/model_checkpoints/DistilBert-NQ-TriviaQA-cased-trained/checkpoint-70000/config.json\n",
            "Model weights saved in drive/MyDrive/w266/model_checkpoints/DistilBert-NQ-TriviaQA-cased-trained/checkpoint-70000/pytorch_model.bin\n",
            "tokenizer config file saved in drive/MyDrive/w266/model_checkpoints/DistilBert-NQ-TriviaQA-cased-trained/checkpoint-70000/tokenizer_config.json\n",
            "Special tokens file saved in drive/MyDrive/w266/model_checkpoints/DistilBert-NQ-TriviaQA-cased-trained/checkpoint-70000/special_tokens_map.json\n",
            "Saving model checkpoint to drive/MyDrive/w266/model_checkpoints/DistilBert-NQ-TriviaQA-cased-trained/checkpoint-70500\n",
            "Configuration saved in drive/MyDrive/w266/model_checkpoints/DistilBert-NQ-TriviaQA-cased-trained/checkpoint-70500/config.json\n",
            "Model weights saved in drive/MyDrive/w266/model_checkpoints/DistilBert-NQ-TriviaQA-cased-trained/checkpoint-70500/pytorch_model.bin\n",
            "tokenizer config file saved in drive/MyDrive/w266/model_checkpoints/DistilBert-NQ-TriviaQA-cased-trained/checkpoint-70500/tokenizer_config.json\n",
            "Special tokens file saved in drive/MyDrive/w266/model_checkpoints/DistilBert-NQ-TriviaQA-cased-trained/checkpoint-70500/special_tokens_map.json\n",
            "Saving model checkpoint to drive/MyDrive/w266/model_checkpoints/DistilBert-NQ-TriviaQA-cased-trained/checkpoint-71000\n",
            "Configuration saved in drive/MyDrive/w266/model_checkpoints/DistilBert-NQ-TriviaQA-cased-trained/checkpoint-71000/config.json\n",
            "Model weights saved in drive/MyDrive/w266/model_checkpoints/DistilBert-NQ-TriviaQA-cased-trained/checkpoint-71000/pytorch_model.bin\n",
            "tokenizer config file saved in drive/MyDrive/w266/model_checkpoints/DistilBert-NQ-TriviaQA-cased-trained/checkpoint-71000/tokenizer_config.json\n",
            "Special tokens file saved in drive/MyDrive/w266/model_checkpoints/DistilBert-NQ-TriviaQA-cased-trained/checkpoint-71000/special_tokens_map.json\n",
            "Saving model checkpoint to drive/MyDrive/w266/model_checkpoints/DistilBert-NQ-TriviaQA-cased-trained/checkpoint-71500\n",
            "Configuration saved in drive/MyDrive/w266/model_checkpoints/DistilBert-NQ-TriviaQA-cased-trained/checkpoint-71500/config.json\n",
            "Model weights saved in drive/MyDrive/w266/model_checkpoints/DistilBert-NQ-TriviaQA-cased-trained/checkpoint-71500/pytorch_model.bin\n",
            "tokenizer config file saved in drive/MyDrive/w266/model_checkpoints/DistilBert-NQ-TriviaQA-cased-trained/checkpoint-71500/tokenizer_config.json\n",
            "Special tokens file saved in drive/MyDrive/w266/model_checkpoints/DistilBert-NQ-TriviaQA-cased-trained/checkpoint-71500/special_tokens_map.json\n",
            "Saving model checkpoint to drive/MyDrive/w266/model_checkpoints/DistilBert-NQ-TriviaQA-cased-trained/checkpoint-72000\n",
            "Configuration saved in drive/MyDrive/w266/model_checkpoints/DistilBert-NQ-TriviaQA-cased-trained/checkpoint-72000/config.json\n",
            "Model weights saved in drive/MyDrive/w266/model_checkpoints/DistilBert-NQ-TriviaQA-cased-trained/checkpoint-72000/pytorch_model.bin\n",
            "tokenizer config file saved in drive/MyDrive/w266/model_checkpoints/DistilBert-NQ-TriviaQA-cased-trained/checkpoint-72000/tokenizer_config.json\n",
            "Special tokens file saved in drive/MyDrive/w266/model_checkpoints/DistilBert-NQ-TriviaQA-cased-trained/checkpoint-72000/special_tokens_map.json\n",
            "Saving model checkpoint to drive/MyDrive/w266/model_checkpoints/DistilBert-NQ-TriviaQA-cased-trained/checkpoint-72500\n",
            "Configuration saved in drive/MyDrive/w266/model_checkpoints/DistilBert-NQ-TriviaQA-cased-trained/checkpoint-72500/config.json\n",
            "Model weights saved in drive/MyDrive/w266/model_checkpoints/DistilBert-NQ-TriviaQA-cased-trained/checkpoint-72500/pytorch_model.bin\n",
            "tokenizer config file saved in drive/MyDrive/w266/model_checkpoints/DistilBert-NQ-TriviaQA-cased-trained/checkpoint-72500/tokenizer_config.json\n",
            "Special tokens file saved in drive/MyDrive/w266/model_checkpoints/DistilBert-NQ-TriviaQA-cased-trained/checkpoint-72500/special_tokens_map.json\n",
            "Saving model checkpoint to drive/MyDrive/w266/model_checkpoints/DistilBert-NQ-TriviaQA-cased-trained/checkpoint-73000\n",
            "Configuration saved in drive/MyDrive/w266/model_checkpoints/DistilBert-NQ-TriviaQA-cased-trained/checkpoint-73000/config.json\n",
            "Model weights saved in drive/MyDrive/w266/model_checkpoints/DistilBert-NQ-TriviaQA-cased-trained/checkpoint-73000/pytorch_model.bin\n",
            "tokenizer config file saved in drive/MyDrive/w266/model_checkpoints/DistilBert-NQ-TriviaQA-cased-trained/checkpoint-73000/tokenizer_config.json\n",
            "Special tokens file saved in drive/MyDrive/w266/model_checkpoints/DistilBert-NQ-TriviaQA-cased-trained/checkpoint-73000/special_tokens_map.json\n",
            "Saving model checkpoint to drive/MyDrive/w266/model_checkpoints/DistilBert-NQ-TriviaQA-cased-trained/checkpoint-73500\n",
            "Configuration saved in drive/MyDrive/w266/model_checkpoints/DistilBert-NQ-TriviaQA-cased-trained/checkpoint-73500/config.json\n",
            "Model weights saved in drive/MyDrive/w266/model_checkpoints/DistilBert-NQ-TriviaQA-cased-trained/checkpoint-73500/pytorch_model.bin\n",
            "tokenizer config file saved in drive/MyDrive/w266/model_checkpoints/DistilBert-NQ-TriviaQA-cased-trained/checkpoint-73500/tokenizer_config.json\n",
            "Special tokens file saved in drive/MyDrive/w266/model_checkpoints/DistilBert-NQ-TriviaQA-cased-trained/checkpoint-73500/special_tokens_map.json\n",
            "Saving model checkpoint to drive/MyDrive/w266/model_checkpoints/DistilBert-NQ-TriviaQA-cased-trained/checkpoint-74000\n",
            "Configuration saved in drive/MyDrive/w266/model_checkpoints/DistilBert-NQ-TriviaQA-cased-trained/checkpoint-74000/config.json\n",
            "Model weights saved in drive/MyDrive/w266/model_checkpoints/DistilBert-NQ-TriviaQA-cased-trained/checkpoint-74000/pytorch_model.bin\n",
            "tokenizer config file saved in drive/MyDrive/w266/model_checkpoints/DistilBert-NQ-TriviaQA-cased-trained/checkpoint-74000/tokenizer_config.json\n",
            "Special tokens file saved in drive/MyDrive/w266/model_checkpoints/DistilBert-NQ-TriviaQA-cased-trained/checkpoint-74000/special_tokens_map.json\n",
            "Saving model checkpoint to drive/MyDrive/w266/model_checkpoints/DistilBert-NQ-TriviaQA-cased-trained/checkpoint-74500\n",
            "Configuration saved in drive/MyDrive/w266/model_checkpoints/DistilBert-NQ-TriviaQA-cased-trained/checkpoint-74500/config.json\n",
            "Model weights saved in drive/MyDrive/w266/model_checkpoints/DistilBert-NQ-TriviaQA-cased-trained/checkpoint-74500/pytorch_model.bin\n",
            "tokenizer config file saved in drive/MyDrive/w266/model_checkpoints/DistilBert-NQ-TriviaQA-cased-trained/checkpoint-74500/tokenizer_config.json\n",
            "Special tokens file saved in drive/MyDrive/w266/model_checkpoints/DistilBert-NQ-TriviaQA-cased-trained/checkpoint-74500/special_tokens_map.json\n",
            "Saving model checkpoint to drive/MyDrive/w266/model_checkpoints/DistilBert-NQ-TriviaQA-cased-trained/checkpoint-75000\n",
            "Configuration saved in drive/MyDrive/w266/model_checkpoints/DistilBert-NQ-TriviaQA-cased-trained/checkpoint-75000/config.json\n",
            "Model weights saved in drive/MyDrive/w266/model_checkpoints/DistilBert-NQ-TriviaQA-cased-trained/checkpoint-75000/pytorch_model.bin\n",
            "tokenizer config file saved in drive/MyDrive/w266/model_checkpoints/DistilBert-NQ-TriviaQA-cased-trained/checkpoint-75000/tokenizer_config.json\n",
            "Special tokens file saved in drive/MyDrive/w266/model_checkpoints/DistilBert-NQ-TriviaQA-cased-trained/checkpoint-75000/special_tokens_map.json\n",
            "Saving model checkpoint to drive/MyDrive/w266/model_checkpoints/DistilBert-NQ-TriviaQA-cased-trained/checkpoint-75500\n",
            "Configuration saved in drive/MyDrive/w266/model_checkpoints/DistilBert-NQ-TriviaQA-cased-trained/checkpoint-75500/config.json\n",
            "Model weights saved in drive/MyDrive/w266/model_checkpoints/DistilBert-NQ-TriviaQA-cased-trained/checkpoint-75500/pytorch_model.bin\n",
            "tokenizer config file saved in drive/MyDrive/w266/model_checkpoints/DistilBert-NQ-TriviaQA-cased-trained/checkpoint-75500/tokenizer_config.json\n",
            "Special tokens file saved in drive/MyDrive/w266/model_checkpoints/DistilBert-NQ-TriviaQA-cased-trained/checkpoint-75500/special_tokens_map.json\n",
            "Saving model checkpoint to drive/MyDrive/w266/model_checkpoints/DistilBert-NQ-TriviaQA-cased-trained/checkpoint-76000\n",
            "Configuration saved in drive/MyDrive/w266/model_checkpoints/DistilBert-NQ-TriviaQA-cased-trained/checkpoint-76000/config.json\n",
            "Model weights saved in drive/MyDrive/w266/model_checkpoints/DistilBert-NQ-TriviaQA-cased-trained/checkpoint-76000/pytorch_model.bin\n",
            "tokenizer config file saved in drive/MyDrive/w266/model_checkpoints/DistilBert-NQ-TriviaQA-cased-trained/checkpoint-76000/tokenizer_config.json\n",
            "Special tokens file saved in drive/MyDrive/w266/model_checkpoints/DistilBert-NQ-TriviaQA-cased-trained/checkpoint-76000/special_tokens_map.json\n",
            "Saving model checkpoint to drive/MyDrive/w266/model_checkpoints/DistilBert-NQ-TriviaQA-cased-trained/checkpoint-76500\n",
            "Configuration saved in drive/MyDrive/w266/model_checkpoints/DistilBert-NQ-TriviaQA-cased-trained/checkpoint-76500/config.json\n",
            "Model weights saved in drive/MyDrive/w266/model_checkpoints/DistilBert-NQ-TriviaQA-cased-trained/checkpoint-76500/pytorch_model.bin\n",
            "tokenizer config file saved in drive/MyDrive/w266/model_checkpoints/DistilBert-NQ-TriviaQA-cased-trained/checkpoint-76500/tokenizer_config.json\n",
            "Special tokens file saved in drive/MyDrive/w266/model_checkpoints/DistilBert-NQ-TriviaQA-cased-trained/checkpoint-76500/special_tokens_map.json\n",
            "Saving model checkpoint to drive/MyDrive/w266/model_checkpoints/DistilBert-NQ-TriviaQA-cased-trained/checkpoint-77000\n",
            "Configuration saved in drive/MyDrive/w266/model_checkpoints/DistilBert-NQ-TriviaQA-cased-trained/checkpoint-77000/config.json\n",
            "Model weights saved in drive/MyDrive/w266/model_checkpoints/DistilBert-NQ-TriviaQA-cased-trained/checkpoint-77000/pytorch_model.bin\n",
            "tokenizer config file saved in drive/MyDrive/w266/model_checkpoints/DistilBert-NQ-TriviaQA-cased-trained/checkpoint-77000/tokenizer_config.json\n",
            "Special tokens file saved in drive/MyDrive/w266/model_checkpoints/DistilBert-NQ-TriviaQA-cased-trained/checkpoint-77000/special_tokens_map.json\n",
            "Saving model checkpoint to drive/MyDrive/w266/model_checkpoints/DistilBert-NQ-TriviaQA-cased-trained/checkpoint-77500\n",
            "Configuration saved in drive/MyDrive/w266/model_checkpoints/DistilBert-NQ-TriviaQA-cased-trained/checkpoint-77500/config.json\n",
            "Model weights saved in drive/MyDrive/w266/model_checkpoints/DistilBert-NQ-TriviaQA-cased-trained/checkpoint-77500/pytorch_model.bin\n",
            "tokenizer config file saved in drive/MyDrive/w266/model_checkpoints/DistilBert-NQ-TriviaQA-cased-trained/checkpoint-77500/tokenizer_config.json\n",
            "Special tokens file saved in drive/MyDrive/w266/model_checkpoints/DistilBert-NQ-TriviaQA-cased-trained/checkpoint-77500/special_tokens_map.json\n",
            "Saving model checkpoint to drive/MyDrive/w266/model_checkpoints/DistilBert-NQ-TriviaQA-cased-trained/checkpoint-78000\n",
            "Configuration saved in drive/MyDrive/w266/model_checkpoints/DistilBert-NQ-TriviaQA-cased-trained/checkpoint-78000/config.json\n",
            "Model weights saved in drive/MyDrive/w266/model_checkpoints/DistilBert-NQ-TriviaQA-cased-trained/checkpoint-78000/pytorch_model.bin\n",
            "tokenizer config file saved in drive/MyDrive/w266/model_checkpoints/DistilBert-NQ-TriviaQA-cased-trained/checkpoint-78000/tokenizer_config.json\n",
            "Special tokens file saved in drive/MyDrive/w266/model_checkpoints/DistilBert-NQ-TriviaQA-cased-trained/checkpoint-78000/special_tokens_map.json\n",
            "***** Running Evaluation *****\n",
            "  Num examples = 150836\n",
            "  Batch size = 16\n",
            "\n",
            "\n",
            "Training completed. Do not forget to share your model on huggingface.co/models =)\n",
            "\n",
            "\n"
          ]
        },
        {
          "output_type": "execute_result",
          "data": {
            "text/plain": [
              "TrainOutput(global_step=78318, training_loss=0.03360069165504631, metrics={'train_runtime': 11776.0695, 'train_samples_per_second': 106.409, 'train_steps_per_second': 6.651, 'total_flos': 1.2278928592072397e+17, 'train_loss': 0.03360069165504631, 'epoch': 1.0})"
            ]
          },
          "metadata": {},
          "execution_count": 71
        }
      ],
      "source": [
        "trainer.train(resume_from_checkpoint=True)"
      ]
    },
    {
      "cell_type": "code",
      "execution_count": 72,
      "metadata": {
        "id": "8V1p_sz7-Hqh",
        "colab": {
          "base_uri": "https://localhost:8080/"
        },
        "outputId": "0bf01e6d-55d2-48f1-c7a6-5a7fe3b2ed56"
      },
      "outputs": [
        {
          "output_type": "stream",
          "name": "stderr",
          "text": [
            "Saving model checkpoint to drive/MyDrive/w266/model_checkpoints/DistilBert/distilBert-NQ-Trivia-SQuAD-cased-trained\n",
            "Configuration saved in drive/MyDrive/w266/model_checkpoints/DistilBert/distilBert-NQ-Trivia-SQuAD-cased-trained/config.json\n",
            "Model weights saved in drive/MyDrive/w266/model_checkpoints/DistilBert/distilBert-NQ-Trivia-SQuAD-cased-trained/pytorch_model.bin\n",
            "tokenizer config file saved in drive/MyDrive/w266/model_checkpoints/DistilBert/distilBert-NQ-Trivia-SQuAD-cased-trained/tokenizer_config.json\n",
            "Special tokens file saved in drive/MyDrive/w266/model_checkpoints/DistilBert/distilBert-NQ-Trivia-SQuAD-cased-trained/special_tokens_map.json\n"
          ]
        }
      ],
      "source": [
        "trainer.save_model(\"drive/MyDrive/w266/model_checkpoints/DistilBert/distilBert-NQ-Trivia-SQuAD-cased-trained\")"
      ]
    },
    {
      "cell_type": "code",
      "source": [
        "#!cp -R distilbert-base-cased-finetuned-NQ drive/MyDrive/w266/model_checkpoints/DistilBert/"
      ],
      "metadata": {
        "id": "u3K7mQx1QvdV"
      },
      "execution_count": null,
      "outputs": []
    },
    {
      "cell_type": "code",
      "source": [
        "# !cp -R test-NQ-trained drive/MyDrive/w266/model_checkpoints/DistilBert/"
      ],
      "metadata": {
        "id": "5bwsp8FIabG-"
      },
      "execution_count": null,
      "outputs": []
    },
    {
      "cell_type": "code",
      "source": [
        "# trainer.save_model(\"drive/MyDrive/w266/model_checkpoints/DistilBert/test-NQ-trained/\")"
      ],
      "metadata": {
        "id": "R6b8elldbuw1"
      },
      "execution_count": null,
      "outputs": []
    },
    {
      "cell_type": "code",
      "source": [
        "# !ls drive/MyDrive/w266/model_checkpoints/DistilBert/test-NQ-trained"
      ],
      "metadata": {
        "id": "aCto9BiEf_4N"
      },
      "execution_count": null,
      "outputs": []
    },
    {
      "cell_type": "code",
      "source": [
        "!ls drive/MyDrive/w266/model_checkpoints/DistilBert/distilBert-NQ-Trivia-SQuAD-cased-trained"
      ],
      "metadata": {
        "colab": {
          "base_uri": "https://localhost:8080/"
        },
        "id": "RhA6Xmu8Twv6",
        "outputId": "378052dd-2681-4355-cd3a-9b7c5d3509bc"
      },
      "execution_count": 73,
      "outputs": [
        {
          "output_type": "stream",
          "name": "stdout",
          "text": [
            "checkpoint-45500   special_tokens_map.json  training_args.bin\n",
            "config.json\t   tokenizer_config.json    vocab.txt\n",
            "pytorch_model.bin  tokenizer.json\n"
          ]
        }
      ]
    },
    {
      "cell_type": "markdown",
      "metadata": {
        "id": "EZ6LVMJb-Hqi"
      },
      "source": [
        "## Evaluation"
      ]
    },
    {
      "cell_type": "code",
      "source": [
        "!ls drive/MyDrive/w266/model_checkpoints/DistilBert-NQ-TriviaQA-cased-trained"
      ],
      "metadata": {
        "colab": {
          "base_uri": "https://localhost:8080/"
        },
        "id": "5r6QbM5vKLQ2",
        "outputId": "8d8a9413-0ec5-4c06-b06a-ed2ffe585deb"
      },
      "execution_count": null,
      "outputs": [
        {
          "output_type": "stream",
          "name": "stdout",
          "text": [
            "checkpoint-1000   checkpoint-20000  checkpoint-30500  checkpoint-41000\n",
            "checkpoint-10000  checkpoint-20500  checkpoint-31000  checkpoint-41500\n",
            "checkpoint-10500  checkpoint-21000  checkpoint-31500  checkpoint-42000\n",
            "checkpoint-11000  checkpoint-21500  checkpoint-32000  checkpoint-42500\n",
            "checkpoint-11500  checkpoint-22000  checkpoint-32500  checkpoint-43000\n",
            "checkpoint-12000  checkpoint-22500  checkpoint-33000  checkpoint-43500\n",
            "checkpoint-12500  checkpoint-23000  checkpoint-33500  checkpoint-44000\n",
            "checkpoint-13000  checkpoint-23500  checkpoint-34000  checkpoint-44500\n",
            "checkpoint-13500  checkpoint-24000  checkpoint-34500  checkpoint-4500\n",
            "checkpoint-14000  checkpoint-24500  checkpoint-3500   checkpoint-45000\n",
            "checkpoint-14500  checkpoint-2500   checkpoint-35000  checkpoint-45500\n",
            "checkpoint-1500   checkpoint-25000  checkpoint-35500  checkpoint-500\n",
            "checkpoint-15000  checkpoint-25500  checkpoint-36000  checkpoint-5000\n",
            "checkpoint-15500  checkpoint-26000  checkpoint-36500  checkpoint-5500\n",
            "checkpoint-16000  checkpoint-26500  checkpoint-37000  checkpoint-6000\n",
            "checkpoint-16500  checkpoint-27000  checkpoint-37500  checkpoint-6500\n",
            "checkpoint-17000  checkpoint-27500  checkpoint-38000  checkpoint-7000\n",
            "checkpoint-17500  checkpoint-28000  checkpoint-38500  checkpoint-7500\n",
            "checkpoint-18000  checkpoint-28500  checkpoint-39000  checkpoint-8000\n",
            "checkpoint-18500  checkpoint-29000  checkpoint-39500  checkpoint-8500\n",
            "checkpoint-19000  checkpoint-29500  checkpoint-4000   checkpoint-9000\n",
            "checkpoint-19500  checkpoint-3000   checkpoint-40000  checkpoint-9500\n",
            "checkpoint-2000   checkpoint-30000  checkpoint-40500  runs\n"
          ]
        }
      ]
    },
    {
      "cell_type": "code",
      "source": [
        "from transformers import AutoTokenizer, AutoModelForQuestionAnswering, DistilBertForQuestionAnswering, Trainer\n",
        "\n",
        "model_name = \"drive/MyDrive/w266/model_checkpoints/DistilBert-NQ-TriviaQA-cased-trained/checkpoint-45500\"\n",
        "\n",
        "# Download pytorch model\n",
        "model = DistilBertForQuestionAnswering.from_pretrained(model_name)\n",
        "tokenizer = AutoTokenizer.from_pretrained(model_name)\n",
        "\n",
        "squad_v2 = True\n",
        "model_checkpoint = model_name = \"drive/MyDrive/w266/model_checkpoints/DistilBert-NQ-TriviaQA-cased-trained/checkpoint-45500\"\n",
        "batch_size = 16"
      ],
      "metadata": {
        "id": "HA1VTfH_7aAc"
      },
      "execution_count": 10,
      "outputs": []
    },
    {
      "cell_type": "code",
      "execution_count": 74,
      "metadata": {
        "id": "jqtqHbEP-Hqi",
        "outputId": "e3fd784a-5efe-4154-bdb3-38cad6731491",
        "colab": {
          "base_uri": "https://localhost:8080/"
        }
      },
      "outputs": [
        {
          "output_type": "execute_result",
          "data": {
            "text/plain": [
              "odict_keys(['loss', 'start_logits', 'end_logits'])"
            ]
          },
          "metadata": {},
          "execution_count": 74
        }
      ],
      "source": [
        "import torch\n",
        "\n",
        "for batch in trainer.get_eval_dataloader():\n",
        "    break\n",
        "batch = {k: v.to(trainer.args.device) for k, v in batch.items()}\n",
        "with torch.no_grad():\n",
        "    output = trainer.model(**batch)\n",
        "output.keys()"
      ]
    },
    {
      "cell_type": "code",
      "execution_count": 75,
      "metadata": {
        "id": "KO-Lht3t-Hqi",
        "outputId": "9e4f88e3-54ae-4136-b17f-829ed164540d",
        "colab": {
          "base_uri": "https://localhost:8080/"
        }
      },
      "outputs": [
        {
          "output_type": "execute_result",
          "data": {
            "text/plain": [
              "(torch.Size([16, 384]), torch.Size([16, 384]))"
            ]
          },
          "metadata": {},
          "execution_count": 75
        }
      ],
      "source": [
        "output.start_logits.shape, output.end_logits.shape"
      ]
    },
    {
      "cell_type": "code",
      "execution_count": 76,
      "metadata": {
        "id": "byPvu22j-Hqj",
        "outputId": "0e04f81f-ae3c-4c3b-dd56-6ca6f94c8181",
        "colab": {
          "base_uri": "https://localhost:8080/"
        }
      },
      "outputs": [
        {
          "output_type": "execute_result",
          "data": {
            "text/plain": [
              "(tensor([0, 0, 0, 0, 0, 0, 0, 0, 0, 0, 0, 0, 0, 0, 0, 0], device='cuda:0'),\n",
              " tensor([0, 0, 0, 0, 0, 0, 0, 0, 0, 0, 0, 0, 0, 0, 0, 0], device='cuda:0'))"
            ]
          },
          "metadata": {},
          "execution_count": 76
        }
      ],
      "source": [
        "output.start_logits.argmax(dim=-1), output.end_logits.argmax(dim=-1)"
      ]
    },
    {
      "cell_type": "markdown",
      "metadata": {
        "id": "5TcsEnst-Hqj"
      },
      "source": [
        "Consider the following sceanarios: \n",
        "- the start position could be greater than the end position, or point to a span of text in the question instead of the answer. In that case, we might want to look at the second best prediction to see if it gives a possible answer and select that instead.\n",
        "\n",
        "By:\n",
        "\n",
        "- score: adding the start and end logits\n",
        "- hyper-parameter we call n_best_size"
      ]
    },
    {
      "cell_type": "code",
      "execution_count": 77,
      "metadata": {
        "id": "9BlED6gb-Hqk"
      },
      "outputs": [],
      "source": [
        "n_best_size = 20"
      ]
    },
    {
      "cell_type": "code",
      "execution_count": 78,
      "metadata": {
        "id": "ldMuQMNM-Hqk"
      },
      "outputs": [],
      "source": [
        "import numpy as np\n",
        "\n",
        "start_logits = output.start_logits[0].cpu().numpy()\n",
        "end_logits = output.end_logits[0].cpu().numpy()\n",
        "# Gather the indices the best start/end logits:\n",
        "start_indexes = np.argsort(start_logits)[-1 : -n_best_size - 1 : -1].tolist()\n",
        "end_indexes = np.argsort(end_logits)[-1 : -n_best_size - 1 : -1].tolist()\n",
        "valid_answers = []\n",
        "for start_index in start_indexes:\n",
        "    for end_index in end_indexes:\n",
        "        if start_index <= end_index: # We need to refine that test to check the answer is inside the context\n",
        "            valid_answers.append(\n",
        "                {\n",
        "                    \"score\": start_logits[start_index] + end_logits[end_index],\n",
        "                    \"text\": \"\" # We need to find a way to get back the original substring corresponding to the answer in the context\n",
        "                }\n",
        "            )"
      ]
    },
    {
      "cell_type": "markdown",
      "source": [
        "### process validation set:\n",
        "- will need example id and offset mapping needed"
      ],
      "metadata": {
        "id": "pXTL1GbZS4Fj"
      }
    },
    {
      "cell_type": "code",
      "execution_count": 79,
      "metadata": {
        "id": "VbN4TESZ-Hqk"
      },
      "outputs": [],
      "source": [
        "def prepare_validation_features(examples):\n",
        "\n",
        "    # similar process as train\n",
        "    examples[\"question\"] = [q.lstrip() for q in examples[\"question\"]]\n",
        "    tokenized_examples = tokenizer(\n",
        "        examples[\"question\"],\n",
        "        examples[\"context\"],\n",
        "        truncation=\"only_second\",\n",
        "        max_length=max_length,\n",
        "        stride=doc_stride,\n",
        "        return_overflowing_tokens=True,\n",
        "        return_offsets_mapping=True,\n",
        "        padding=\"max_length\",\n",
        "    )\n",
        "\n",
        "    sample_mapping = tokenized_examples.pop(\"overflow_to_sample_mapping\")\n",
        "\n",
        "    # need example_id for matching\n",
        "    tokenized_examples[\"example_id\"] = []\n",
        "\n",
        "    for i in range(len(tokenized_examples[\"input_ids\"])):\n",
        "        # Grab the sequence corresponding to that example (to know what is the context and what is the question).\n",
        "        sequence_ids = tokenized_examples.sequence_ids(i)\n",
        "        context_index = 1 \n",
        "\n",
        "        # One example can give several spans, this is the index of the example containing this span of text.\n",
        "        sample_index = sample_mapping[i]\n",
        "        tokenized_examples[\"example_id\"].append(examples[\"id\"][sample_index])\n",
        "\n",
        "        # Set to None the offset_mapping that are not part of the context so it's easy to determine if a token\n",
        "        # position is part of the context or not.\n",
        "        tokenized_examples[\"offset_mapping\"][i] = [\n",
        "            (o if sequence_ids[k] == context_index else None)\n",
        "            for k, o in enumerate(tokenized_examples[\"offset_mapping\"][i])\n",
        "        ]\n",
        "\n",
        "    return tokenized_examples"
      ]
    },
    {
      "cell_type": "markdown",
      "metadata": {
        "id": "xTFMoea8-Hqk"
      },
      "source": [
        "Map the validation set"
      ]
    },
    {
      "cell_type": "code",
      "execution_count": 80,
      "metadata": {
        "id": "IROLOxtR-Hqk",
        "outputId": "74195d94-52fe-4155-beb0-04fd99f1fe3d",
        "colab": {
          "base_uri": "https://localhost:8080/",
          "height": 105,
          "referenced_widgets": [
            "86ba6c3adb0a414292d1862219a3682e",
            "27201eb4adec422fbb272f16feccea1c",
            "4e8718fcf80f499ba1dff87347934d70",
            "2c6e7d42bb7244a2aeb0fe7d169fa01a",
            "286816e6b0a74adabdc617513c283833",
            "2b98c59eac704d4dbef8ad329ba5c5df",
            "a1af86e3db284dbab856b291eee90415",
            "a05a40cdbdaf46d6ab13b1e4de3e8fd4",
            "4af5c9fe08764b509fc5725135cfb4a9",
            "201a7d45d50b42f798c963eb0f035879",
            "f16304e5a2b4408fb542c3259b698e8d"
          ]
        }
      },
      "outputs": [
        {
          "output_type": "stream",
          "name": "stderr",
          "text": [
            "Using custom data configuration default-7583913932156a30\n",
            "Reusing dataset json (/root/.cache/huggingface/datasets/json/default-7583913932156a30/0.0.0/a3e658c4731e59120d44081ac10bf85dc7e1388126b92338344ce9661907f253)\n"
          ]
        },
        {
          "output_type": "display_data",
          "data": {
            "text/plain": [
              "  0%|          | 0/1 [00:00<?, ?it/s]"
            ],
            "application/vnd.jupyter.widget-view+json": {
              "version_major": 2,
              "version_minor": 0,
              "model_id": "86ba6c3adb0a414292d1862219a3682e"
            }
          },
          "metadata": {}
        }
      ],
      "source": [
        "val_path = \"drive/MyDrive/w266/data/TriviaQA/validation.json\"\n",
        "val_data = load_dataset('json', data_files=val_path)\n",
        "validation = val_data['train']"
      ]
    },
    {
      "cell_type": "code",
      "source": [
        "validation_features = validation.map(\n",
        "    prepare_validation_features,\n",
        "    batched=True,\n",
        "    remove_columns=validation.column_names\n",
        ")"
      ],
      "metadata": {
        "colab": {
          "base_uri": "https://localhost:8080/",
          "height": 49,
          "referenced_widgets": [
            "9b7725e86cfc4d00a6fef9af9551ddcf",
            "944bcf80b7df4939a8d71df19ef02d8c",
            "50192abea13c4c649ba6e71a0e9af1b0",
            "89bfe6ae6f9247ae9a6135e6b0eb6b68",
            "12867f9c761c45e79b15043916ac6ba0",
            "df2701e44c4c423fa920251e908a31c3",
            "af581e4ea5644d7da6eabb3a94b346e5",
            "e1d930b3bb514071a4995850c1a9581a",
            "1d9eaa75e3b24735b228c96d839d4937",
            "470462b258a74351b65246ae225f413e",
            "1984e4da688a4a969f3eb739bf7a5141"
          ]
        },
        "id": "gNP-0s3UN7Ak",
        "outputId": "706410e6-dd4a-44e3-d7e5-0f811e1de50c"
      },
      "execution_count": 81,
      "outputs": [
        {
          "output_type": "display_data",
          "data": {
            "text/plain": [
              "  0%|          | 0/3 [00:00<?, ?ba/s]"
            ],
            "application/vnd.jupyter.widget-view+json": {
              "version_major": 2,
              "version_minor": 0,
              "model_id": "9b7725e86cfc4d00a6fef9af9551ddcf"
            }
          },
          "metadata": {}
        }
      ]
    },
    {
      "cell_type": "markdown",
      "metadata": {
        "id": "hFhWDnbr-Hqk"
      },
      "source": [
        "Now we can grab the predictions for all features by using the `Trainer.predict` method:"
      ]
    },
    {
      "cell_type": "code",
      "execution_count": 82,
      "metadata": {
        "id": "1r4-hq5K-Hql",
        "outputId": "44dcfb98-833b-4d07-e3a8-25e8df15ded4",
        "colab": {
          "base_uri": "https://localhost:8080/",
          "height": 109
        }
      },
      "outputs": [
        {
          "output_type": "stream",
          "name": "stderr",
          "text": [
            "The following columns in the test set don't have a corresponding argument in `DistilBertForQuestionAnswering.forward` and have been ignored: example_id, offset_mapping. If example_id, offset_mapping are not expected by `DistilBertForQuestionAnswering.forward`,  you can safely ignore this message.\n",
            "***** Running Prediction *****\n",
            "  Num examples = 159187\n",
            "  Batch size = 16\n"
          ]
        },
        {
          "output_type": "display_data",
          "data": {
            "text/plain": [
              "<IPython.core.display.HTML object>"
            ],
            "text/html": [
              ""
            ]
          },
          "metadata": {}
        }
      ],
      "source": [
        "raw_predictions = trainer.predict(validation_features)"
      ]
    },
    {
      "cell_type": "markdown",
      "metadata": {
        "id": "-X7MKbX2-Hql"
      },
      "source": [
        "The `Trainer` *hides* the columns that are not used by the model (here `example_id` and `offset_mapping` which we will need for our post-processing)."
      ]
    },
    {
      "cell_type": "code",
      "execution_count": 83,
      "metadata": {
        "id": "lyQs8lwg-Hql"
      },
      "outputs": [],
      "source": [
        "validation_features.set_format(type=validation_features.format[\"type\"], columns=list(validation_features.features.keys()))"
      ]
    },
    {
      "cell_type": "markdown",
      "metadata": {
        "id": "FJpEpoym-Hql"
      },
      "source": [
        "Upper limit to avoid very long answers from our considerations."
      ]
    },
    {
      "cell_type": "code",
      "execution_count": 84,
      "metadata": {
        "id": "Btp52Q7n-Hql"
      },
      "outputs": [],
      "source": [
        "max_answer_length = 30"
      ]
    },
    {
      "cell_type": "code",
      "execution_count": 86,
      "metadata": {
        "id": "M4E-HlAa-Hql",
        "outputId": "82de02ec-393a-400b-df5c-58a19386bc45",
        "colab": {
          "base_uri": "https://localhost:8080/"
        }
      },
      "outputs": [
        {
          "output_type": "execute_result",
          "data": {
            "text/plain": [
              "[{'score': 3.526806, 'text': 'is brackish'},\n",
              " {'score': 0.17349815,\n",
              "  'text': 'is brackish water and what effect does a high concentration of ammonia have    The Laboratory'},\n",
              " {'score': -1.1391573, 'text': 'organisms which'},\n",
              " {'score': -1.4267871, 'text': 'is'},\n",
              " {'score': -1.6588345, 'text': 'is high'},\n",
              " {'score': -2.5726087,\n",
              "  'text': 'it forms an important habitat for some unique animal species  However  it can cause environmental damage  since it is harmful for organisms which'},\n",
              " {'score': -3.7877288,\n",
              "  'text': 'monia have    The Laboratory People Lucy Cook Leave a comment Brackish or brack water is water with a level of'},\n",
              " {'score': -3.9822733, 'text': 'monia have    The Laboratory'},\n",
              " {'score': -4.4170084, 'text': 'with a level of'},\n",
              " {'score': -4.7031345, 'text': 'it forms an important'},\n",
              " {'score': -4.7435255, 'text': 'is needed'},\n",
              " {'score': -4.819682,\n",
              "  'text': 'with a level of salinity  between freshwater and seawater  In many places around the world  brackish water appears naturally  and it forms an important'},\n",
              " {'score': -5.2029285,\n",
              "  'text': 'organisms which have not adapted to it  This becomes an issue when brackish water is deliberately cultivated  as is'},\n",
              " {'score': -5.4815583,\n",
              "  'text': 'damage  since it is harmful for organisms which'},\n",
              " {'score': -5.681237, 'text': 'organisms'},\n",
              " {'score': -5.960302, 'text': 'since it is harmful for organisms which'},\n",
              " {'score': -6.0886626,\n",
              "  'text': 'it forms an important habitat for some unique animal species  However  it can cause environmental damage  since it is'},\n",
              " {'score': -6.435214,\n",
              "  'text': 'organisms which have not adapted to it  This becomes an issue when brackish water is deliberately cultivated  as'},\n",
              " {'score': -6.6667304, 'text': 'which'},\n",
              " {'score': -6.716142, 'text': 'as is'}]"
            ]
          },
          "metadata": {},
          "execution_count": 86
        }
      ],
      "source": [
        "start_logits = output.start_logits[0].cpu().numpy()\n",
        "end_logits = output.end_logits[0].cpu().numpy()\n",
        "offset_mapping = validation_features[0][\"offset_mapping\"]\n",
        "# The first feature comes from the first example. For the more general case, we will need to be match the example_id to\n",
        "# an example index\n",
        "context = validation[0][\"context\"]\n",
        "\n",
        "# Gather the indices the best start/end logits:\n",
        "start_indexes = np.argsort(start_logits)[-1 : -n_best_size - 1 : -1].tolist()\n",
        "end_indexes = np.argsort(end_logits)[-1 : -n_best_size - 1 : -1].tolist()\n",
        "valid_answers = []\n",
        "for start_index in start_indexes:\n",
        "    for end_index in end_indexes:\n",
        "        # Don't consider out-of-scope answers, either because the indices are out of bounds or correspond\n",
        "        # to part of the input_ids that are not in the context.\n",
        "        if (\n",
        "            start_index >= len(offset_mapping)\n",
        "            or end_index >= len(offset_mapping)\n",
        "            or offset_mapping[start_index] is None\n",
        "            or offset_mapping[end_index] is None\n",
        "        ):\n",
        "            continue\n",
        "        # Don't consider answers with a length that is either < 0 or > max_answer_length.\n",
        "        if end_index < start_index or end_index - start_index + 1 > max_answer_length:\n",
        "            continue\n",
        "        if start_index <= end_index: # We need to refine that test to check the answer is inside the context\n",
        "            start_char = offset_mapping[start_index][0]\n",
        "            end_char = offset_mapping[end_index][1]\n",
        "            valid_answers.append(\n",
        "                {\n",
        "                    \"score\": start_logits[start_index] + end_logits[end_index],\n",
        "                    \"text\": context[start_char: end_char]\n",
        "                }\n",
        "            )\n",
        "\n",
        "valid_answers = sorted(valid_answers, key=lambda x: x[\"score\"], reverse=True)[:n_best_size]\n",
        "valid_answers"
      ]
    },
    {
      "cell_type": "markdown",
      "metadata": {
        "id": "vznXmMCR-Hql"
      },
      "source": [
        "Compare to ground-truth answer:"
      ]
    },
    {
      "cell_type": "code",
      "execution_count": 87,
      "metadata": {
        "id": "648hUaK--Hql",
        "outputId": "559195b0-bc8f-4b44-9583-730e23cb2468",
        "colab": {
          "base_uri": "https://localhost:8080/"
        }
      },
      "outputs": [
        {
          "output_type": "execute_result",
          "data": {
            "text/plain": [
              "{'answer_start': [4136], 'text': ['Salt']}"
            ]
          },
          "metadata": {},
          "execution_count": 87
        }
      ],
      "source": [
        "validation[0][\"answers\"]"
      ]
    },
    {
      "cell_type": "markdown",
      "metadata": {
        "id": "T9kH0R9--Hqm"
      },
      "source": [
        "Our model picked the right as the most likely answer!\n",
        "\n",
        "As we mentioned in the code above, this was easy on the first feature because we knew it comes from the first example. For the other features, we will need a map between examples and their corresponding features. Also, since one example can give several features, we will need to gather together all the answers in all the features generated by a given example, then pick the best one. The following code builds a map from example index to its corresponding features indices:"
      ]
    },
    {
      "cell_type": "code",
      "execution_count": 88,
      "metadata": {
        "id": "KCRCRVNQ-Hqm"
      },
      "outputs": [],
      "source": [
        "import collections\n",
        "\n",
        "examples = validation\n",
        "features = validation_features\n",
        "\n",
        "example_id_to_index = {k: i for i, k in enumerate(examples[\"id\"])}\n",
        "features_per_example = collections.defaultdict(list)\n",
        "for i, feature in enumerate(features):\n",
        "    features_per_example[example_id_to_index[feature[\"example_id\"]]].append(i)"
      ]
    },
    {
      "cell_type": "markdown",
      "metadata": {
        "id": "HXqtZ0k_-Hqm"
      },
      "source": [
        "## Post-processing function\n",
        "- predict the impossible answer when that score is greater than the score of the best non-impossible answer"
      ]
    },
    {
      "cell_type": "code",
      "execution_count": 89,
      "metadata": {
        "id": "ucGWV8vM-Hqm"
      },
      "outputs": [],
      "source": [
        "from tqdm.auto import tqdm\n",
        "\n",
        "def postprocess_qa_predictions(examples, features, raw_predictions, n_best_size = 20, max_answer_length = 30):\n",
        "    all_start_logits, all_end_logits = raw_predictions\n",
        "    # Build a map example to its corresponding features.\n",
        "    example_id_to_index = {k: i for i, k in enumerate(examples[\"id\"])}\n",
        "    features_per_example = collections.defaultdict(list)\n",
        "    for i, feature in enumerate(features):\n",
        "        features_per_example[example_id_to_index[feature[\"example_id\"]]].append(i)\n",
        "\n",
        "    # The dictionaries we have to fill.\n",
        "    predictions = collections.OrderedDict()\n",
        "\n",
        "    # Logging.\n",
        "    print(f\"Post-processing {len(examples)} example predictions split into {len(features)} features.\")\n",
        "\n",
        "    # Let's loop over all the examples!\n",
        "    for example_index, example in enumerate(tqdm(examples)):\n",
        "        # Those are the indices of the features associated to the current example.\n",
        "        feature_indices = features_per_example[example_index]\n",
        "\n",
        "        min_null_score = None # Only used if squad_v2 is True.\n",
        "        valid_answers = []\n",
        "        \n",
        "        context = example[\"context\"]\n",
        "        # Looping through all the features associated to the current example.\n",
        "        for feature_index in feature_indices:\n",
        "            # We grab the predictions of the model for this feature.\n",
        "            start_logits = all_start_logits[feature_index]\n",
        "            end_logits = all_end_logits[feature_index]\n",
        "            # This is what will allow us to map some the positions in our logits to span of texts in the original\n",
        "            # context.\n",
        "            offset_mapping = features[feature_index][\"offset_mapping\"]\n",
        "\n",
        "            # Update minimum null prediction.\n",
        "            cls_index = features[feature_index][\"input_ids\"].index(tokenizer.cls_token_id)\n",
        "            feature_null_score = start_logits[cls_index] + end_logits[cls_index]\n",
        "            if min_null_score is None or min_null_score < feature_null_score:\n",
        "                min_null_score = feature_null_score\n",
        "\n",
        "            # Go through all possibilities for the `n_best_size` greater start and end logits.\n",
        "            start_indexes = np.argsort(start_logits)[-1 : -n_best_size - 1 : -1].tolist()\n",
        "            end_indexes = np.argsort(end_logits)[-1 : -n_best_size - 1 : -1].tolist()\n",
        "            for start_index in start_indexes:\n",
        "                for end_index in end_indexes:\n",
        "                    # Don't consider out-of-scope answers, either because the indices are out of bounds or correspond\n",
        "                    # to part of the input_ids that are not in the context.\n",
        "                    if (\n",
        "                        start_index >= len(offset_mapping)\n",
        "                        or end_index >= len(offset_mapping)\n",
        "                        or offset_mapping[start_index] is None\n",
        "                        or offset_mapping[end_index] is None\n",
        "                    ):\n",
        "                        continue\n",
        "                    # Don't consider answers with a length that is either < 0 or > max_answer_length.\n",
        "                    if end_index < start_index or end_index - start_index + 1 > max_answer_length:\n",
        "                        continue\n",
        "\n",
        "                    start_char = offset_mapping[start_index][0]\n",
        "                    end_char = offset_mapping[end_index][1]\n",
        "                    valid_answers.append(\n",
        "                        {\n",
        "                            \"score\": start_logits[start_index] + end_logits[end_index],\n",
        "                            \"text\": context[start_char: end_char]\n",
        "                        }\n",
        "                    )\n",
        "        \n",
        "        if len(valid_answers) > 0:\n",
        "            best_answer = sorted(valid_answers, key=lambda x: x[\"score\"], reverse=True)[0]\n",
        "        else:\n",
        "            # In the very rare edge case we have not a single non-null prediction, we create a fake prediction to avoid\n",
        "            # failure.\n",
        "            best_answer = {\"text\": \"\", \"score\": 0.0}\n",
        "        \n",
        "        # Let's pick our final answer: the best one or the null answer (only for squad_v2)\n",
        "        if not squad_v2:\n",
        "            predictions[example[\"id\"]] = best_answer[\"text\"]\n",
        "        else:\n",
        "            answer = best_answer[\"text\"] if best_answer[\"score\"] > min_null_score else \"\"\n",
        "            predictions[example[\"id\"]] = answer\n",
        "\n",
        "    return predictions"
      ]
    },
    {
      "cell_type": "markdown",
      "metadata": {
        "id": "7ITjKGnO-Hqm"
      },
      "source": [
        "And we can apply our post-processing function to our raw predictions:"
      ]
    },
    {
      "cell_type": "code",
      "execution_count": 90,
      "metadata": {
        "id": "RYUVxTpO-Hqm",
        "outputId": "59d54982-4436-41b8-ccc2-39d0fb7c91c2",
        "colab": {
          "base_uri": "https://localhost:8080/",
          "height": 67,
          "referenced_widgets": [
            "a184271b2c69439180a2d82061e4cf24",
            "0a2adf30ad734d1ab4a20fbf04d25a3f",
            "35bd527941664c6cafe9be20aebd212e",
            "bc346f36247c4ce88730588599f11390",
            "4860cb9c0686468ca7a006a4f531d5d9",
            "004ce8a1d3c54335a1246a40303aaf64",
            "55140374c44f4626a27f94a692c46475",
            "76cf67cbcf5e4469a7e0cdd202dbaacd",
            "0ddf0ee0115d4f3eb8d064bca0f71b8e",
            "3a9338f2c3e54ee0a5915e5094b000a9",
            "451ef20d1ac5452eacf3b986af187c32"
          ]
        }
      },
      "outputs": [
        {
          "output_type": "stream",
          "name": "stdout",
          "text": [
            "Post-processing 2496 example predictions split into 159187 features.\n"
          ]
        },
        {
          "output_type": "display_data",
          "data": {
            "text/plain": [
              "  0%|          | 0/2496 [00:00<?, ?it/s]"
            ],
            "application/vnd.jupyter.widget-view+json": {
              "version_major": 2,
              "version_minor": 0,
              "model_id": "a184271b2c69439180a2d82061e4cf24"
            }
          },
          "metadata": {}
        }
      ],
      "source": [
        "final_predictions = postprocess_qa_predictions(validation, validation_features, raw_predictions.predictions)"
      ]
    },
    {
      "cell_type": "markdown",
      "metadata": {
        "id": "0fN_Y3cY-Hqn"
      },
      "source": [
        "Use the squad v2 metric for evluation"
      ]
    },
    {
      "cell_type": "code",
      "execution_count": 91,
      "metadata": {
        "id": "qPE471An-Hqn",
        "colab": {
          "base_uri": "https://localhost:8080/",
          "height": 81,
          "referenced_widgets": [
            "85be52a1be464d30ae6c4d3140764738",
            "6d0e1fbac53745578eb8def107fd1350",
            "d5857b43282249efb837191a85b094c5",
            "e33c39c5ee2b4a4a991099b31e4417a0",
            "a9676d2220dc4026b347a549526c6732",
            "d345c39328534854ab19909d7f508ebf",
            "4aa842b102104184b2f364c2739919cf",
            "c86cf8f748fb4b3b997c87c5b882de8f",
            "8a7bbfd9cbac4ee082b67fa3a683b17e",
            "69a125c0eae147539aa2703900354007",
            "7c547b6b217e42b0a06ae5f45d5d9faa",
            "5c17356174004dbfbc0863039e52c037",
            "9a4324d7f339452eb38cc59fffb5ae70",
            "37e057d417a1462e8976c083607a197c",
            "75c598f1ddb341b88253f46238c45ba8",
            "12ba0d607f6e4c9cb4e301acf28041ef",
            "c204e52ae6d946d78f52034fdeb4226e",
            "f978e5798efa4473a3bb074e4c55653a",
            "c434c082fb334d9fbac55f7bd97a8173",
            "5b5c1187460d4256a56d24fb90825ef7",
            "d2f0a7a13b5a48d18b261493ceb242d8",
            "d0c625ed65934508be1da6b476ec0d58"
          ]
        },
        "outputId": "5bc709f2-2418-418a-fa3f-c620a0ea1915"
      },
      "outputs": [
        {
          "output_type": "display_data",
          "data": {
            "text/plain": [
              "Downloading builder script:   0%|          | 0.00/2.25k [00:00<?, ?B/s]"
            ],
            "application/vnd.jupyter.widget-view+json": {
              "version_major": 2,
              "version_minor": 0,
              "model_id": "85be52a1be464d30ae6c4d3140764738"
            }
          },
          "metadata": {}
        },
        {
          "output_type": "display_data",
          "data": {
            "text/plain": [
              "Downloading extra modules:   0%|          | 0.00/3.19k [00:00<?, ?B/s]"
            ],
            "application/vnd.jupyter.widget-view+json": {
              "version_major": 2,
              "version_minor": 0,
              "model_id": "5c17356174004dbfbc0863039e52c037"
            }
          },
          "metadata": {}
        }
      ],
      "source": [
        "metric = load_metric(\"squad_v2\")"
      ]
    },
    {
      "cell_type": "markdown",
      "source": [
        "## Final Evaluation"
      ],
      "metadata": {
        "id": "nG7XsWY9RDN4"
      }
    },
    {
      "cell_type": "code",
      "execution_count": 94,
      "metadata": {
        "id": "ts8Gdt-K-Hqn",
        "outputId": "01eef260-46f0-4e4a-c15e-72914e43f113",
        "colab": {
          "base_uri": "https://localhost:8080/"
        }
      },
      "outputs": [
        {
          "output_type": "execute_result",
          "data": {
            "text/plain": [
              "{'HasAns_exact': 0.4807692307692308,\n",
              " 'HasAns_f1': 0.4807692307692308,\n",
              " 'HasAns_total': 2496,\n",
              " 'best_exact': 0.4807692307692308,\n",
              " 'best_exact_thresh': 0.0,\n",
              " 'best_f1': 0.4807692307692308,\n",
              " 'best_f1_thresh': 0.0,\n",
              " 'exact': 0.4807692307692308,\n",
              " 'f1': 0.4807692307692308,\n",
              " 'total': 2496}"
            ]
          },
          "metadata": {},
          "execution_count": 94
        }
      ],
      "source": [
        "if squad_v2:\n",
        "    formatted_predictions = [{\"id\": k, \"prediction_text\": v, \"no_answer_probability\": 0.0} for k, v in final_predictions.items()]\n",
        "else:\n",
        "    formatted_predictions = [{\"id\": k, \"prediction_text\": v} for k, v in final_predictions.items()]\n",
        "references = [{\"id\": ex[\"id\"], \"answers\": ex[\"answers\"]} for ex in dataset_train_val[\"validation\"]]\n",
        "metric.compute(predictions=formatted_predictions, references=references)"
      ]
    }
  ],
  "metadata": {
    "colab": {
      "name": "7:28 - Trivia_DistilBERT_cased.ipynb",
      "provenance": [],
      "machine_shape": "hm",
      "collapsed_sections": []
    },
    "language_info": {
      "name": "python"
    },
    "kernelspec": {
      "name": "python3",
      "display_name": "Python 3"
    },
    "gpuClass": "standard",
    "accelerator": "GPU",
    "widgets": {
      "application/vnd.jupyter.widget-state+json": {
        "9cd2e70ca2814eed877652198b7fb651": {
          "model_module": "@jupyter-widgets/controls",
          "model_name": "HBoxModel",
          "model_module_version": "1.5.0",
          "state": {
            "_dom_classes": [],
            "_model_module": "@jupyter-widgets/controls",
            "_model_module_version": "1.5.0",
            "_model_name": "HBoxModel",
            "_view_count": null,
            "_view_module": "@jupyter-widgets/controls",
            "_view_module_version": "1.5.0",
            "_view_name": "HBoxView",
            "box_style": "",
            "children": [
              "IPY_MODEL_c2b16c19aa65425a8711f797da88d995",
              "IPY_MODEL_f06442ae366c469a90f6c7b253ffed8f",
              "IPY_MODEL_f172919c57aa4b15bc8a2de640faa66b"
            ],
            "layout": "IPY_MODEL_1e1f0da390894ccc94d06eb9e355135a"
          }
        },
        "c2b16c19aa65425a8711f797da88d995": {
          "model_module": "@jupyter-widgets/controls",
          "model_name": "HTMLModel",
          "model_module_version": "1.5.0",
          "state": {
            "_dom_classes": [],
            "_model_module": "@jupyter-widgets/controls",
            "_model_module_version": "1.5.0",
            "_model_name": "HTMLModel",
            "_view_count": null,
            "_view_module": "@jupyter-widgets/controls",
            "_view_module_version": "1.5.0",
            "_view_name": "HTMLView",
            "description": "",
            "description_tooltip": null,
            "layout": "IPY_MODEL_eedafedf31b644d58106de25fdab8aa8",
            "placeholder": "​",
            "style": "IPY_MODEL_a29d61c2324543709ff67e4bd61aaa45",
            "value": "Flattening the indices: 100%"
          }
        },
        "f06442ae366c469a90f6c7b253ffed8f": {
          "model_module": "@jupyter-widgets/controls",
          "model_name": "FloatProgressModel",
          "model_module_version": "1.5.0",
          "state": {
            "_dom_classes": [],
            "_model_module": "@jupyter-widgets/controls",
            "_model_module_version": "1.5.0",
            "_model_name": "FloatProgressModel",
            "_view_count": null,
            "_view_module": "@jupyter-widgets/controls",
            "_view_module_version": "1.5.0",
            "_view_name": "ProgressView",
            "bar_style": "success",
            "description": "",
            "description_tooltip": null,
            "layout": "IPY_MODEL_15cc58fadc7d4c298aa6499f87ae149d",
            "max": 14,
            "min": 0,
            "orientation": "horizontal",
            "style": "IPY_MODEL_4bf9036b94a54755830caa53930d9650",
            "value": 14
          }
        },
        "f172919c57aa4b15bc8a2de640faa66b": {
          "model_module": "@jupyter-widgets/controls",
          "model_name": "HTMLModel",
          "model_module_version": "1.5.0",
          "state": {
            "_dom_classes": [],
            "_model_module": "@jupyter-widgets/controls",
            "_model_module_version": "1.5.0",
            "_model_name": "HTMLModel",
            "_view_count": null,
            "_view_module": "@jupyter-widgets/controls",
            "_view_module_version": "1.5.0",
            "_view_name": "HTMLView",
            "description": "",
            "description_tooltip": null,
            "layout": "IPY_MODEL_5f34da4440244974be2c615b4e209160",
            "placeholder": "​",
            "style": "IPY_MODEL_258529ce235d4d0fa35fee68b4cc7997",
            "value": " 14/14 [00:00&lt;00:00, 31.25ba/s]"
          }
        },
        "1e1f0da390894ccc94d06eb9e355135a": {
          "model_module": "@jupyter-widgets/base",
          "model_name": "LayoutModel",
          "model_module_version": "1.2.0",
          "state": {
            "_model_module": "@jupyter-widgets/base",
            "_model_module_version": "1.2.0",
            "_model_name": "LayoutModel",
            "_view_count": null,
            "_view_module": "@jupyter-widgets/base",
            "_view_module_version": "1.2.0",
            "_view_name": "LayoutView",
            "align_content": null,
            "align_items": null,
            "align_self": null,
            "border": null,
            "bottom": null,
            "display": null,
            "flex": null,
            "flex_flow": null,
            "grid_area": null,
            "grid_auto_columns": null,
            "grid_auto_flow": null,
            "grid_auto_rows": null,
            "grid_column": null,
            "grid_gap": null,
            "grid_row": null,
            "grid_template_areas": null,
            "grid_template_columns": null,
            "grid_template_rows": null,
            "height": null,
            "justify_content": null,
            "justify_items": null,
            "left": null,
            "margin": null,
            "max_height": null,
            "max_width": null,
            "min_height": null,
            "min_width": null,
            "object_fit": null,
            "object_position": null,
            "order": null,
            "overflow": null,
            "overflow_x": null,
            "overflow_y": null,
            "padding": null,
            "right": null,
            "top": null,
            "visibility": null,
            "width": null
          }
        },
        "eedafedf31b644d58106de25fdab8aa8": {
          "model_module": "@jupyter-widgets/base",
          "model_name": "LayoutModel",
          "model_module_version": "1.2.0",
          "state": {
            "_model_module": "@jupyter-widgets/base",
            "_model_module_version": "1.2.0",
            "_model_name": "LayoutModel",
            "_view_count": null,
            "_view_module": "@jupyter-widgets/base",
            "_view_module_version": "1.2.0",
            "_view_name": "LayoutView",
            "align_content": null,
            "align_items": null,
            "align_self": null,
            "border": null,
            "bottom": null,
            "display": null,
            "flex": null,
            "flex_flow": null,
            "grid_area": null,
            "grid_auto_columns": null,
            "grid_auto_flow": null,
            "grid_auto_rows": null,
            "grid_column": null,
            "grid_gap": null,
            "grid_row": null,
            "grid_template_areas": null,
            "grid_template_columns": null,
            "grid_template_rows": null,
            "height": null,
            "justify_content": null,
            "justify_items": null,
            "left": null,
            "margin": null,
            "max_height": null,
            "max_width": null,
            "min_height": null,
            "min_width": null,
            "object_fit": null,
            "object_position": null,
            "order": null,
            "overflow": null,
            "overflow_x": null,
            "overflow_y": null,
            "padding": null,
            "right": null,
            "top": null,
            "visibility": null,
            "width": null
          }
        },
        "a29d61c2324543709ff67e4bd61aaa45": {
          "model_module": "@jupyter-widgets/controls",
          "model_name": "DescriptionStyleModel",
          "model_module_version": "1.5.0",
          "state": {
            "_model_module": "@jupyter-widgets/controls",
            "_model_module_version": "1.5.0",
            "_model_name": "DescriptionStyleModel",
            "_view_count": null,
            "_view_module": "@jupyter-widgets/base",
            "_view_module_version": "1.2.0",
            "_view_name": "StyleView",
            "description_width": ""
          }
        },
        "15cc58fadc7d4c298aa6499f87ae149d": {
          "model_module": "@jupyter-widgets/base",
          "model_name": "LayoutModel",
          "model_module_version": "1.2.0",
          "state": {
            "_model_module": "@jupyter-widgets/base",
            "_model_module_version": "1.2.0",
            "_model_name": "LayoutModel",
            "_view_count": null,
            "_view_module": "@jupyter-widgets/base",
            "_view_module_version": "1.2.0",
            "_view_name": "LayoutView",
            "align_content": null,
            "align_items": null,
            "align_self": null,
            "border": null,
            "bottom": null,
            "display": null,
            "flex": null,
            "flex_flow": null,
            "grid_area": null,
            "grid_auto_columns": null,
            "grid_auto_flow": null,
            "grid_auto_rows": null,
            "grid_column": null,
            "grid_gap": null,
            "grid_row": null,
            "grid_template_areas": null,
            "grid_template_columns": null,
            "grid_template_rows": null,
            "height": null,
            "justify_content": null,
            "justify_items": null,
            "left": null,
            "margin": null,
            "max_height": null,
            "max_width": null,
            "min_height": null,
            "min_width": null,
            "object_fit": null,
            "object_position": null,
            "order": null,
            "overflow": null,
            "overflow_x": null,
            "overflow_y": null,
            "padding": null,
            "right": null,
            "top": null,
            "visibility": null,
            "width": null
          }
        },
        "4bf9036b94a54755830caa53930d9650": {
          "model_module": "@jupyter-widgets/controls",
          "model_name": "ProgressStyleModel",
          "model_module_version": "1.5.0",
          "state": {
            "_model_module": "@jupyter-widgets/controls",
            "_model_module_version": "1.5.0",
            "_model_name": "ProgressStyleModel",
            "_view_count": null,
            "_view_module": "@jupyter-widgets/base",
            "_view_module_version": "1.2.0",
            "_view_name": "StyleView",
            "bar_color": null,
            "description_width": ""
          }
        },
        "5f34da4440244974be2c615b4e209160": {
          "model_module": "@jupyter-widgets/base",
          "model_name": "LayoutModel",
          "model_module_version": "1.2.0",
          "state": {
            "_model_module": "@jupyter-widgets/base",
            "_model_module_version": "1.2.0",
            "_model_name": "LayoutModel",
            "_view_count": null,
            "_view_module": "@jupyter-widgets/base",
            "_view_module_version": "1.2.0",
            "_view_name": "LayoutView",
            "align_content": null,
            "align_items": null,
            "align_self": null,
            "border": null,
            "bottom": null,
            "display": null,
            "flex": null,
            "flex_flow": null,
            "grid_area": null,
            "grid_auto_columns": null,
            "grid_auto_flow": null,
            "grid_auto_rows": null,
            "grid_column": null,
            "grid_gap": null,
            "grid_row": null,
            "grid_template_areas": null,
            "grid_template_columns": null,
            "grid_template_rows": null,
            "height": null,
            "justify_content": null,
            "justify_items": null,
            "left": null,
            "margin": null,
            "max_height": null,
            "max_width": null,
            "min_height": null,
            "min_width": null,
            "object_fit": null,
            "object_position": null,
            "order": null,
            "overflow": null,
            "overflow_x": null,
            "overflow_y": null,
            "padding": null,
            "right": null,
            "top": null,
            "visibility": null,
            "width": null
          }
        },
        "258529ce235d4d0fa35fee68b4cc7997": {
          "model_module": "@jupyter-widgets/controls",
          "model_name": "DescriptionStyleModel",
          "model_module_version": "1.5.0",
          "state": {
            "_model_module": "@jupyter-widgets/controls",
            "_model_module_version": "1.5.0",
            "_model_name": "DescriptionStyleModel",
            "_view_count": null,
            "_view_module": "@jupyter-widgets/base",
            "_view_module_version": "1.2.0",
            "_view_name": "StyleView",
            "description_width": ""
          }
        },
        "de59268a544a4fe9a22fc342b93b8d22": {
          "model_module": "@jupyter-widgets/controls",
          "model_name": "HBoxModel",
          "model_module_version": "1.5.0",
          "state": {
            "_dom_classes": [],
            "_model_module": "@jupyter-widgets/controls",
            "_model_module_version": "1.5.0",
            "_model_name": "HBoxModel",
            "_view_count": null,
            "_view_module": "@jupyter-widgets/controls",
            "_view_module_version": "1.5.0",
            "_view_name": "HBoxView",
            "box_style": "",
            "children": [
              "IPY_MODEL_b3e135ccdd624bf783e66e970ec35b50",
              "IPY_MODEL_bfb682e2b0ab4eceb127e269b47829db",
              "IPY_MODEL_69ea64567e22441090919b0ed96bcf93"
            ],
            "layout": "IPY_MODEL_8bd6580d01f840d28c53085ee10709c6"
          }
        },
        "b3e135ccdd624bf783e66e970ec35b50": {
          "model_module": "@jupyter-widgets/controls",
          "model_name": "HTMLModel",
          "model_module_version": "1.5.0",
          "state": {
            "_dom_classes": [],
            "_model_module": "@jupyter-widgets/controls",
            "_model_module_version": "1.5.0",
            "_model_name": "HTMLModel",
            "_view_count": null,
            "_view_module": "@jupyter-widgets/controls",
            "_view_module_version": "1.5.0",
            "_view_name": "HTMLView",
            "description": "",
            "description_tooltip": null,
            "layout": "IPY_MODEL_1566ca710f694f91af364e3f70140079",
            "placeholder": "​",
            "style": "IPY_MODEL_4142763fdff74b8db00f3c996ae567cd",
            "value": "100%"
          }
        },
        "bfb682e2b0ab4eceb127e269b47829db": {
          "model_module": "@jupyter-widgets/controls",
          "model_name": "FloatProgressModel",
          "model_module_version": "1.5.0",
          "state": {
            "_dom_classes": [],
            "_model_module": "@jupyter-widgets/controls",
            "_model_module_version": "1.5.0",
            "_model_name": "FloatProgressModel",
            "_view_count": null,
            "_view_module": "@jupyter-widgets/controls",
            "_view_module_version": "1.5.0",
            "_view_name": "ProgressView",
            "bar_style": "success",
            "description": "",
            "description_tooltip": null,
            "layout": "IPY_MODEL_751bf2a216fa407181db97ec338326cb",
            "max": 1,
            "min": 0,
            "orientation": "horizontal",
            "style": "IPY_MODEL_1b1a1e515e5f4cd486908f809a1f8fbd",
            "value": 1
          }
        },
        "69ea64567e22441090919b0ed96bcf93": {
          "model_module": "@jupyter-widgets/controls",
          "model_name": "HTMLModel",
          "model_module_version": "1.5.0",
          "state": {
            "_dom_classes": [],
            "_model_module": "@jupyter-widgets/controls",
            "_model_module_version": "1.5.0",
            "_model_name": "HTMLModel",
            "_view_count": null,
            "_view_module": "@jupyter-widgets/controls",
            "_view_module_version": "1.5.0",
            "_view_name": "HTMLView",
            "description": "",
            "description_tooltip": null,
            "layout": "IPY_MODEL_e6bd664c2bf94b25889bc199ec909d18",
            "placeholder": "​",
            "style": "IPY_MODEL_ecec728bbd854cc88d79b073a4076073",
            "value": " 1/1 [00:00&lt;00:00, 21.11it/s]"
          }
        },
        "8bd6580d01f840d28c53085ee10709c6": {
          "model_module": "@jupyter-widgets/base",
          "model_name": "LayoutModel",
          "model_module_version": "1.2.0",
          "state": {
            "_model_module": "@jupyter-widgets/base",
            "_model_module_version": "1.2.0",
            "_model_name": "LayoutModel",
            "_view_count": null,
            "_view_module": "@jupyter-widgets/base",
            "_view_module_version": "1.2.0",
            "_view_name": "LayoutView",
            "align_content": null,
            "align_items": null,
            "align_self": null,
            "border": null,
            "bottom": null,
            "display": null,
            "flex": null,
            "flex_flow": null,
            "grid_area": null,
            "grid_auto_columns": null,
            "grid_auto_flow": null,
            "grid_auto_rows": null,
            "grid_column": null,
            "grid_gap": null,
            "grid_row": null,
            "grid_template_areas": null,
            "grid_template_columns": null,
            "grid_template_rows": null,
            "height": null,
            "justify_content": null,
            "justify_items": null,
            "left": null,
            "margin": null,
            "max_height": null,
            "max_width": null,
            "min_height": null,
            "min_width": null,
            "object_fit": null,
            "object_position": null,
            "order": null,
            "overflow": null,
            "overflow_x": null,
            "overflow_y": null,
            "padding": null,
            "right": null,
            "top": null,
            "visibility": null,
            "width": null
          }
        },
        "1566ca710f694f91af364e3f70140079": {
          "model_module": "@jupyter-widgets/base",
          "model_name": "LayoutModel",
          "model_module_version": "1.2.0",
          "state": {
            "_model_module": "@jupyter-widgets/base",
            "_model_module_version": "1.2.0",
            "_model_name": "LayoutModel",
            "_view_count": null,
            "_view_module": "@jupyter-widgets/base",
            "_view_module_version": "1.2.0",
            "_view_name": "LayoutView",
            "align_content": null,
            "align_items": null,
            "align_self": null,
            "border": null,
            "bottom": null,
            "display": null,
            "flex": null,
            "flex_flow": null,
            "grid_area": null,
            "grid_auto_columns": null,
            "grid_auto_flow": null,
            "grid_auto_rows": null,
            "grid_column": null,
            "grid_gap": null,
            "grid_row": null,
            "grid_template_areas": null,
            "grid_template_columns": null,
            "grid_template_rows": null,
            "height": null,
            "justify_content": null,
            "justify_items": null,
            "left": null,
            "margin": null,
            "max_height": null,
            "max_width": null,
            "min_height": null,
            "min_width": null,
            "object_fit": null,
            "object_position": null,
            "order": null,
            "overflow": null,
            "overflow_x": null,
            "overflow_y": null,
            "padding": null,
            "right": null,
            "top": null,
            "visibility": null,
            "width": null
          }
        },
        "4142763fdff74b8db00f3c996ae567cd": {
          "model_module": "@jupyter-widgets/controls",
          "model_name": "DescriptionStyleModel",
          "model_module_version": "1.5.0",
          "state": {
            "_model_module": "@jupyter-widgets/controls",
            "_model_module_version": "1.5.0",
            "_model_name": "DescriptionStyleModel",
            "_view_count": null,
            "_view_module": "@jupyter-widgets/base",
            "_view_module_version": "1.2.0",
            "_view_name": "StyleView",
            "description_width": ""
          }
        },
        "751bf2a216fa407181db97ec338326cb": {
          "model_module": "@jupyter-widgets/base",
          "model_name": "LayoutModel",
          "model_module_version": "1.2.0",
          "state": {
            "_model_module": "@jupyter-widgets/base",
            "_model_module_version": "1.2.0",
            "_model_name": "LayoutModel",
            "_view_count": null,
            "_view_module": "@jupyter-widgets/base",
            "_view_module_version": "1.2.0",
            "_view_name": "LayoutView",
            "align_content": null,
            "align_items": null,
            "align_self": null,
            "border": null,
            "bottom": null,
            "display": null,
            "flex": null,
            "flex_flow": null,
            "grid_area": null,
            "grid_auto_columns": null,
            "grid_auto_flow": null,
            "grid_auto_rows": null,
            "grid_column": null,
            "grid_gap": null,
            "grid_row": null,
            "grid_template_areas": null,
            "grid_template_columns": null,
            "grid_template_rows": null,
            "height": null,
            "justify_content": null,
            "justify_items": null,
            "left": null,
            "margin": null,
            "max_height": null,
            "max_width": null,
            "min_height": null,
            "min_width": null,
            "object_fit": null,
            "object_position": null,
            "order": null,
            "overflow": null,
            "overflow_x": null,
            "overflow_y": null,
            "padding": null,
            "right": null,
            "top": null,
            "visibility": null,
            "width": null
          }
        },
        "1b1a1e515e5f4cd486908f809a1f8fbd": {
          "model_module": "@jupyter-widgets/controls",
          "model_name": "ProgressStyleModel",
          "model_module_version": "1.5.0",
          "state": {
            "_model_module": "@jupyter-widgets/controls",
            "_model_module_version": "1.5.0",
            "_model_name": "ProgressStyleModel",
            "_view_count": null,
            "_view_module": "@jupyter-widgets/base",
            "_view_module_version": "1.2.0",
            "_view_name": "StyleView",
            "bar_color": null,
            "description_width": ""
          }
        },
        "e6bd664c2bf94b25889bc199ec909d18": {
          "model_module": "@jupyter-widgets/base",
          "model_name": "LayoutModel",
          "model_module_version": "1.2.0",
          "state": {
            "_model_module": "@jupyter-widgets/base",
            "_model_module_version": "1.2.0",
            "_model_name": "LayoutModel",
            "_view_count": null,
            "_view_module": "@jupyter-widgets/base",
            "_view_module_version": "1.2.0",
            "_view_name": "LayoutView",
            "align_content": null,
            "align_items": null,
            "align_self": null,
            "border": null,
            "bottom": null,
            "display": null,
            "flex": null,
            "flex_flow": null,
            "grid_area": null,
            "grid_auto_columns": null,
            "grid_auto_flow": null,
            "grid_auto_rows": null,
            "grid_column": null,
            "grid_gap": null,
            "grid_row": null,
            "grid_template_areas": null,
            "grid_template_columns": null,
            "grid_template_rows": null,
            "height": null,
            "justify_content": null,
            "justify_items": null,
            "left": null,
            "margin": null,
            "max_height": null,
            "max_width": null,
            "min_height": null,
            "min_width": null,
            "object_fit": null,
            "object_position": null,
            "order": null,
            "overflow": null,
            "overflow_x": null,
            "overflow_y": null,
            "padding": null,
            "right": null,
            "top": null,
            "visibility": null,
            "width": null
          }
        },
        "ecec728bbd854cc88d79b073a4076073": {
          "model_module": "@jupyter-widgets/controls",
          "model_name": "DescriptionStyleModel",
          "model_module_version": "1.5.0",
          "state": {
            "_model_module": "@jupyter-widgets/controls",
            "_model_module_version": "1.5.0",
            "_model_name": "DescriptionStyleModel",
            "_view_count": null,
            "_view_module": "@jupyter-widgets/base",
            "_view_module_version": "1.2.0",
            "_view_name": "StyleView",
            "description_width": ""
          }
        },
        "4794e36f035348b8a93e8eb44f30f6fe": {
          "model_module": "@jupyter-widgets/controls",
          "model_name": "HBoxModel",
          "model_module_version": "1.5.0",
          "state": {
            "_dom_classes": [],
            "_model_module": "@jupyter-widgets/controls",
            "_model_module_version": "1.5.0",
            "_model_name": "HBoxModel",
            "_view_count": null,
            "_view_module": "@jupyter-widgets/controls",
            "_view_module_version": "1.5.0",
            "_view_name": "HBoxView",
            "box_style": "",
            "children": [
              "IPY_MODEL_c831ea98181c4c378d196c01453d5a64",
              "IPY_MODEL_612a22343dbf4026af8d3a3886be4c27",
              "IPY_MODEL_70d6e1e1dd8448a49cdb2add12c46d68"
            ],
            "layout": "IPY_MODEL_7f0774f86c534f9f8ce88ee6a15df393"
          }
        },
        "c831ea98181c4c378d196c01453d5a64": {
          "model_module": "@jupyter-widgets/controls",
          "model_name": "HTMLModel",
          "model_module_version": "1.5.0",
          "state": {
            "_dom_classes": [],
            "_model_module": "@jupyter-widgets/controls",
            "_model_module_version": "1.5.0",
            "_model_name": "HTMLModel",
            "_view_count": null,
            "_view_module": "@jupyter-widgets/controls",
            "_view_module_version": "1.5.0",
            "_view_name": "HTMLView",
            "description": "",
            "description_tooltip": null,
            "layout": "IPY_MODEL_a62a3368882c4d038cac11b556c0361d",
            "placeholder": "​",
            "style": "IPY_MODEL_a4c454fa6e7c4b64980b192c6afb64f2",
            "value": "100%"
          }
        },
        "612a22343dbf4026af8d3a3886be4c27": {
          "model_module": "@jupyter-widgets/controls",
          "model_name": "FloatProgressModel",
          "model_module_version": "1.5.0",
          "state": {
            "_dom_classes": [],
            "_model_module": "@jupyter-widgets/controls",
            "_model_module_version": "1.5.0",
            "_model_name": "FloatProgressModel",
            "_view_count": null,
            "_view_module": "@jupyter-widgets/controls",
            "_view_module_version": "1.5.0",
            "_view_name": "ProgressView",
            "bar_style": "success",
            "description": "",
            "description_tooltip": null,
            "layout": "IPY_MODEL_1276607feece4dccb09dc521edd375fb",
            "max": 1,
            "min": 0,
            "orientation": "horizontal",
            "style": "IPY_MODEL_a73b2f392e9942a5a7e52269c9287328",
            "value": 1
          }
        },
        "70d6e1e1dd8448a49cdb2add12c46d68": {
          "model_module": "@jupyter-widgets/controls",
          "model_name": "HTMLModel",
          "model_module_version": "1.5.0",
          "state": {
            "_dom_classes": [],
            "_model_module": "@jupyter-widgets/controls",
            "_model_module_version": "1.5.0",
            "_model_name": "HTMLModel",
            "_view_count": null,
            "_view_module": "@jupyter-widgets/controls",
            "_view_module_version": "1.5.0",
            "_view_name": "HTMLView",
            "description": "",
            "description_tooltip": null,
            "layout": "IPY_MODEL_ca53d765dbbf432bad891869ea14d70e",
            "placeholder": "​",
            "style": "IPY_MODEL_27231db87bb94b4b96178ac657c64d6c",
            "value": " 1/1 [00:00&lt;00:00, 34.65it/s]"
          }
        },
        "7f0774f86c534f9f8ce88ee6a15df393": {
          "model_module": "@jupyter-widgets/base",
          "model_name": "LayoutModel",
          "model_module_version": "1.2.0",
          "state": {
            "_model_module": "@jupyter-widgets/base",
            "_model_module_version": "1.2.0",
            "_model_name": "LayoutModel",
            "_view_count": null,
            "_view_module": "@jupyter-widgets/base",
            "_view_module_version": "1.2.0",
            "_view_name": "LayoutView",
            "align_content": null,
            "align_items": null,
            "align_self": null,
            "border": null,
            "bottom": null,
            "display": null,
            "flex": null,
            "flex_flow": null,
            "grid_area": null,
            "grid_auto_columns": null,
            "grid_auto_flow": null,
            "grid_auto_rows": null,
            "grid_column": null,
            "grid_gap": null,
            "grid_row": null,
            "grid_template_areas": null,
            "grid_template_columns": null,
            "grid_template_rows": null,
            "height": null,
            "justify_content": null,
            "justify_items": null,
            "left": null,
            "margin": null,
            "max_height": null,
            "max_width": null,
            "min_height": null,
            "min_width": null,
            "object_fit": null,
            "object_position": null,
            "order": null,
            "overflow": null,
            "overflow_x": null,
            "overflow_y": null,
            "padding": null,
            "right": null,
            "top": null,
            "visibility": null,
            "width": null
          }
        },
        "a62a3368882c4d038cac11b556c0361d": {
          "model_module": "@jupyter-widgets/base",
          "model_name": "LayoutModel",
          "model_module_version": "1.2.0",
          "state": {
            "_model_module": "@jupyter-widgets/base",
            "_model_module_version": "1.2.0",
            "_model_name": "LayoutModel",
            "_view_count": null,
            "_view_module": "@jupyter-widgets/base",
            "_view_module_version": "1.2.0",
            "_view_name": "LayoutView",
            "align_content": null,
            "align_items": null,
            "align_self": null,
            "border": null,
            "bottom": null,
            "display": null,
            "flex": null,
            "flex_flow": null,
            "grid_area": null,
            "grid_auto_columns": null,
            "grid_auto_flow": null,
            "grid_auto_rows": null,
            "grid_column": null,
            "grid_gap": null,
            "grid_row": null,
            "grid_template_areas": null,
            "grid_template_columns": null,
            "grid_template_rows": null,
            "height": null,
            "justify_content": null,
            "justify_items": null,
            "left": null,
            "margin": null,
            "max_height": null,
            "max_width": null,
            "min_height": null,
            "min_width": null,
            "object_fit": null,
            "object_position": null,
            "order": null,
            "overflow": null,
            "overflow_x": null,
            "overflow_y": null,
            "padding": null,
            "right": null,
            "top": null,
            "visibility": null,
            "width": null
          }
        },
        "a4c454fa6e7c4b64980b192c6afb64f2": {
          "model_module": "@jupyter-widgets/controls",
          "model_name": "DescriptionStyleModel",
          "model_module_version": "1.5.0",
          "state": {
            "_model_module": "@jupyter-widgets/controls",
            "_model_module_version": "1.5.0",
            "_model_name": "DescriptionStyleModel",
            "_view_count": null,
            "_view_module": "@jupyter-widgets/base",
            "_view_module_version": "1.2.0",
            "_view_name": "StyleView",
            "description_width": ""
          }
        },
        "1276607feece4dccb09dc521edd375fb": {
          "model_module": "@jupyter-widgets/base",
          "model_name": "LayoutModel",
          "model_module_version": "1.2.0",
          "state": {
            "_model_module": "@jupyter-widgets/base",
            "_model_module_version": "1.2.0",
            "_model_name": "LayoutModel",
            "_view_count": null,
            "_view_module": "@jupyter-widgets/base",
            "_view_module_version": "1.2.0",
            "_view_name": "LayoutView",
            "align_content": null,
            "align_items": null,
            "align_self": null,
            "border": null,
            "bottom": null,
            "display": null,
            "flex": null,
            "flex_flow": null,
            "grid_area": null,
            "grid_auto_columns": null,
            "grid_auto_flow": null,
            "grid_auto_rows": null,
            "grid_column": null,
            "grid_gap": null,
            "grid_row": null,
            "grid_template_areas": null,
            "grid_template_columns": null,
            "grid_template_rows": null,
            "height": null,
            "justify_content": null,
            "justify_items": null,
            "left": null,
            "margin": null,
            "max_height": null,
            "max_width": null,
            "min_height": null,
            "min_width": null,
            "object_fit": null,
            "object_position": null,
            "order": null,
            "overflow": null,
            "overflow_x": null,
            "overflow_y": null,
            "padding": null,
            "right": null,
            "top": null,
            "visibility": null,
            "width": null
          }
        },
        "a73b2f392e9942a5a7e52269c9287328": {
          "model_module": "@jupyter-widgets/controls",
          "model_name": "ProgressStyleModel",
          "model_module_version": "1.5.0",
          "state": {
            "_model_module": "@jupyter-widgets/controls",
            "_model_module_version": "1.5.0",
            "_model_name": "ProgressStyleModel",
            "_view_count": null,
            "_view_module": "@jupyter-widgets/base",
            "_view_module_version": "1.2.0",
            "_view_name": "StyleView",
            "bar_color": null,
            "description_width": ""
          }
        },
        "ca53d765dbbf432bad891869ea14d70e": {
          "model_module": "@jupyter-widgets/base",
          "model_name": "LayoutModel",
          "model_module_version": "1.2.0",
          "state": {
            "_model_module": "@jupyter-widgets/base",
            "_model_module_version": "1.2.0",
            "_model_name": "LayoutModel",
            "_view_count": null,
            "_view_module": "@jupyter-widgets/base",
            "_view_module_version": "1.2.0",
            "_view_name": "LayoutView",
            "align_content": null,
            "align_items": null,
            "align_self": null,
            "border": null,
            "bottom": null,
            "display": null,
            "flex": null,
            "flex_flow": null,
            "grid_area": null,
            "grid_auto_columns": null,
            "grid_auto_flow": null,
            "grid_auto_rows": null,
            "grid_column": null,
            "grid_gap": null,
            "grid_row": null,
            "grid_template_areas": null,
            "grid_template_columns": null,
            "grid_template_rows": null,
            "height": null,
            "justify_content": null,
            "justify_items": null,
            "left": null,
            "margin": null,
            "max_height": null,
            "max_width": null,
            "min_height": null,
            "min_width": null,
            "object_fit": null,
            "object_position": null,
            "order": null,
            "overflow": null,
            "overflow_x": null,
            "overflow_y": null,
            "padding": null,
            "right": null,
            "top": null,
            "visibility": null,
            "width": null
          }
        },
        "27231db87bb94b4b96178ac657c64d6c": {
          "model_module": "@jupyter-widgets/controls",
          "model_name": "DescriptionStyleModel",
          "model_module_version": "1.5.0",
          "state": {
            "_model_module": "@jupyter-widgets/controls",
            "_model_module_version": "1.5.0",
            "_model_name": "DescriptionStyleModel",
            "_view_count": null,
            "_view_module": "@jupyter-widgets/base",
            "_view_module_version": "1.2.0",
            "_view_name": "StyleView",
            "description_width": ""
          }
        },
        "e171954349a64a24bf74c57c69ec9c44": {
          "model_module": "@jupyter-widgets/controls",
          "model_name": "HBoxModel",
          "model_module_version": "1.5.0",
          "state": {
            "_dom_classes": [],
            "_model_module": "@jupyter-widgets/controls",
            "_model_module_version": "1.5.0",
            "_model_name": "HBoxModel",
            "_view_count": null,
            "_view_module": "@jupyter-widgets/controls",
            "_view_module_version": "1.5.0",
            "_view_name": "HBoxView",
            "box_style": "",
            "children": [
              "IPY_MODEL_e5d1fdea681145c3a6143b4dca8275c1",
              "IPY_MODEL_e62296fae91a4a40a5f5653879fec7aa",
              "IPY_MODEL_d6391b0e82c9415ebc7664a692c91ba3"
            ],
            "layout": "IPY_MODEL_14370d53de22440ea209a1197a1b26ed"
          }
        },
        "e5d1fdea681145c3a6143b4dca8275c1": {
          "model_module": "@jupyter-widgets/controls",
          "model_name": "HTMLModel",
          "model_module_version": "1.5.0",
          "state": {
            "_dom_classes": [],
            "_model_module": "@jupyter-widgets/controls",
            "_model_module_version": "1.5.0",
            "_model_name": "HTMLModel",
            "_view_count": null,
            "_view_module": "@jupyter-widgets/controls",
            "_view_module_version": "1.5.0",
            "_view_name": "HTMLView",
            "description": "",
            "description_tooltip": null,
            "layout": "IPY_MODEL_a183a9b3d314437fad2f0ccfa9c5d444",
            "placeholder": "​",
            "style": "IPY_MODEL_80e82c57334f4735984201c1b78ca479",
            "value": "100%"
          }
        },
        "e62296fae91a4a40a5f5653879fec7aa": {
          "model_module": "@jupyter-widgets/controls",
          "model_name": "FloatProgressModel",
          "model_module_version": "1.5.0",
          "state": {
            "_dom_classes": [],
            "_model_module": "@jupyter-widgets/controls",
            "_model_module_version": "1.5.0",
            "_model_name": "FloatProgressModel",
            "_view_count": null,
            "_view_module": "@jupyter-widgets/controls",
            "_view_module_version": "1.5.0",
            "_view_name": "ProgressView",
            "bar_style": "success",
            "description": "",
            "description_tooltip": null,
            "layout": "IPY_MODEL_a1424d3708b449acb33107f4a5c5c263",
            "max": 20,
            "min": 0,
            "orientation": "horizontal",
            "style": "IPY_MODEL_9d91022e293444c69381e6b07752ce2b",
            "value": 20
          }
        },
        "d6391b0e82c9415ebc7664a692c91ba3": {
          "model_module": "@jupyter-widgets/controls",
          "model_name": "HTMLModel",
          "model_module_version": "1.5.0",
          "state": {
            "_dom_classes": [],
            "_model_module": "@jupyter-widgets/controls",
            "_model_module_version": "1.5.0",
            "_model_name": "HTMLModel",
            "_view_count": null,
            "_view_module": "@jupyter-widgets/controls",
            "_view_module_version": "1.5.0",
            "_view_name": "HTMLView",
            "description": "",
            "description_tooltip": null,
            "layout": "IPY_MODEL_71034debbdbf4e47a1fd47ffe9821948",
            "placeholder": "​",
            "style": "IPY_MODEL_4f354ec8b5d24c59b25f3fbac4025603",
            "value": " 20/20 [11:28&lt;00:00, 35.91s/ba]"
          }
        },
        "14370d53de22440ea209a1197a1b26ed": {
          "model_module": "@jupyter-widgets/base",
          "model_name": "LayoutModel",
          "model_module_version": "1.2.0",
          "state": {
            "_model_module": "@jupyter-widgets/base",
            "_model_module_version": "1.2.0",
            "_model_name": "LayoutModel",
            "_view_count": null,
            "_view_module": "@jupyter-widgets/base",
            "_view_module_version": "1.2.0",
            "_view_name": "LayoutView",
            "align_content": null,
            "align_items": null,
            "align_self": null,
            "border": null,
            "bottom": null,
            "display": null,
            "flex": null,
            "flex_flow": null,
            "grid_area": null,
            "grid_auto_columns": null,
            "grid_auto_flow": null,
            "grid_auto_rows": null,
            "grid_column": null,
            "grid_gap": null,
            "grid_row": null,
            "grid_template_areas": null,
            "grid_template_columns": null,
            "grid_template_rows": null,
            "height": null,
            "justify_content": null,
            "justify_items": null,
            "left": null,
            "margin": null,
            "max_height": null,
            "max_width": null,
            "min_height": null,
            "min_width": null,
            "object_fit": null,
            "object_position": null,
            "order": null,
            "overflow": null,
            "overflow_x": null,
            "overflow_y": null,
            "padding": null,
            "right": null,
            "top": null,
            "visibility": null,
            "width": null
          }
        },
        "a183a9b3d314437fad2f0ccfa9c5d444": {
          "model_module": "@jupyter-widgets/base",
          "model_name": "LayoutModel",
          "model_module_version": "1.2.0",
          "state": {
            "_model_module": "@jupyter-widgets/base",
            "_model_module_version": "1.2.0",
            "_model_name": "LayoutModel",
            "_view_count": null,
            "_view_module": "@jupyter-widgets/base",
            "_view_module_version": "1.2.0",
            "_view_name": "LayoutView",
            "align_content": null,
            "align_items": null,
            "align_self": null,
            "border": null,
            "bottom": null,
            "display": null,
            "flex": null,
            "flex_flow": null,
            "grid_area": null,
            "grid_auto_columns": null,
            "grid_auto_flow": null,
            "grid_auto_rows": null,
            "grid_column": null,
            "grid_gap": null,
            "grid_row": null,
            "grid_template_areas": null,
            "grid_template_columns": null,
            "grid_template_rows": null,
            "height": null,
            "justify_content": null,
            "justify_items": null,
            "left": null,
            "margin": null,
            "max_height": null,
            "max_width": null,
            "min_height": null,
            "min_width": null,
            "object_fit": null,
            "object_position": null,
            "order": null,
            "overflow": null,
            "overflow_x": null,
            "overflow_y": null,
            "padding": null,
            "right": null,
            "top": null,
            "visibility": null,
            "width": null
          }
        },
        "80e82c57334f4735984201c1b78ca479": {
          "model_module": "@jupyter-widgets/controls",
          "model_name": "DescriptionStyleModel",
          "model_module_version": "1.5.0",
          "state": {
            "_model_module": "@jupyter-widgets/controls",
            "_model_module_version": "1.5.0",
            "_model_name": "DescriptionStyleModel",
            "_view_count": null,
            "_view_module": "@jupyter-widgets/base",
            "_view_module_version": "1.2.0",
            "_view_name": "StyleView",
            "description_width": ""
          }
        },
        "a1424d3708b449acb33107f4a5c5c263": {
          "model_module": "@jupyter-widgets/base",
          "model_name": "LayoutModel",
          "model_module_version": "1.2.0",
          "state": {
            "_model_module": "@jupyter-widgets/base",
            "_model_module_version": "1.2.0",
            "_model_name": "LayoutModel",
            "_view_count": null,
            "_view_module": "@jupyter-widgets/base",
            "_view_module_version": "1.2.0",
            "_view_name": "LayoutView",
            "align_content": null,
            "align_items": null,
            "align_self": null,
            "border": null,
            "bottom": null,
            "display": null,
            "flex": null,
            "flex_flow": null,
            "grid_area": null,
            "grid_auto_columns": null,
            "grid_auto_flow": null,
            "grid_auto_rows": null,
            "grid_column": null,
            "grid_gap": null,
            "grid_row": null,
            "grid_template_areas": null,
            "grid_template_columns": null,
            "grid_template_rows": null,
            "height": null,
            "justify_content": null,
            "justify_items": null,
            "left": null,
            "margin": null,
            "max_height": null,
            "max_width": null,
            "min_height": null,
            "min_width": null,
            "object_fit": null,
            "object_position": null,
            "order": null,
            "overflow": null,
            "overflow_x": null,
            "overflow_y": null,
            "padding": null,
            "right": null,
            "top": null,
            "visibility": null,
            "width": null
          }
        },
        "9d91022e293444c69381e6b07752ce2b": {
          "model_module": "@jupyter-widgets/controls",
          "model_name": "ProgressStyleModel",
          "model_module_version": "1.5.0",
          "state": {
            "_model_module": "@jupyter-widgets/controls",
            "_model_module_version": "1.5.0",
            "_model_name": "ProgressStyleModel",
            "_view_count": null,
            "_view_module": "@jupyter-widgets/base",
            "_view_module_version": "1.2.0",
            "_view_name": "StyleView",
            "bar_color": null,
            "description_width": ""
          }
        },
        "71034debbdbf4e47a1fd47ffe9821948": {
          "model_module": "@jupyter-widgets/base",
          "model_name": "LayoutModel",
          "model_module_version": "1.2.0",
          "state": {
            "_model_module": "@jupyter-widgets/base",
            "_model_module_version": "1.2.0",
            "_model_name": "LayoutModel",
            "_view_count": null,
            "_view_module": "@jupyter-widgets/base",
            "_view_module_version": "1.2.0",
            "_view_name": "LayoutView",
            "align_content": null,
            "align_items": null,
            "align_self": null,
            "border": null,
            "bottom": null,
            "display": null,
            "flex": null,
            "flex_flow": null,
            "grid_area": null,
            "grid_auto_columns": null,
            "grid_auto_flow": null,
            "grid_auto_rows": null,
            "grid_column": null,
            "grid_gap": null,
            "grid_row": null,
            "grid_template_areas": null,
            "grid_template_columns": null,
            "grid_template_rows": null,
            "height": null,
            "justify_content": null,
            "justify_items": null,
            "left": null,
            "margin": null,
            "max_height": null,
            "max_width": null,
            "min_height": null,
            "min_width": null,
            "object_fit": null,
            "object_position": null,
            "order": null,
            "overflow": null,
            "overflow_x": null,
            "overflow_y": null,
            "padding": null,
            "right": null,
            "top": null,
            "visibility": null,
            "width": null
          }
        },
        "4f354ec8b5d24c59b25f3fbac4025603": {
          "model_module": "@jupyter-widgets/controls",
          "model_name": "DescriptionStyleModel",
          "model_module_version": "1.5.0",
          "state": {
            "_model_module": "@jupyter-widgets/controls",
            "_model_module_version": "1.5.0",
            "_model_name": "DescriptionStyleModel",
            "_view_count": null,
            "_view_module": "@jupyter-widgets/base",
            "_view_module_version": "1.2.0",
            "_view_name": "StyleView",
            "description_width": ""
          }
        },
        "e4382393a2d241118528b964be7efe13": {
          "model_module": "@jupyter-widgets/controls",
          "model_name": "HBoxModel",
          "model_module_version": "1.5.0",
          "state": {
            "_dom_classes": [],
            "_model_module": "@jupyter-widgets/controls",
            "_model_module_version": "1.5.0",
            "_model_name": "HBoxModel",
            "_view_count": null,
            "_view_module": "@jupyter-widgets/controls",
            "_view_module_version": "1.5.0",
            "_view_name": "HBoxView",
            "box_style": "",
            "children": [
              "IPY_MODEL_95b7ef877b49424fbc617153835afb04",
              "IPY_MODEL_b88dd38b15884de896deb3ed7300c21a",
              "IPY_MODEL_6a81746aac6644b186849c3a240d299e"
            ],
            "layout": "IPY_MODEL_bbc524aa13fd44b484a22d4fa37736dd"
          }
        },
        "95b7ef877b49424fbc617153835afb04": {
          "model_module": "@jupyter-widgets/controls",
          "model_name": "HTMLModel",
          "model_module_version": "1.5.0",
          "state": {
            "_dom_classes": [],
            "_model_module": "@jupyter-widgets/controls",
            "_model_module_version": "1.5.0",
            "_model_name": "HTMLModel",
            "_view_count": null,
            "_view_module": "@jupyter-widgets/controls",
            "_view_module_version": "1.5.0",
            "_view_name": "HTMLView",
            "description": "",
            "description_tooltip": null,
            "layout": "IPY_MODEL_a026077e83f440eb9e2ef944df4463c4",
            "placeholder": "​",
            "style": "IPY_MODEL_d558fa4855f64bb1a9960ea4340b51e3",
            "value": "100%"
          }
        },
        "b88dd38b15884de896deb3ed7300c21a": {
          "model_module": "@jupyter-widgets/controls",
          "model_name": "FloatProgressModel",
          "model_module_version": "1.5.0",
          "state": {
            "_dom_classes": [],
            "_model_module": "@jupyter-widgets/controls",
            "_model_module_version": "1.5.0",
            "_model_name": "FloatProgressModel",
            "_view_count": null,
            "_view_module": "@jupyter-widgets/controls",
            "_view_module_version": "1.5.0",
            "_view_name": "ProgressView",
            "bar_style": "success",
            "description": "",
            "description_tooltip": null,
            "layout": "IPY_MODEL_efdba90c9ded4e56a046fc55bd2acac2",
            "max": 3,
            "min": 0,
            "orientation": "horizontal",
            "style": "IPY_MODEL_154dd44305254ebea611f5812628ba97",
            "value": 3
          }
        },
        "6a81746aac6644b186849c3a240d299e": {
          "model_module": "@jupyter-widgets/controls",
          "model_name": "HTMLModel",
          "model_module_version": "1.5.0",
          "state": {
            "_dom_classes": [],
            "_model_module": "@jupyter-widgets/controls",
            "_model_module_version": "1.5.0",
            "_model_name": "HTMLModel",
            "_view_count": null,
            "_view_module": "@jupyter-widgets/controls",
            "_view_module_version": "1.5.0",
            "_view_name": "HTMLView",
            "description": "",
            "description_tooltip": null,
            "layout": "IPY_MODEL_86136201c64d4d78962951835f8c15ba",
            "placeholder": "​",
            "style": "IPY_MODEL_585d1bc822104950b65d0c8e9b0ae896",
            "value": " 3/3 [01:22&lt;00:00, 25.69s/ba]"
          }
        },
        "bbc524aa13fd44b484a22d4fa37736dd": {
          "model_module": "@jupyter-widgets/base",
          "model_name": "LayoutModel",
          "model_module_version": "1.2.0",
          "state": {
            "_model_module": "@jupyter-widgets/base",
            "_model_module_version": "1.2.0",
            "_model_name": "LayoutModel",
            "_view_count": null,
            "_view_module": "@jupyter-widgets/base",
            "_view_module_version": "1.2.0",
            "_view_name": "LayoutView",
            "align_content": null,
            "align_items": null,
            "align_self": null,
            "border": null,
            "bottom": null,
            "display": null,
            "flex": null,
            "flex_flow": null,
            "grid_area": null,
            "grid_auto_columns": null,
            "grid_auto_flow": null,
            "grid_auto_rows": null,
            "grid_column": null,
            "grid_gap": null,
            "grid_row": null,
            "grid_template_areas": null,
            "grid_template_columns": null,
            "grid_template_rows": null,
            "height": null,
            "justify_content": null,
            "justify_items": null,
            "left": null,
            "margin": null,
            "max_height": null,
            "max_width": null,
            "min_height": null,
            "min_width": null,
            "object_fit": null,
            "object_position": null,
            "order": null,
            "overflow": null,
            "overflow_x": null,
            "overflow_y": null,
            "padding": null,
            "right": null,
            "top": null,
            "visibility": null,
            "width": null
          }
        },
        "a026077e83f440eb9e2ef944df4463c4": {
          "model_module": "@jupyter-widgets/base",
          "model_name": "LayoutModel",
          "model_module_version": "1.2.0",
          "state": {
            "_model_module": "@jupyter-widgets/base",
            "_model_module_version": "1.2.0",
            "_model_name": "LayoutModel",
            "_view_count": null,
            "_view_module": "@jupyter-widgets/base",
            "_view_module_version": "1.2.0",
            "_view_name": "LayoutView",
            "align_content": null,
            "align_items": null,
            "align_self": null,
            "border": null,
            "bottom": null,
            "display": null,
            "flex": null,
            "flex_flow": null,
            "grid_area": null,
            "grid_auto_columns": null,
            "grid_auto_flow": null,
            "grid_auto_rows": null,
            "grid_column": null,
            "grid_gap": null,
            "grid_row": null,
            "grid_template_areas": null,
            "grid_template_columns": null,
            "grid_template_rows": null,
            "height": null,
            "justify_content": null,
            "justify_items": null,
            "left": null,
            "margin": null,
            "max_height": null,
            "max_width": null,
            "min_height": null,
            "min_width": null,
            "object_fit": null,
            "object_position": null,
            "order": null,
            "overflow": null,
            "overflow_x": null,
            "overflow_y": null,
            "padding": null,
            "right": null,
            "top": null,
            "visibility": null,
            "width": null
          }
        },
        "d558fa4855f64bb1a9960ea4340b51e3": {
          "model_module": "@jupyter-widgets/controls",
          "model_name": "DescriptionStyleModel",
          "model_module_version": "1.5.0",
          "state": {
            "_model_module": "@jupyter-widgets/controls",
            "_model_module_version": "1.5.0",
            "_model_name": "DescriptionStyleModel",
            "_view_count": null,
            "_view_module": "@jupyter-widgets/base",
            "_view_module_version": "1.2.0",
            "_view_name": "StyleView",
            "description_width": ""
          }
        },
        "efdba90c9ded4e56a046fc55bd2acac2": {
          "model_module": "@jupyter-widgets/base",
          "model_name": "LayoutModel",
          "model_module_version": "1.2.0",
          "state": {
            "_model_module": "@jupyter-widgets/base",
            "_model_module_version": "1.2.0",
            "_model_name": "LayoutModel",
            "_view_count": null,
            "_view_module": "@jupyter-widgets/base",
            "_view_module_version": "1.2.0",
            "_view_name": "LayoutView",
            "align_content": null,
            "align_items": null,
            "align_self": null,
            "border": null,
            "bottom": null,
            "display": null,
            "flex": null,
            "flex_flow": null,
            "grid_area": null,
            "grid_auto_columns": null,
            "grid_auto_flow": null,
            "grid_auto_rows": null,
            "grid_column": null,
            "grid_gap": null,
            "grid_row": null,
            "grid_template_areas": null,
            "grid_template_columns": null,
            "grid_template_rows": null,
            "height": null,
            "justify_content": null,
            "justify_items": null,
            "left": null,
            "margin": null,
            "max_height": null,
            "max_width": null,
            "min_height": null,
            "min_width": null,
            "object_fit": null,
            "object_position": null,
            "order": null,
            "overflow": null,
            "overflow_x": null,
            "overflow_y": null,
            "padding": null,
            "right": null,
            "top": null,
            "visibility": null,
            "width": null
          }
        },
        "154dd44305254ebea611f5812628ba97": {
          "model_module": "@jupyter-widgets/controls",
          "model_name": "ProgressStyleModel",
          "model_module_version": "1.5.0",
          "state": {
            "_model_module": "@jupyter-widgets/controls",
            "_model_module_version": "1.5.0",
            "_model_name": "ProgressStyleModel",
            "_view_count": null,
            "_view_module": "@jupyter-widgets/base",
            "_view_module_version": "1.2.0",
            "_view_name": "StyleView",
            "bar_color": null,
            "description_width": ""
          }
        },
        "86136201c64d4d78962951835f8c15ba": {
          "model_module": "@jupyter-widgets/base",
          "model_name": "LayoutModel",
          "model_module_version": "1.2.0",
          "state": {
            "_model_module": "@jupyter-widgets/base",
            "_model_module_version": "1.2.0",
            "_model_name": "LayoutModel",
            "_view_count": null,
            "_view_module": "@jupyter-widgets/base",
            "_view_module_version": "1.2.0",
            "_view_name": "LayoutView",
            "align_content": null,
            "align_items": null,
            "align_self": null,
            "border": null,
            "bottom": null,
            "display": null,
            "flex": null,
            "flex_flow": null,
            "grid_area": null,
            "grid_auto_columns": null,
            "grid_auto_flow": null,
            "grid_auto_rows": null,
            "grid_column": null,
            "grid_gap": null,
            "grid_row": null,
            "grid_template_areas": null,
            "grid_template_columns": null,
            "grid_template_rows": null,
            "height": null,
            "justify_content": null,
            "justify_items": null,
            "left": null,
            "margin": null,
            "max_height": null,
            "max_width": null,
            "min_height": null,
            "min_width": null,
            "object_fit": null,
            "object_position": null,
            "order": null,
            "overflow": null,
            "overflow_x": null,
            "overflow_y": null,
            "padding": null,
            "right": null,
            "top": null,
            "visibility": null,
            "width": null
          }
        },
        "585d1bc822104950b65d0c8e9b0ae896": {
          "model_module": "@jupyter-widgets/controls",
          "model_name": "DescriptionStyleModel",
          "model_module_version": "1.5.0",
          "state": {
            "_model_module": "@jupyter-widgets/controls",
            "_model_module_version": "1.5.0",
            "_model_name": "DescriptionStyleModel",
            "_view_count": null,
            "_view_module": "@jupyter-widgets/base",
            "_view_module_version": "1.2.0",
            "_view_name": "StyleView",
            "description_width": ""
          }
        },
        "8c2f7a4e2b884e3089665d999d9446c8": {
          "model_module": "@jupyter-widgets/controls",
          "model_name": "HBoxModel",
          "model_module_version": "1.5.0",
          "state": {
            "_dom_classes": [],
            "_model_module": "@jupyter-widgets/controls",
            "_model_module_version": "1.5.0",
            "_model_name": "HBoxModel",
            "_view_count": null,
            "_view_module": "@jupyter-widgets/controls",
            "_view_module_version": "1.5.0",
            "_view_name": "HBoxView",
            "box_style": "",
            "children": [
              "IPY_MODEL_dd96f7c036204e9da33b2c5105b5b732",
              "IPY_MODEL_fab4a894942f4bacafba9ba4f9f01a05",
              "IPY_MODEL_cffe84ee2cbc41648a18ae86443e033a"
            ],
            "layout": "IPY_MODEL_4cff872c68254f3db87cb50421eb8091"
          }
        },
        "dd96f7c036204e9da33b2c5105b5b732": {
          "model_module": "@jupyter-widgets/controls",
          "model_name": "HTMLModel",
          "model_module_version": "1.5.0",
          "state": {
            "_dom_classes": [],
            "_model_module": "@jupyter-widgets/controls",
            "_model_module_version": "1.5.0",
            "_model_name": "HTMLModel",
            "_view_count": null,
            "_view_module": "@jupyter-widgets/controls",
            "_view_module_version": "1.5.0",
            "_view_name": "HTMLView",
            "description": "",
            "description_tooltip": null,
            "layout": "IPY_MODEL_7c963e1b51f048f69b8f6389b00d2aea",
            "placeholder": "​",
            "style": "IPY_MODEL_4442fce82d5c4edd96f2a6db0cf1e406",
            "value": "Skipping the first batches: 100%"
          }
        },
        "fab4a894942f4bacafba9ba4f9f01a05": {
          "model_module": "@jupyter-widgets/controls",
          "model_name": "FloatProgressModel",
          "model_module_version": "1.5.0",
          "state": {
            "_dom_classes": [],
            "_model_module": "@jupyter-widgets/controls",
            "_model_module_version": "1.5.0",
            "_model_name": "FloatProgressModel",
            "_view_count": null,
            "_view_module": "@jupyter-widgets/controls",
            "_view_module_version": "1.5.0",
            "_view_name": "ProgressView",
            "bar_style": "success",
            "description": "",
            "description_tooltip": null,
            "layout": "IPY_MODEL_46ee994c481049a3a9074aa8296ea55e",
            "max": 45500,
            "min": 0,
            "orientation": "horizontal",
            "style": "IPY_MODEL_214cee7a03df448ab307a30f7a72720b",
            "value": 45500
          }
        },
        "cffe84ee2cbc41648a18ae86443e033a": {
          "model_module": "@jupyter-widgets/controls",
          "model_name": "HTMLModel",
          "model_module_version": "1.5.0",
          "state": {
            "_dom_classes": [],
            "_model_module": "@jupyter-widgets/controls",
            "_model_module_version": "1.5.0",
            "_model_name": "HTMLModel",
            "_view_count": null,
            "_view_module": "@jupyter-widgets/controls",
            "_view_module_version": "1.5.0",
            "_view_name": "HTMLView",
            "description": "",
            "description_tooltip": null,
            "layout": "IPY_MODEL_e55716240f174adb8f88b533393636ea",
            "placeholder": "​",
            "style": "IPY_MODEL_59382330dfb344fda7f7fca73e776009",
            "value": " 45500/45500 [04:37&lt;00:00, 165.40it/s]"
          }
        },
        "4cff872c68254f3db87cb50421eb8091": {
          "model_module": "@jupyter-widgets/base",
          "model_name": "LayoutModel",
          "model_module_version": "1.2.0",
          "state": {
            "_model_module": "@jupyter-widgets/base",
            "_model_module_version": "1.2.0",
            "_model_name": "LayoutModel",
            "_view_count": null,
            "_view_module": "@jupyter-widgets/base",
            "_view_module_version": "1.2.0",
            "_view_name": "LayoutView",
            "align_content": null,
            "align_items": null,
            "align_self": null,
            "border": null,
            "bottom": null,
            "display": null,
            "flex": null,
            "flex_flow": null,
            "grid_area": null,
            "grid_auto_columns": null,
            "grid_auto_flow": null,
            "grid_auto_rows": null,
            "grid_column": null,
            "grid_gap": null,
            "grid_row": null,
            "grid_template_areas": null,
            "grid_template_columns": null,
            "grid_template_rows": null,
            "height": null,
            "justify_content": null,
            "justify_items": null,
            "left": null,
            "margin": null,
            "max_height": null,
            "max_width": null,
            "min_height": null,
            "min_width": null,
            "object_fit": null,
            "object_position": null,
            "order": null,
            "overflow": null,
            "overflow_x": null,
            "overflow_y": null,
            "padding": null,
            "right": null,
            "top": null,
            "visibility": null,
            "width": null
          }
        },
        "7c963e1b51f048f69b8f6389b00d2aea": {
          "model_module": "@jupyter-widgets/base",
          "model_name": "LayoutModel",
          "model_module_version": "1.2.0",
          "state": {
            "_model_module": "@jupyter-widgets/base",
            "_model_module_version": "1.2.0",
            "_model_name": "LayoutModel",
            "_view_count": null,
            "_view_module": "@jupyter-widgets/base",
            "_view_module_version": "1.2.0",
            "_view_name": "LayoutView",
            "align_content": null,
            "align_items": null,
            "align_self": null,
            "border": null,
            "bottom": null,
            "display": null,
            "flex": null,
            "flex_flow": null,
            "grid_area": null,
            "grid_auto_columns": null,
            "grid_auto_flow": null,
            "grid_auto_rows": null,
            "grid_column": null,
            "grid_gap": null,
            "grid_row": null,
            "grid_template_areas": null,
            "grid_template_columns": null,
            "grid_template_rows": null,
            "height": null,
            "justify_content": null,
            "justify_items": null,
            "left": null,
            "margin": null,
            "max_height": null,
            "max_width": null,
            "min_height": null,
            "min_width": null,
            "object_fit": null,
            "object_position": null,
            "order": null,
            "overflow": null,
            "overflow_x": null,
            "overflow_y": null,
            "padding": null,
            "right": null,
            "top": null,
            "visibility": null,
            "width": null
          }
        },
        "4442fce82d5c4edd96f2a6db0cf1e406": {
          "model_module": "@jupyter-widgets/controls",
          "model_name": "DescriptionStyleModel",
          "model_module_version": "1.5.0",
          "state": {
            "_model_module": "@jupyter-widgets/controls",
            "_model_module_version": "1.5.0",
            "_model_name": "DescriptionStyleModel",
            "_view_count": null,
            "_view_module": "@jupyter-widgets/base",
            "_view_module_version": "1.2.0",
            "_view_name": "StyleView",
            "description_width": ""
          }
        },
        "46ee994c481049a3a9074aa8296ea55e": {
          "model_module": "@jupyter-widgets/base",
          "model_name": "LayoutModel",
          "model_module_version": "1.2.0",
          "state": {
            "_model_module": "@jupyter-widgets/base",
            "_model_module_version": "1.2.0",
            "_model_name": "LayoutModel",
            "_view_count": null,
            "_view_module": "@jupyter-widgets/base",
            "_view_module_version": "1.2.0",
            "_view_name": "LayoutView",
            "align_content": null,
            "align_items": null,
            "align_self": null,
            "border": null,
            "bottom": null,
            "display": null,
            "flex": null,
            "flex_flow": null,
            "grid_area": null,
            "grid_auto_columns": null,
            "grid_auto_flow": null,
            "grid_auto_rows": null,
            "grid_column": null,
            "grid_gap": null,
            "grid_row": null,
            "grid_template_areas": null,
            "grid_template_columns": null,
            "grid_template_rows": null,
            "height": null,
            "justify_content": null,
            "justify_items": null,
            "left": null,
            "margin": null,
            "max_height": null,
            "max_width": null,
            "min_height": null,
            "min_width": null,
            "object_fit": null,
            "object_position": null,
            "order": null,
            "overflow": null,
            "overflow_x": null,
            "overflow_y": null,
            "padding": null,
            "right": null,
            "top": null,
            "visibility": null,
            "width": null
          }
        },
        "214cee7a03df448ab307a30f7a72720b": {
          "model_module": "@jupyter-widgets/controls",
          "model_name": "ProgressStyleModel",
          "model_module_version": "1.5.0",
          "state": {
            "_model_module": "@jupyter-widgets/controls",
            "_model_module_version": "1.5.0",
            "_model_name": "ProgressStyleModel",
            "_view_count": null,
            "_view_module": "@jupyter-widgets/base",
            "_view_module_version": "1.2.0",
            "_view_name": "StyleView",
            "bar_color": null,
            "description_width": ""
          }
        },
        "e55716240f174adb8f88b533393636ea": {
          "model_module": "@jupyter-widgets/base",
          "model_name": "LayoutModel",
          "model_module_version": "1.2.0",
          "state": {
            "_model_module": "@jupyter-widgets/base",
            "_model_module_version": "1.2.0",
            "_model_name": "LayoutModel",
            "_view_count": null,
            "_view_module": "@jupyter-widgets/base",
            "_view_module_version": "1.2.0",
            "_view_name": "LayoutView",
            "align_content": null,
            "align_items": null,
            "align_self": null,
            "border": null,
            "bottom": null,
            "display": null,
            "flex": null,
            "flex_flow": null,
            "grid_area": null,
            "grid_auto_columns": null,
            "grid_auto_flow": null,
            "grid_auto_rows": null,
            "grid_column": null,
            "grid_gap": null,
            "grid_row": null,
            "grid_template_areas": null,
            "grid_template_columns": null,
            "grid_template_rows": null,
            "height": null,
            "justify_content": null,
            "justify_items": null,
            "left": null,
            "margin": null,
            "max_height": null,
            "max_width": null,
            "min_height": null,
            "min_width": null,
            "object_fit": null,
            "object_position": null,
            "order": null,
            "overflow": null,
            "overflow_x": null,
            "overflow_y": null,
            "padding": null,
            "right": null,
            "top": null,
            "visibility": null,
            "width": null
          }
        },
        "59382330dfb344fda7f7fca73e776009": {
          "model_module": "@jupyter-widgets/controls",
          "model_name": "DescriptionStyleModel",
          "model_module_version": "1.5.0",
          "state": {
            "_model_module": "@jupyter-widgets/controls",
            "_model_module_version": "1.5.0",
            "_model_name": "DescriptionStyleModel",
            "_view_count": null,
            "_view_module": "@jupyter-widgets/base",
            "_view_module_version": "1.2.0",
            "_view_name": "StyleView",
            "description_width": ""
          }
        },
        "86ba6c3adb0a414292d1862219a3682e": {
          "model_module": "@jupyter-widgets/controls",
          "model_name": "HBoxModel",
          "model_module_version": "1.5.0",
          "state": {
            "_dom_classes": [],
            "_model_module": "@jupyter-widgets/controls",
            "_model_module_version": "1.5.0",
            "_model_name": "HBoxModel",
            "_view_count": null,
            "_view_module": "@jupyter-widgets/controls",
            "_view_module_version": "1.5.0",
            "_view_name": "HBoxView",
            "box_style": "",
            "children": [
              "IPY_MODEL_27201eb4adec422fbb272f16feccea1c",
              "IPY_MODEL_4e8718fcf80f499ba1dff87347934d70",
              "IPY_MODEL_2c6e7d42bb7244a2aeb0fe7d169fa01a"
            ],
            "layout": "IPY_MODEL_286816e6b0a74adabdc617513c283833"
          }
        },
        "27201eb4adec422fbb272f16feccea1c": {
          "model_module": "@jupyter-widgets/controls",
          "model_name": "HTMLModel",
          "model_module_version": "1.5.0",
          "state": {
            "_dom_classes": [],
            "_model_module": "@jupyter-widgets/controls",
            "_model_module_version": "1.5.0",
            "_model_name": "HTMLModel",
            "_view_count": null,
            "_view_module": "@jupyter-widgets/controls",
            "_view_module_version": "1.5.0",
            "_view_name": "HTMLView",
            "description": "",
            "description_tooltip": null,
            "layout": "IPY_MODEL_2b98c59eac704d4dbef8ad329ba5c5df",
            "placeholder": "​",
            "style": "IPY_MODEL_a1af86e3db284dbab856b291eee90415",
            "value": "100%"
          }
        },
        "4e8718fcf80f499ba1dff87347934d70": {
          "model_module": "@jupyter-widgets/controls",
          "model_name": "FloatProgressModel",
          "model_module_version": "1.5.0",
          "state": {
            "_dom_classes": [],
            "_model_module": "@jupyter-widgets/controls",
            "_model_module_version": "1.5.0",
            "_model_name": "FloatProgressModel",
            "_view_count": null,
            "_view_module": "@jupyter-widgets/controls",
            "_view_module_version": "1.5.0",
            "_view_name": "ProgressView",
            "bar_style": "success",
            "description": "",
            "description_tooltip": null,
            "layout": "IPY_MODEL_a05a40cdbdaf46d6ab13b1e4de3e8fd4",
            "max": 1,
            "min": 0,
            "orientation": "horizontal",
            "style": "IPY_MODEL_4af5c9fe08764b509fc5725135cfb4a9",
            "value": 1
          }
        },
        "2c6e7d42bb7244a2aeb0fe7d169fa01a": {
          "model_module": "@jupyter-widgets/controls",
          "model_name": "HTMLModel",
          "model_module_version": "1.5.0",
          "state": {
            "_dom_classes": [],
            "_model_module": "@jupyter-widgets/controls",
            "_model_module_version": "1.5.0",
            "_model_name": "HTMLModel",
            "_view_count": null,
            "_view_module": "@jupyter-widgets/controls",
            "_view_module_version": "1.5.0",
            "_view_name": "HTMLView",
            "description": "",
            "description_tooltip": null,
            "layout": "IPY_MODEL_201a7d45d50b42f798c963eb0f035879",
            "placeholder": "​",
            "style": "IPY_MODEL_f16304e5a2b4408fb542c3259b698e8d",
            "value": " 1/1 [00:00&lt;00:00,  1.04it/s]"
          }
        },
        "286816e6b0a74adabdc617513c283833": {
          "model_module": "@jupyter-widgets/base",
          "model_name": "LayoutModel",
          "model_module_version": "1.2.0",
          "state": {
            "_model_module": "@jupyter-widgets/base",
            "_model_module_version": "1.2.0",
            "_model_name": "LayoutModel",
            "_view_count": null,
            "_view_module": "@jupyter-widgets/base",
            "_view_module_version": "1.2.0",
            "_view_name": "LayoutView",
            "align_content": null,
            "align_items": null,
            "align_self": null,
            "border": null,
            "bottom": null,
            "display": null,
            "flex": null,
            "flex_flow": null,
            "grid_area": null,
            "grid_auto_columns": null,
            "grid_auto_flow": null,
            "grid_auto_rows": null,
            "grid_column": null,
            "grid_gap": null,
            "grid_row": null,
            "grid_template_areas": null,
            "grid_template_columns": null,
            "grid_template_rows": null,
            "height": null,
            "justify_content": null,
            "justify_items": null,
            "left": null,
            "margin": null,
            "max_height": null,
            "max_width": null,
            "min_height": null,
            "min_width": null,
            "object_fit": null,
            "object_position": null,
            "order": null,
            "overflow": null,
            "overflow_x": null,
            "overflow_y": null,
            "padding": null,
            "right": null,
            "top": null,
            "visibility": null,
            "width": null
          }
        },
        "2b98c59eac704d4dbef8ad329ba5c5df": {
          "model_module": "@jupyter-widgets/base",
          "model_name": "LayoutModel",
          "model_module_version": "1.2.0",
          "state": {
            "_model_module": "@jupyter-widgets/base",
            "_model_module_version": "1.2.0",
            "_model_name": "LayoutModel",
            "_view_count": null,
            "_view_module": "@jupyter-widgets/base",
            "_view_module_version": "1.2.0",
            "_view_name": "LayoutView",
            "align_content": null,
            "align_items": null,
            "align_self": null,
            "border": null,
            "bottom": null,
            "display": null,
            "flex": null,
            "flex_flow": null,
            "grid_area": null,
            "grid_auto_columns": null,
            "grid_auto_flow": null,
            "grid_auto_rows": null,
            "grid_column": null,
            "grid_gap": null,
            "grid_row": null,
            "grid_template_areas": null,
            "grid_template_columns": null,
            "grid_template_rows": null,
            "height": null,
            "justify_content": null,
            "justify_items": null,
            "left": null,
            "margin": null,
            "max_height": null,
            "max_width": null,
            "min_height": null,
            "min_width": null,
            "object_fit": null,
            "object_position": null,
            "order": null,
            "overflow": null,
            "overflow_x": null,
            "overflow_y": null,
            "padding": null,
            "right": null,
            "top": null,
            "visibility": null,
            "width": null
          }
        },
        "a1af86e3db284dbab856b291eee90415": {
          "model_module": "@jupyter-widgets/controls",
          "model_name": "DescriptionStyleModel",
          "model_module_version": "1.5.0",
          "state": {
            "_model_module": "@jupyter-widgets/controls",
            "_model_module_version": "1.5.0",
            "_model_name": "DescriptionStyleModel",
            "_view_count": null,
            "_view_module": "@jupyter-widgets/base",
            "_view_module_version": "1.2.0",
            "_view_name": "StyleView",
            "description_width": ""
          }
        },
        "a05a40cdbdaf46d6ab13b1e4de3e8fd4": {
          "model_module": "@jupyter-widgets/base",
          "model_name": "LayoutModel",
          "model_module_version": "1.2.0",
          "state": {
            "_model_module": "@jupyter-widgets/base",
            "_model_module_version": "1.2.0",
            "_model_name": "LayoutModel",
            "_view_count": null,
            "_view_module": "@jupyter-widgets/base",
            "_view_module_version": "1.2.0",
            "_view_name": "LayoutView",
            "align_content": null,
            "align_items": null,
            "align_self": null,
            "border": null,
            "bottom": null,
            "display": null,
            "flex": null,
            "flex_flow": null,
            "grid_area": null,
            "grid_auto_columns": null,
            "grid_auto_flow": null,
            "grid_auto_rows": null,
            "grid_column": null,
            "grid_gap": null,
            "grid_row": null,
            "grid_template_areas": null,
            "grid_template_columns": null,
            "grid_template_rows": null,
            "height": null,
            "justify_content": null,
            "justify_items": null,
            "left": null,
            "margin": null,
            "max_height": null,
            "max_width": null,
            "min_height": null,
            "min_width": null,
            "object_fit": null,
            "object_position": null,
            "order": null,
            "overflow": null,
            "overflow_x": null,
            "overflow_y": null,
            "padding": null,
            "right": null,
            "top": null,
            "visibility": null,
            "width": null
          }
        },
        "4af5c9fe08764b509fc5725135cfb4a9": {
          "model_module": "@jupyter-widgets/controls",
          "model_name": "ProgressStyleModel",
          "model_module_version": "1.5.0",
          "state": {
            "_model_module": "@jupyter-widgets/controls",
            "_model_module_version": "1.5.0",
            "_model_name": "ProgressStyleModel",
            "_view_count": null,
            "_view_module": "@jupyter-widgets/base",
            "_view_module_version": "1.2.0",
            "_view_name": "StyleView",
            "bar_color": null,
            "description_width": ""
          }
        },
        "201a7d45d50b42f798c963eb0f035879": {
          "model_module": "@jupyter-widgets/base",
          "model_name": "LayoutModel",
          "model_module_version": "1.2.0",
          "state": {
            "_model_module": "@jupyter-widgets/base",
            "_model_module_version": "1.2.0",
            "_model_name": "LayoutModel",
            "_view_count": null,
            "_view_module": "@jupyter-widgets/base",
            "_view_module_version": "1.2.0",
            "_view_name": "LayoutView",
            "align_content": null,
            "align_items": null,
            "align_self": null,
            "border": null,
            "bottom": null,
            "display": null,
            "flex": null,
            "flex_flow": null,
            "grid_area": null,
            "grid_auto_columns": null,
            "grid_auto_flow": null,
            "grid_auto_rows": null,
            "grid_column": null,
            "grid_gap": null,
            "grid_row": null,
            "grid_template_areas": null,
            "grid_template_columns": null,
            "grid_template_rows": null,
            "height": null,
            "justify_content": null,
            "justify_items": null,
            "left": null,
            "margin": null,
            "max_height": null,
            "max_width": null,
            "min_height": null,
            "min_width": null,
            "object_fit": null,
            "object_position": null,
            "order": null,
            "overflow": null,
            "overflow_x": null,
            "overflow_y": null,
            "padding": null,
            "right": null,
            "top": null,
            "visibility": null,
            "width": null
          }
        },
        "f16304e5a2b4408fb542c3259b698e8d": {
          "model_module": "@jupyter-widgets/controls",
          "model_name": "DescriptionStyleModel",
          "model_module_version": "1.5.0",
          "state": {
            "_model_module": "@jupyter-widgets/controls",
            "_model_module_version": "1.5.0",
            "_model_name": "DescriptionStyleModel",
            "_view_count": null,
            "_view_module": "@jupyter-widgets/base",
            "_view_module_version": "1.2.0",
            "_view_name": "StyleView",
            "description_width": ""
          }
        },
        "9b7725e86cfc4d00a6fef9af9551ddcf": {
          "model_module": "@jupyter-widgets/controls",
          "model_name": "HBoxModel",
          "model_module_version": "1.5.0",
          "state": {
            "_dom_classes": [],
            "_model_module": "@jupyter-widgets/controls",
            "_model_module_version": "1.5.0",
            "_model_name": "HBoxModel",
            "_view_count": null,
            "_view_module": "@jupyter-widgets/controls",
            "_view_module_version": "1.5.0",
            "_view_name": "HBoxView",
            "box_style": "",
            "children": [
              "IPY_MODEL_944bcf80b7df4939a8d71df19ef02d8c",
              "IPY_MODEL_50192abea13c4c649ba6e71a0e9af1b0",
              "IPY_MODEL_89bfe6ae6f9247ae9a6135e6b0eb6b68"
            ],
            "layout": "IPY_MODEL_12867f9c761c45e79b15043916ac6ba0"
          }
        },
        "944bcf80b7df4939a8d71df19ef02d8c": {
          "model_module": "@jupyter-widgets/controls",
          "model_name": "HTMLModel",
          "model_module_version": "1.5.0",
          "state": {
            "_dom_classes": [],
            "_model_module": "@jupyter-widgets/controls",
            "_model_module_version": "1.5.0",
            "_model_name": "HTMLModel",
            "_view_count": null,
            "_view_module": "@jupyter-widgets/controls",
            "_view_module_version": "1.5.0",
            "_view_name": "HTMLView",
            "description": "",
            "description_tooltip": null,
            "layout": "IPY_MODEL_df2701e44c4c423fa920251e908a31c3",
            "placeholder": "​",
            "style": "IPY_MODEL_af581e4ea5644d7da6eabb3a94b346e5",
            "value": "100%"
          }
        },
        "50192abea13c4c649ba6e71a0e9af1b0": {
          "model_module": "@jupyter-widgets/controls",
          "model_name": "FloatProgressModel",
          "model_module_version": "1.5.0",
          "state": {
            "_dom_classes": [],
            "_model_module": "@jupyter-widgets/controls",
            "_model_module_version": "1.5.0",
            "_model_name": "FloatProgressModel",
            "_view_count": null,
            "_view_module": "@jupyter-widgets/controls",
            "_view_module_version": "1.5.0",
            "_view_name": "ProgressView",
            "bar_style": "success",
            "description": "",
            "description_tooltip": null,
            "layout": "IPY_MODEL_e1d930b3bb514071a4995850c1a9581a",
            "max": 3,
            "min": 0,
            "orientation": "horizontal",
            "style": "IPY_MODEL_1d9eaa75e3b24735b228c96d839d4937",
            "value": 3
          }
        },
        "89bfe6ae6f9247ae9a6135e6b0eb6b68": {
          "model_module": "@jupyter-widgets/controls",
          "model_name": "HTMLModel",
          "model_module_version": "1.5.0",
          "state": {
            "_dom_classes": [],
            "_model_module": "@jupyter-widgets/controls",
            "_model_module_version": "1.5.0",
            "_model_name": "HTMLModel",
            "_view_count": null,
            "_view_module": "@jupyter-widgets/controls",
            "_view_module_version": "1.5.0",
            "_view_name": "HTMLView",
            "description": "",
            "description_tooltip": null,
            "layout": "IPY_MODEL_470462b258a74351b65246ae225f413e",
            "placeholder": "​",
            "style": "IPY_MODEL_1984e4da688a4a969f3eb739bf7a5141",
            "value": " 3/3 [23:22&lt;00:00, 430.00s/ba]"
          }
        },
        "12867f9c761c45e79b15043916ac6ba0": {
          "model_module": "@jupyter-widgets/base",
          "model_name": "LayoutModel",
          "model_module_version": "1.2.0",
          "state": {
            "_model_module": "@jupyter-widgets/base",
            "_model_module_version": "1.2.0",
            "_model_name": "LayoutModel",
            "_view_count": null,
            "_view_module": "@jupyter-widgets/base",
            "_view_module_version": "1.2.0",
            "_view_name": "LayoutView",
            "align_content": null,
            "align_items": null,
            "align_self": null,
            "border": null,
            "bottom": null,
            "display": null,
            "flex": null,
            "flex_flow": null,
            "grid_area": null,
            "grid_auto_columns": null,
            "grid_auto_flow": null,
            "grid_auto_rows": null,
            "grid_column": null,
            "grid_gap": null,
            "grid_row": null,
            "grid_template_areas": null,
            "grid_template_columns": null,
            "grid_template_rows": null,
            "height": null,
            "justify_content": null,
            "justify_items": null,
            "left": null,
            "margin": null,
            "max_height": null,
            "max_width": null,
            "min_height": null,
            "min_width": null,
            "object_fit": null,
            "object_position": null,
            "order": null,
            "overflow": null,
            "overflow_x": null,
            "overflow_y": null,
            "padding": null,
            "right": null,
            "top": null,
            "visibility": null,
            "width": null
          }
        },
        "df2701e44c4c423fa920251e908a31c3": {
          "model_module": "@jupyter-widgets/base",
          "model_name": "LayoutModel",
          "model_module_version": "1.2.0",
          "state": {
            "_model_module": "@jupyter-widgets/base",
            "_model_module_version": "1.2.0",
            "_model_name": "LayoutModel",
            "_view_count": null,
            "_view_module": "@jupyter-widgets/base",
            "_view_module_version": "1.2.0",
            "_view_name": "LayoutView",
            "align_content": null,
            "align_items": null,
            "align_self": null,
            "border": null,
            "bottom": null,
            "display": null,
            "flex": null,
            "flex_flow": null,
            "grid_area": null,
            "grid_auto_columns": null,
            "grid_auto_flow": null,
            "grid_auto_rows": null,
            "grid_column": null,
            "grid_gap": null,
            "grid_row": null,
            "grid_template_areas": null,
            "grid_template_columns": null,
            "grid_template_rows": null,
            "height": null,
            "justify_content": null,
            "justify_items": null,
            "left": null,
            "margin": null,
            "max_height": null,
            "max_width": null,
            "min_height": null,
            "min_width": null,
            "object_fit": null,
            "object_position": null,
            "order": null,
            "overflow": null,
            "overflow_x": null,
            "overflow_y": null,
            "padding": null,
            "right": null,
            "top": null,
            "visibility": null,
            "width": null
          }
        },
        "af581e4ea5644d7da6eabb3a94b346e5": {
          "model_module": "@jupyter-widgets/controls",
          "model_name": "DescriptionStyleModel",
          "model_module_version": "1.5.0",
          "state": {
            "_model_module": "@jupyter-widgets/controls",
            "_model_module_version": "1.5.0",
            "_model_name": "DescriptionStyleModel",
            "_view_count": null,
            "_view_module": "@jupyter-widgets/base",
            "_view_module_version": "1.2.0",
            "_view_name": "StyleView",
            "description_width": ""
          }
        },
        "e1d930b3bb514071a4995850c1a9581a": {
          "model_module": "@jupyter-widgets/base",
          "model_name": "LayoutModel",
          "model_module_version": "1.2.0",
          "state": {
            "_model_module": "@jupyter-widgets/base",
            "_model_module_version": "1.2.0",
            "_model_name": "LayoutModel",
            "_view_count": null,
            "_view_module": "@jupyter-widgets/base",
            "_view_module_version": "1.2.0",
            "_view_name": "LayoutView",
            "align_content": null,
            "align_items": null,
            "align_self": null,
            "border": null,
            "bottom": null,
            "display": null,
            "flex": null,
            "flex_flow": null,
            "grid_area": null,
            "grid_auto_columns": null,
            "grid_auto_flow": null,
            "grid_auto_rows": null,
            "grid_column": null,
            "grid_gap": null,
            "grid_row": null,
            "grid_template_areas": null,
            "grid_template_columns": null,
            "grid_template_rows": null,
            "height": null,
            "justify_content": null,
            "justify_items": null,
            "left": null,
            "margin": null,
            "max_height": null,
            "max_width": null,
            "min_height": null,
            "min_width": null,
            "object_fit": null,
            "object_position": null,
            "order": null,
            "overflow": null,
            "overflow_x": null,
            "overflow_y": null,
            "padding": null,
            "right": null,
            "top": null,
            "visibility": null,
            "width": null
          }
        },
        "1d9eaa75e3b24735b228c96d839d4937": {
          "model_module": "@jupyter-widgets/controls",
          "model_name": "ProgressStyleModel",
          "model_module_version": "1.5.0",
          "state": {
            "_model_module": "@jupyter-widgets/controls",
            "_model_module_version": "1.5.0",
            "_model_name": "ProgressStyleModel",
            "_view_count": null,
            "_view_module": "@jupyter-widgets/base",
            "_view_module_version": "1.2.0",
            "_view_name": "StyleView",
            "bar_color": null,
            "description_width": ""
          }
        },
        "470462b258a74351b65246ae225f413e": {
          "model_module": "@jupyter-widgets/base",
          "model_name": "LayoutModel",
          "model_module_version": "1.2.0",
          "state": {
            "_model_module": "@jupyter-widgets/base",
            "_model_module_version": "1.2.0",
            "_model_name": "LayoutModel",
            "_view_count": null,
            "_view_module": "@jupyter-widgets/base",
            "_view_module_version": "1.2.0",
            "_view_name": "LayoutView",
            "align_content": null,
            "align_items": null,
            "align_self": null,
            "border": null,
            "bottom": null,
            "display": null,
            "flex": null,
            "flex_flow": null,
            "grid_area": null,
            "grid_auto_columns": null,
            "grid_auto_flow": null,
            "grid_auto_rows": null,
            "grid_column": null,
            "grid_gap": null,
            "grid_row": null,
            "grid_template_areas": null,
            "grid_template_columns": null,
            "grid_template_rows": null,
            "height": null,
            "justify_content": null,
            "justify_items": null,
            "left": null,
            "margin": null,
            "max_height": null,
            "max_width": null,
            "min_height": null,
            "min_width": null,
            "object_fit": null,
            "object_position": null,
            "order": null,
            "overflow": null,
            "overflow_x": null,
            "overflow_y": null,
            "padding": null,
            "right": null,
            "top": null,
            "visibility": null,
            "width": null
          }
        },
        "1984e4da688a4a969f3eb739bf7a5141": {
          "model_module": "@jupyter-widgets/controls",
          "model_name": "DescriptionStyleModel",
          "model_module_version": "1.5.0",
          "state": {
            "_model_module": "@jupyter-widgets/controls",
            "_model_module_version": "1.5.0",
            "_model_name": "DescriptionStyleModel",
            "_view_count": null,
            "_view_module": "@jupyter-widgets/base",
            "_view_module_version": "1.2.0",
            "_view_name": "StyleView",
            "description_width": ""
          }
        },
        "a184271b2c69439180a2d82061e4cf24": {
          "model_module": "@jupyter-widgets/controls",
          "model_name": "HBoxModel",
          "model_module_version": "1.5.0",
          "state": {
            "_dom_classes": [],
            "_model_module": "@jupyter-widgets/controls",
            "_model_module_version": "1.5.0",
            "_model_name": "HBoxModel",
            "_view_count": null,
            "_view_module": "@jupyter-widgets/controls",
            "_view_module_version": "1.5.0",
            "_view_name": "HBoxView",
            "box_style": "",
            "children": [
              "IPY_MODEL_0a2adf30ad734d1ab4a20fbf04d25a3f",
              "IPY_MODEL_35bd527941664c6cafe9be20aebd212e",
              "IPY_MODEL_bc346f36247c4ce88730588599f11390"
            ],
            "layout": "IPY_MODEL_4860cb9c0686468ca7a006a4f531d5d9"
          }
        },
        "0a2adf30ad734d1ab4a20fbf04d25a3f": {
          "model_module": "@jupyter-widgets/controls",
          "model_name": "HTMLModel",
          "model_module_version": "1.5.0",
          "state": {
            "_dom_classes": [],
            "_model_module": "@jupyter-widgets/controls",
            "_model_module_version": "1.5.0",
            "_model_name": "HTMLModel",
            "_view_count": null,
            "_view_module": "@jupyter-widgets/controls",
            "_view_module_version": "1.5.0",
            "_view_name": "HTMLView",
            "description": "",
            "description_tooltip": null,
            "layout": "IPY_MODEL_004ce8a1d3c54335a1246a40303aaf64",
            "placeholder": "​",
            "style": "IPY_MODEL_55140374c44f4626a27f94a692c46475",
            "value": "100%"
          }
        },
        "35bd527941664c6cafe9be20aebd212e": {
          "model_module": "@jupyter-widgets/controls",
          "model_name": "FloatProgressModel",
          "model_module_version": "1.5.0",
          "state": {
            "_dom_classes": [],
            "_model_module": "@jupyter-widgets/controls",
            "_model_module_version": "1.5.0",
            "_model_name": "FloatProgressModel",
            "_view_count": null,
            "_view_module": "@jupyter-widgets/controls",
            "_view_module_version": "1.5.0",
            "_view_name": "ProgressView",
            "bar_style": "success",
            "description": "",
            "description_tooltip": null,
            "layout": "IPY_MODEL_76cf67cbcf5e4469a7e0cdd202dbaacd",
            "max": 2496,
            "min": 0,
            "orientation": "horizontal",
            "style": "IPY_MODEL_0ddf0ee0115d4f3eb8d064bca0f71b8e",
            "value": 2496
          }
        },
        "bc346f36247c4ce88730588599f11390": {
          "model_module": "@jupyter-widgets/controls",
          "model_name": "HTMLModel",
          "model_module_version": "1.5.0",
          "state": {
            "_dom_classes": [],
            "_model_module": "@jupyter-widgets/controls",
            "_model_module_version": "1.5.0",
            "_model_name": "HTMLModel",
            "_view_count": null,
            "_view_module": "@jupyter-widgets/controls",
            "_view_module_version": "1.5.0",
            "_view_name": "HTMLView",
            "description": "",
            "description_tooltip": null,
            "layout": "IPY_MODEL_3a9338f2c3e54ee0a5915e5094b000a9",
            "placeholder": "​",
            "style": "IPY_MODEL_451ef20d1ac5452eacf3b986af187c32",
            "value": " 2496/2496 [06:20&lt;00:00, 10.98it/s]"
          }
        },
        "4860cb9c0686468ca7a006a4f531d5d9": {
          "model_module": "@jupyter-widgets/base",
          "model_name": "LayoutModel",
          "model_module_version": "1.2.0",
          "state": {
            "_model_module": "@jupyter-widgets/base",
            "_model_module_version": "1.2.0",
            "_model_name": "LayoutModel",
            "_view_count": null,
            "_view_module": "@jupyter-widgets/base",
            "_view_module_version": "1.2.0",
            "_view_name": "LayoutView",
            "align_content": null,
            "align_items": null,
            "align_self": null,
            "border": null,
            "bottom": null,
            "display": null,
            "flex": null,
            "flex_flow": null,
            "grid_area": null,
            "grid_auto_columns": null,
            "grid_auto_flow": null,
            "grid_auto_rows": null,
            "grid_column": null,
            "grid_gap": null,
            "grid_row": null,
            "grid_template_areas": null,
            "grid_template_columns": null,
            "grid_template_rows": null,
            "height": null,
            "justify_content": null,
            "justify_items": null,
            "left": null,
            "margin": null,
            "max_height": null,
            "max_width": null,
            "min_height": null,
            "min_width": null,
            "object_fit": null,
            "object_position": null,
            "order": null,
            "overflow": null,
            "overflow_x": null,
            "overflow_y": null,
            "padding": null,
            "right": null,
            "top": null,
            "visibility": null,
            "width": null
          }
        },
        "004ce8a1d3c54335a1246a40303aaf64": {
          "model_module": "@jupyter-widgets/base",
          "model_name": "LayoutModel",
          "model_module_version": "1.2.0",
          "state": {
            "_model_module": "@jupyter-widgets/base",
            "_model_module_version": "1.2.0",
            "_model_name": "LayoutModel",
            "_view_count": null,
            "_view_module": "@jupyter-widgets/base",
            "_view_module_version": "1.2.0",
            "_view_name": "LayoutView",
            "align_content": null,
            "align_items": null,
            "align_self": null,
            "border": null,
            "bottom": null,
            "display": null,
            "flex": null,
            "flex_flow": null,
            "grid_area": null,
            "grid_auto_columns": null,
            "grid_auto_flow": null,
            "grid_auto_rows": null,
            "grid_column": null,
            "grid_gap": null,
            "grid_row": null,
            "grid_template_areas": null,
            "grid_template_columns": null,
            "grid_template_rows": null,
            "height": null,
            "justify_content": null,
            "justify_items": null,
            "left": null,
            "margin": null,
            "max_height": null,
            "max_width": null,
            "min_height": null,
            "min_width": null,
            "object_fit": null,
            "object_position": null,
            "order": null,
            "overflow": null,
            "overflow_x": null,
            "overflow_y": null,
            "padding": null,
            "right": null,
            "top": null,
            "visibility": null,
            "width": null
          }
        },
        "55140374c44f4626a27f94a692c46475": {
          "model_module": "@jupyter-widgets/controls",
          "model_name": "DescriptionStyleModel",
          "model_module_version": "1.5.0",
          "state": {
            "_model_module": "@jupyter-widgets/controls",
            "_model_module_version": "1.5.0",
            "_model_name": "DescriptionStyleModel",
            "_view_count": null,
            "_view_module": "@jupyter-widgets/base",
            "_view_module_version": "1.2.0",
            "_view_name": "StyleView",
            "description_width": ""
          }
        },
        "76cf67cbcf5e4469a7e0cdd202dbaacd": {
          "model_module": "@jupyter-widgets/base",
          "model_name": "LayoutModel",
          "model_module_version": "1.2.0",
          "state": {
            "_model_module": "@jupyter-widgets/base",
            "_model_module_version": "1.2.0",
            "_model_name": "LayoutModel",
            "_view_count": null,
            "_view_module": "@jupyter-widgets/base",
            "_view_module_version": "1.2.0",
            "_view_name": "LayoutView",
            "align_content": null,
            "align_items": null,
            "align_self": null,
            "border": null,
            "bottom": null,
            "display": null,
            "flex": null,
            "flex_flow": null,
            "grid_area": null,
            "grid_auto_columns": null,
            "grid_auto_flow": null,
            "grid_auto_rows": null,
            "grid_column": null,
            "grid_gap": null,
            "grid_row": null,
            "grid_template_areas": null,
            "grid_template_columns": null,
            "grid_template_rows": null,
            "height": null,
            "justify_content": null,
            "justify_items": null,
            "left": null,
            "margin": null,
            "max_height": null,
            "max_width": null,
            "min_height": null,
            "min_width": null,
            "object_fit": null,
            "object_position": null,
            "order": null,
            "overflow": null,
            "overflow_x": null,
            "overflow_y": null,
            "padding": null,
            "right": null,
            "top": null,
            "visibility": null,
            "width": null
          }
        },
        "0ddf0ee0115d4f3eb8d064bca0f71b8e": {
          "model_module": "@jupyter-widgets/controls",
          "model_name": "ProgressStyleModel",
          "model_module_version": "1.5.0",
          "state": {
            "_model_module": "@jupyter-widgets/controls",
            "_model_module_version": "1.5.0",
            "_model_name": "ProgressStyleModel",
            "_view_count": null,
            "_view_module": "@jupyter-widgets/base",
            "_view_module_version": "1.2.0",
            "_view_name": "StyleView",
            "bar_color": null,
            "description_width": ""
          }
        },
        "3a9338f2c3e54ee0a5915e5094b000a9": {
          "model_module": "@jupyter-widgets/base",
          "model_name": "LayoutModel",
          "model_module_version": "1.2.0",
          "state": {
            "_model_module": "@jupyter-widgets/base",
            "_model_module_version": "1.2.0",
            "_model_name": "LayoutModel",
            "_view_count": null,
            "_view_module": "@jupyter-widgets/base",
            "_view_module_version": "1.2.0",
            "_view_name": "LayoutView",
            "align_content": null,
            "align_items": null,
            "align_self": null,
            "border": null,
            "bottom": null,
            "display": null,
            "flex": null,
            "flex_flow": null,
            "grid_area": null,
            "grid_auto_columns": null,
            "grid_auto_flow": null,
            "grid_auto_rows": null,
            "grid_column": null,
            "grid_gap": null,
            "grid_row": null,
            "grid_template_areas": null,
            "grid_template_columns": null,
            "grid_template_rows": null,
            "height": null,
            "justify_content": null,
            "justify_items": null,
            "left": null,
            "margin": null,
            "max_height": null,
            "max_width": null,
            "min_height": null,
            "min_width": null,
            "object_fit": null,
            "object_position": null,
            "order": null,
            "overflow": null,
            "overflow_x": null,
            "overflow_y": null,
            "padding": null,
            "right": null,
            "top": null,
            "visibility": null,
            "width": null
          }
        },
        "451ef20d1ac5452eacf3b986af187c32": {
          "model_module": "@jupyter-widgets/controls",
          "model_name": "DescriptionStyleModel",
          "model_module_version": "1.5.0",
          "state": {
            "_model_module": "@jupyter-widgets/controls",
            "_model_module_version": "1.5.0",
            "_model_name": "DescriptionStyleModel",
            "_view_count": null,
            "_view_module": "@jupyter-widgets/base",
            "_view_module_version": "1.2.0",
            "_view_name": "StyleView",
            "description_width": ""
          }
        },
        "85be52a1be464d30ae6c4d3140764738": {
          "model_module": "@jupyter-widgets/controls",
          "model_name": "HBoxModel",
          "model_module_version": "1.5.0",
          "state": {
            "_dom_classes": [],
            "_model_module": "@jupyter-widgets/controls",
            "_model_module_version": "1.5.0",
            "_model_name": "HBoxModel",
            "_view_count": null,
            "_view_module": "@jupyter-widgets/controls",
            "_view_module_version": "1.5.0",
            "_view_name": "HBoxView",
            "box_style": "",
            "children": [
              "IPY_MODEL_6d0e1fbac53745578eb8def107fd1350",
              "IPY_MODEL_d5857b43282249efb837191a85b094c5",
              "IPY_MODEL_e33c39c5ee2b4a4a991099b31e4417a0"
            ],
            "layout": "IPY_MODEL_a9676d2220dc4026b347a549526c6732"
          }
        },
        "6d0e1fbac53745578eb8def107fd1350": {
          "model_module": "@jupyter-widgets/controls",
          "model_name": "HTMLModel",
          "model_module_version": "1.5.0",
          "state": {
            "_dom_classes": [],
            "_model_module": "@jupyter-widgets/controls",
            "_model_module_version": "1.5.0",
            "_model_name": "HTMLModel",
            "_view_count": null,
            "_view_module": "@jupyter-widgets/controls",
            "_view_module_version": "1.5.0",
            "_view_name": "HTMLView",
            "description": "",
            "description_tooltip": null,
            "layout": "IPY_MODEL_d345c39328534854ab19909d7f508ebf",
            "placeholder": "​",
            "style": "IPY_MODEL_4aa842b102104184b2f364c2739919cf",
            "value": "Downloading builder script: "
          }
        },
        "d5857b43282249efb837191a85b094c5": {
          "model_module": "@jupyter-widgets/controls",
          "model_name": "FloatProgressModel",
          "model_module_version": "1.5.0",
          "state": {
            "_dom_classes": [],
            "_model_module": "@jupyter-widgets/controls",
            "_model_module_version": "1.5.0",
            "_model_name": "FloatProgressModel",
            "_view_count": null,
            "_view_module": "@jupyter-widgets/controls",
            "_view_module_version": "1.5.0",
            "_view_name": "ProgressView",
            "bar_style": "success",
            "description": "",
            "description_tooltip": null,
            "layout": "IPY_MODEL_c86cf8f748fb4b3b997c87c5b882de8f",
            "max": 2253,
            "min": 0,
            "orientation": "horizontal",
            "style": "IPY_MODEL_8a7bbfd9cbac4ee082b67fa3a683b17e",
            "value": 2253
          }
        },
        "e33c39c5ee2b4a4a991099b31e4417a0": {
          "model_module": "@jupyter-widgets/controls",
          "model_name": "HTMLModel",
          "model_module_version": "1.5.0",
          "state": {
            "_dom_classes": [],
            "_model_module": "@jupyter-widgets/controls",
            "_model_module_version": "1.5.0",
            "_model_name": "HTMLModel",
            "_view_count": null,
            "_view_module": "@jupyter-widgets/controls",
            "_view_module_version": "1.5.0",
            "_view_name": "HTMLView",
            "description": "",
            "description_tooltip": null,
            "layout": "IPY_MODEL_69a125c0eae147539aa2703900354007",
            "placeholder": "​",
            "style": "IPY_MODEL_7c547b6b217e42b0a06ae5f45d5d9faa",
            "value": " 6.46k/? [00:00&lt;00:00, 202kB/s]"
          }
        },
        "a9676d2220dc4026b347a549526c6732": {
          "model_module": "@jupyter-widgets/base",
          "model_name": "LayoutModel",
          "model_module_version": "1.2.0",
          "state": {
            "_model_module": "@jupyter-widgets/base",
            "_model_module_version": "1.2.0",
            "_model_name": "LayoutModel",
            "_view_count": null,
            "_view_module": "@jupyter-widgets/base",
            "_view_module_version": "1.2.0",
            "_view_name": "LayoutView",
            "align_content": null,
            "align_items": null,
            "align_self": null,
            "border": null,
            "bottom": null,
            "display": null,
            "flex": null,
            "flex_flow": null,
            "grid_area": null,
            "grid_auto_columns": null,
            "grid_auto_flow": null,
            "grid_auto_rows": null,
            "grid_column": null,
            "grid_gap": null,
            "grid_row": null,
            "grid_template_areas": null,
            "grid_template_columns": null,
            "grid_template_rows": null,
            "height": null,
            "justify_content": null,
            "justify_items": null,
            "left": null,
            "margin": null,
            "max_height": null,
            "max_width": null,
            "min_height": null,
            "min_width": null,
            "object_fit": null,
            "object_position": null,
            "order": null,
            "overflow": null,
            "overflow_x": null,
            "overflow_y": null,
            "padding": null,
            "right": null,
            "top": null,
            "visibility": null,
            "width": null
          }
        },
        "d345c39328534854ab19909d7f508ebf": {
          "model_module": "@jupyter-widgets/base",
          "model_name": "LayoutModel",
          "model_module_version": "1.2.0",
          "state": {
            "_model_module": "@jupyter-widgets/base",
            "_model_module_version": "1.2.0",
            "_model_name": "LayoutModel",
            "_view_count": null,
            "_view_module": "@jupyter-widgets/base",
            "_view_module_version": "1.2.0",
            "_view_name": "LayoutView",
            "align_content": null,
            "align_items": null,
            "align_self": null,
            "border": null,
            "bottom": null,
            "display": null,
            "flex": null,
            "flex_flow": null,
            "grid_area": null,
            "grid_auto_columns": null,
            "grid_auto_flow": null,
            "grid_auto_rows": null,
            "grid_column": null,
            "grid_gap": null,
            "grid_row": null,
            "grid_template_areas": null,
            "grid_template_columns": null,
            "grid_template_rows": null,
            "height": null,
            "justify_content": null,
            "justify_items": null,
            "left": null,
            "margin": null,
            "max_height": null,
            "max_width": null,
            "min_height": null,
            "min_width": null,
            "object_fit": null,
            "object_position": null,
            "order": null,
            "overflow": null,
            "overflow_x": null,
            "overflow_y": null,
            "padding": null,
            "right": null,
            "top": null,
            "visibility": null,
            "width": null
          }
        },
        "4aa842b102104184b2f364c2739919cf": {
          "model_module": "@jupyter-widgets/controls",
          "model_name": "DescriptionStyleModel",
          "model_module_version": "1.5.0",
          "state": {
            "_model_module": "@jupyter-widgets/controls",
            "_model_module_version": "1.5.0",
            "_model_name": "DescriptionStyleModel",
            "_view_count": null,
            "_view_module": "@jupyter-widgets/base",
            "_view_module_version": "1.2.0",
            "_view_name": "StyleView",
            "description_width": ""
          }
        },
        "c86cf8f748fb4b3b997c87c5b882de8f": {
          "model_module": "@jupyter-widgets/base",
          "model_name": "LayoutModel",
          "model_module_version": "1.2.0",
          "state": {
            "_model_module": "@jupyter-widgets/base",
            "_model_module_version": "1.2.0",
            "_model_name": "LayoutModel",
            "_view_count": null,
            "_view_module": "@jupyter-widgets/base",
            "_view_module_version": "1.2.0",
            "_view_name": "LayoutView",
            "align_content": null,
            "align_items": null,
            "align_self": null,
            "border": null,
            "bottom": null,
            "display": null,
            "flex": null,
            "flex_flow": null,
            "grid_area": null,
            "grid_auto_columns": null,
            "grid_auto_flow": null,
            "grid_auto_rows": null,
            "grid_column": null,
            "grid_gap": null,
            "grid_row": null,
            "grid_template_areas": null,
            "grid_template_columns": null,
            "grid_template_rows": null,
            "height": null,
            "justify_content": null,
            "justify_items": null,
            "left": null,
            "margin": null,
            "max_height": null,
            "max_width": null,
            "min_height": null,
            "min_width": null,
            "object_fit": null,
            "object_position": null,
            "order": null,
            "overflow": null,
            "overflow_x": null,
            "overflow_y": null,
            "padding": null,
            "right": null,
            "top": null,
            "visibility": null,
            "width": null
          }
        },
        "8a7bbfd9cbac4ee082b67fa3a683b17e": {
          "model_module": "@jupyter-widgets/controls",
          "model_name": "ProgressStyleModel",
          "model_module_version": "1.5.0",
          "state": {
            "_model_module": "@jupyter-widgets/controls",
            "_model_module_version": "1.5.0",
            "_model_name": "ProgressStyleModel",
            "_view_count": null,
            "_view_module": "@jupyter-widgets/base",
            "_view_module_version": "1.2.0",
            "_view_name": "StyleView",
            "bar_color": null,
            "description_width": ""
          }
        },
        "69a125c0eae147539aa2703900354007": {
          "model_module": "@jupyter-widgets/base",
          "model_name": "LayoutModel",
          "model_module_version": "1.2.0",
          "state": {
            "_model_module": "@jupyter-widgets/base",
            "_model_module_version": "1.2.0",
            "_model_name": "LayoutModel",
            "_view_count": null,
            "_view_module": "@jupyter-widgets/base",
            "_view_module_version": "1.2.0",
            "_view_name": "LayoutView",
            "align_content": null,
            "align_items": null,
            "align_self": null,
            "border": null,
            "bottom": null,
            "display": null,
            "flex": null,
            "flex_flow": null,
            "grid_area": null,
            "grid_auto_columns": null,
            "grid_auto_flow": null,
            "grid_auto_rows": null,
            "grid_column": null,
            "grid_gap": null,
            "grid_row": null,
            "grid_template_areas": null,
            "grid_template_columns": null,
            "grid_template_rows": null,
            "height": null,
            "justify_content": null,
            "justify_items": null,
            "left": null,
            "margin": null,
            "max_height": null,
            "max_width": null,
            "min_height": null,
            "min_width": null,
            "object_fit": null,
            "object_position": null,
            "order": null,
            "overflow": null,
            "overflow_x": null,
            "overflow_y": null,
            "padding": null,
            "right": null,
            "top": null,
            "visibility": null,
            "width": null
          }
        },
        "7c547b6b217e42b0a06ae5f45d5d9faa": {
          "model_module": "@jupyter-widgets/controls",
          "model_name": "DescriptionStyleModel",
          "model_module_version": "1.5.0",
          "state": {
            "_model_module": "@jupyter-widgets/controls",
            "_model_module_version": "1.5.0",
            "_model_name": "DescriptionStyleModel",
            "_view_count": null,
            "_view_module": "@jupyter-widgets/base",
            "_view_module_version": "1.2.0",
            "_view_name": "StyleView",
            "description_width": ""
          }
        },
        "5c17356174004dbfbc0863039e52c037": {
          "model_module": "@jupyter-widgets/controls",
          "model_name": "HBoxModel",
          "model_module_version": "1.5.0",
          "state": {
            "_dom_classes": [],
            "_model_module": "@jupyter-widgets/controls",
            "_model_module_version": "1.5.0",
            "_model_name": "HBoxModel",
            "_view_count": null,
            "_view_module": "@jupyter-widgets/controls",
            "_view_module_version": "1.5.0",
            "_view_name": "HBoxView",
            "box_style": "",
            "children": [
              "IPY_MODEL_9a4324d7f339452eb38cc59fffb5ae70",
              "IPY_MODEL_37e057d417a1462e8976c083607a197c",
              "IPY_MODEL_75c598f1ddb341b88253f46238c45ba8"
            ],
            "layout": "IPY_MODEL_12ba0d607f6e4c9cb4e301acf28041ef"
          }
        },
        "9a4324d7f339452eb38cc59fffb5ae70": {
          "model_module": "@jupyter-widgets/controls",
          "model_name": "HTMLModel",
          "model_module_version": "1.5.0",
          "state": {
            "_dom_classes": [],
            "_model_module": "@jupyter-widgets/controls",
            "_model_module_version": "1.5.0",
            "_model_name": "HTMLModel",
            "_view_count": null,
            "_view_module": "@jupyter-widgets/controls",
            "_view_module_version": "1.5.0",
            "_view_name": "HTMLView",
            "description": "",
            "description_tooltip": null,
            "layout": "IPY_MODEL_c204e52ae6d946d78f52034fdeb4226e",
            "placeholder": "​",
            "style": "IPY_MODEL_f978e5798efa4473a3bb074e4c55653a",
            "value": "Downloading extra modules: "
          }
        },
        "37e057d417a1462e8976c083607a197c": {
          "model_module": "@jupyter-widgets/controls",
          "model_name": "FloatProgressModel",
          "model_module_version": "1.5.0",
          "state": {
            "_dom_classes": [],
            "_model_module": "@jupyter-widgets/controls",
            "_model_module_version": "1.5.0",
            "_model_name": "FloatProgressModel",
            "_view_count": null,
            "_view_module": "@jupyter-widgets/controls",
            "_view_module_version": "1.5.0",
            "_view_name": "ProgressView",
            "bar_style": "success",
            "description": "",
            "description_tooltip": null,
            "layout": "IPY_MODEL_c434c082fb334d9fbac55f7bd97a8173",
            "max": 3188,
            "min": 0,
            "orientation": "horizontal",
            "style": "IPY_MODEL_5b5c1187460d4256a56d24fb90825ef7",
            "value": 3188
          }
        },
        "75c598f1ddb341b88253f46238c45ba8": {
          "model_module": "@jupyter-widgets/controls",
          "model_name": "HTMLModel",
          "model_module_version": "1.5.0",
          "state": {
            "_dom_classes": [],
            "_model_module": "@jupyter-widgets/controls",
            "_model_module_version": "1.5.0",
            "_model_name": "HTMLModel",
            "_view_count": null,
            "_view_module": "@jupyter-widgets/controls",
            "_view_module_version": "1.5.0",
            "_view_name": "HTMLView",
            "description": "",
            "description_tooltip": null,
            "layout": "IPY_MODEL_d2f0a7a13b5a48d18b261493ceb242d8",
            "placeholder": "​",
            "style": "IPY_MODEL_d0c625ed65934508be1da6b476ec0d58",
            "value": " 11.3k/? [00:00&lt;00:00, 343kB/s]"
          }
        },
        "12ba0d607f6e4c9cb4e301acf28041ef": {
          "model_module": "@jupyter-widgets/base",
          "model_name": "LayoutModel",
          "model_module_version": "1.2.0",
          "state": {
            "_model_module": "@jupyter-widgets/base",
            "_model_module_version": "1.2.0",
            "_model_name": "LayoutModel",
            "_view_count": null,
            "_view_module": "@jupyter-widgets/base",
            "_view_module_version": "1.2.0",
            "_view_name": "LayoutView",
            "align_content": null,
            "align_items": null,
            "align_self": null,
            "border": null,
            "bottom": null,
            "display": null,
            "flex": null,
            "flex_flow": null,
            "grid_area": null,
            "grid_auto_columns": null,
            "grid_auto_flow": null,
            "grid_auto_rows": null,
            "grid_column": null,
            "grid_gap": null,
            "grid_row": null,
            "grid_template_areas": null,
            "grid_template_columns": null,
            "grid_template_rows": null,
            "height": null,
            "justify_content": null,
            "justify_items": null,
            "left": null,
            "margin": null,
            "max_height": null,
            "max_width": null,
            "min_height": null,
            "min_width": null,
            "object_fit": null,
            "object_position": null,
            "order": null,
            "overflow": null,
            "overflow_x": null,
            "overflow_y": null,
            "padding": null,
            "right": null,
            "top": null,
            "visibility": null,
            "width": null
          }
        },
        "c204e52ae6d946d78f52034fdeb4226e": {
          "model_module": "@jupyter-widgets/base",
          "model_name": "LayoutModel",
          "model_module_version": "1.2.0",
          "state": {
            "_model_module": "@jupyter-widgets/base",
            "_model_module_version": "1.2.0",
            "_model_name": "LayoutModel",
            "_view_count": null,
            "_view_module": "@jupyter-widgets/base",
            "_view_module_version": "1.2.0",
            "_view_name": "LayoutView",
            "align_content": null,
            "align_items": null,
            "align_self": null,
            "border": null,
            "bottom": null,
            "display": null,
            "flex": null,
            "flex_flow": null,
            "grid_area": null,
            "grid_auto_columns": null,
            "grid_auto_flow": null,
            "grid_auto_rows": null,
            "grid_column": null,
            "grid_gap": null,
            "grid_row": null,
            "grid_template_areas": null,
            "grid_template_columns": null,
            "grid_template_rows": null,
            "height": null,
            "justify_content": null,
            "justify_items": null,
            "left": null,
            "margin": null,
            "max_height": null,
            "max_width": null,
            "min_height": null,
            "min_width": null,
            "object_fit": null,
            "object_position": null,
            "order": null,
            "overflow": null,
            "overflow_x": null,
            "overflow_y": null,
            "padding": null,
            "right": null,
            "top": null,
            "visibility": null,
            "width": null
          }
        },
        "f978e5798efa4473a3bb074e4c55653a": {
          "model_module": "@jupyter-widgets/controls",
          "model_name": "DescriptionStyleModel",
          "model_module_version": "1.5.0",
          "state": {
            "_model_module": "@jupyter-widgets/controls",
            "_model_module_version": "1.5.0",
            "_model_name": "DescriptionStyleModel",
            "_view_count": null,
            "_view_module": "@jupyter-widgets/base",
            "_view_module_version": "1.2.0",
            "_view_name": "StyleView",
            "description_width": ""
          }
        },
        "c434c082fb334d9fbac55f7bd97a8173": {
          "model_module": "@jupyter-widgets/base",
          "model_name": "LayoutModel",
          "model_module_version": "1.2.0",
          "state": {
            "_model_module": "@jupyter-widgets/base",
            "_model_module_version": "1.2.0",
            "_model_name": "LayoutModel",
            "_view_count": null,
            "_view_module": "@jupyter-widgets/base",
            "_view_module_version": "1.2.0",
            "_view_name": "LayoutView",
            "align_content": null,
            "align_items": null,
            "align_self": null,
            "border": null,
            "bottom": null,
            "display": null,
            "flex": null,
            "flex_flow": null,
            "grid_area": null,
            "grid_auto_columns": null,
            "grid_auto_flow": null,
            "grid_auto_rows": null,
            "grid_column": null,
            "grid_gap": null,
            "grid_row": null,
            "grid_template_areas": null,
            "grid_template_columns": null,
            "grid_template_rows": null,
            "height": null,
            "justify_content": null,
            "justify_items": null,
            "left": null,
            "margin": null,
            "max_height": null,
            "max_width": null,
            "min_height": null,
            "min_width": null,
            "object_fit": null,
            "object_position": null,
            "order": null,
            "overflow": null,
            "overflow_x": null,
            "overflow_y": null,
            "padding": null,
            "right": null,
            "top": null,
            "visibility": null,
            "width": null
          }
        },
        "5b5c1187460d4256a56d24fb90825ef7": {
          "model_module": "@jupyter-widgets/controls",
          "model_name": "ProgressStyleModel",
          "model_module_version": "1.5.0",
          "state": {
            "_model_module": "@jupyter-widgets/controls",
            "_model_module_version": "1.5.0",
            "_model_name": "ProgressStyleModel",
            "_view_count": null,
            "_view_module": "@jupyter-widgets/base",
            "_view_module_version": "1.2.0",
            "_view_name": "StyleView",
            "bar_color": null,
            "description_width": ""
          }
        },
        "d2f0a7a13b5a48d18b261493ceb242d8": {
          "model_module": "@jupyter-widgets/base",
          "model_name": "LayoutModel",
          "model_module_version": "1.2.0",
          "state": {
            "_model_module": "@jupyter-widgets/base",
            "_model_module_version": "1.2.0",
            "_model_name": "LayoutModel",
            "_view_count": null,
            "_view_module": "@jupyter-widgets/base",
            "_view_module_version": "1.2.0",
            "_view_name": "LayoutView",
            "align_content": null,
            "align_items": null,
            "align_self": null,
            "border": null,
            "bottom": null,
            "display": null,
            "flex": null,
            "flex_flow": null,
            "grid_area": null,
            "grid_auto_columns": null,
            "grid_auto_flow": null,
            "grid_auto_rows": null,
            "grid_column": null,
            "grid_gap": null,
            "grid_row": null,
            "grid_template_areas": null,
            "grid_template_columns": null,
            "grid_template_rows": null,
            "height": null,
            "justify_content": null,
            "justify_items": null,
            "left": null,
            "margin": null,
            "max_height": null,
            "max_width": null,
            "min_height": null,
            "min_width": null,
            "object_fit": null,
            "object_position": null,
            "order": null,
            "overflow": null,
            "overflow_x": null,
            "overflow_y": null,
            "padding": null,
            "right": null,
            "top": null,
            "visibility": null,
            "width": null
          }
        },
        "d0c625ed65934508be1da6b476ec0d58": {
          "model_module": "@jupyter-widgets/controls",
          "model_name": "DescriptionStyleModel",
          "model_module_version": "1.5.0",
          "state": {
            "_model_module": "@jupyter-widgets/controls",
            "_model_module_version": "1.5.0",
            "_model_name": "DescriptionStyleModel",
            "_view_count": null,
            "_view_module": "@jupyter-widgets/base",
            "_view_module_version": "1.2.0",
            "_view_name": "StyleView",
            "description_width": ""
          }
        }
      }
    }
  },
  "nbformat": 4,
  "nbformat_minor": 0
}