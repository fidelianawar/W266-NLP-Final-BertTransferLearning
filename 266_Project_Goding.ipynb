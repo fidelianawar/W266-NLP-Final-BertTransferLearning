{
  "cells": [
    {
      "cell_type": "markdown",
      "metadata": {
        "id": "view-in-github",
        "colab_type": "text"
      },
      "source": [
        "<a href=\"https://colab.research.google.com/github/CynYZhu/MIDS_266_FinalProject/blob/main/266_Project_Goding.ipynb\" target=\"_parent\"><img src=\"https://colab.research.google.com/assets/colab-badge.svg\" alt=\"Open In Colab\"/></a>"
      ]
    },
    {
      "cell_type": "markdown",
      "metadata": {
        "id": "TAFbNRqVxMTD"
      },
      "source": [
        "# W266 Project"
      ]
    },
    {
      "cell_type": "code",
      "execution_count": 1,
      "metadata": {
        "colab": {
          "base_uri": "https://localhost:8080/"
        },
        "id": "BgAUO_Cb3I6E",
        "outputId": "40a23d64-6c41-4643-d372-41f7495744b5"
      },
      "outputs": [
        {
          "output_type": "stream",
          "name": "stdout",
          "text": [
            "Looking in indexes: https://pypi.org/simple, https://us-python.pkg.dev/colab-wheels/public/simple/\n",
            "Requirement already satisfied: datasets in /usr/local/lib/python3.7/dist-packages (2.3.2)\n",
            "Requirement already satisfied: pyarrow>=6.0.0 in /usr/local/lib/python3.7/dist-packages (from datasets) (6.0.1)\n",
            "Requirement already satisfied: huggingface-hub<1.0.0,>=0.1.0 in /usr/local/lib/python3.7/dist-packages (from datasets) (0.8.1)\n",
            "Requirement already satisfied: aiohttp in /usr/local/lib/python3.7/dist-packages (from datasets) (3.8.1)\n",
            "Requirement already satisfied: xxhash in /usr/local/lib/python3.7/dist-packages (from datasets) (3.0.0)\n",
            "Requirement already satisfied: responses<0.19 in /usr/local/lib/python3.7/dist-packages (from datasets) (0.18.0)\n",
            "Requirement already satisfied: requests>=2.19.0 in /usr/local/lib/python3.7/dist-packages (from datasets) (2.23.0)\n",
            "Requirement already satisfied: importlib-metadata in /usr/local/lib/python3.7/dist-packages (from datasets) (4.12.0)\n",
            "Requirement already satisfied: dill<0.3.6 in /usr/local/lib/python3.7/dist-packages (from datasets) (0.3.5.1)\n",
            "Requirement already satisfied: tqdm>=4.62.1 in /usr/local/lib/python3.7/dist-packages (from datasets) (4.64.0)\n",
            "Requirement already satisfied: fsspec[http]>=2021.05.0 in /usr/local/lib/python3.7/dist-packages (from datasets) (2022.5.0)\n",
            "Requirement already satisfied: packaging in /usr/local/lib/python3.7/dist-packages (from datasets) (21.3)\n",
            "Requirement already satisfied: multiprocess in /usr/local/lib/python3.7/dist-packages (from datasets) (0.70.13)\n",
            "Requirement already satisfied: numpy>=1.17 in /usr/local/lib/python3.7/dist-packages (from datasets) (1.21.6)\n",
            "Requirement already satisfied: pandas in /usr/local/lib/python3.7/dist-packages (from datasets) (1.3.5)\n",
            "Requirement already satisfied: typing-extensions>=3.7.4.3 in /usr/local/lib/python3.7/dist-packages (from huggingface-hub<1.0.0,>=0.1.0->datasets) (4.1.1)\n",
            "Requirement already satisfied: filelock in /usr/local/lib/python3.7/dist-packages (from huggingface-hub<1.0.0,>=0.1.0->datasets) (3.7.1)\n",
            "Requirement already satisfied: pyyaml>=5.1 in /usr/local/lib/python3.7/dist-packages (from huggingface-hub<1.0.0,>=0.1.0->datasets) (6.0)\n",
            "Requirement already satisfied: pyparsing!=3.0.5,>=2.0.2 in /usr/local/lib/python3.7/dist-packages (from packaging->datasets) (3.0.9)\n",
            "Requirement already satisfied: chardet<4,>=3.0.2 in /usr/local/lib/python3.7/dist-packages (from requests>=2.19.0->datasets) (3.0.4)\n",
            "Requirement already satisfied: certifi>=2017.4.17 in /usr/local/lib/python3.7/dist-packages (from requests>=2.19.0->datasets) (2022.6.15)\n",
            "Requirement already satisfied: idna<3,>=2.5 in /usr/local/lib/python3.7/dist-packages (from requests>=2.19.0->datasets) (2.10)\n",
            "Requirement already satisfied: urllib3!=1.25.0,!=1.25.1,<1.26,>=1.21.1 in /usr/local/lib/python3.7/dist-packages (from requests>=2.19.0->datasets) (1.25.11)\n",
            "Requirement already satisfied: asynctest==0.13.0 in /usr/local/lib/python3.7/dist-packages (from aiohttp->datasets) (0.13.0)\n",
            "Requirement already satisfied: attrs>=17.3.0 in /usr/local/lib/python3.7/dist-packages (from aiohttp->datasets) (21.4.0)\n",
            "Requirement already satisfied: aiosignal>=1.1.2 in /usr/local/lib/python3.7/dist-packages (from aiohttp->datasets) (1.2.0)\n",
            "Requirement already satisfied: yarl<2.0,>=1.0 in /usr/local/lib/python3.7/dist-packages (from aiohttp->datasets) (1.7.2)\n",
            "Requirement already satisfied: async-timeout<5.0,>=4.0.0a3 in /usr/local/lib/python3.7/dist-packages (from aiohttp->datasets) (4.0.2)\n",
            "Requirement already satisfied: charset-normalizer<3.0,>=2.0 in /usr/local/lib/python3.7/dist-packages (from aiohttp->datasets) (2.1.0)\n",
            "Requirement already satisfied: multidict<7.0,>=4.5 in /usr/local/lib/python3.7/dist-packages (from aiohttp->datasets) (6.0.2)\n",
            "Requirement already satisfied: frozenlist>=1.1.1 in /usr/local/lib/python3.7/dist-packages (from aiohttp->datasets) (1.3.0)\n",
            "Requirement already satisfied: zipp>=0.5 in /usr/local/lib/python3.7/dist-packages (from importlib-metadata->datasets) (3.8.0)\n",
            "Requirement already satisfied: python-dateutil>=2.7.3 in /usr/local/lib/python3.7/dist-packages (from pandas->datasets) (2.8.2)\n",
            "Requirement already satisfied: pytz>=2017.3 in /usr/local/lib/python3.7/dist-packages (from pandas->datasets) (2022.1)\n",
            "Requirement already satisfied: six>=1.5 in /usr/local/lib/python3.7/dist-packages (from python-dateutil>=2.7.3->pandas->datasets) (1.15.0)\n",
            "Looking in indexes: https://pypi.org/simple, https://us-python.pkg.dev/colab-wheels/public/simple/\n",
            "Requirement already satisfied: huggingface-hub in /usr/local/lib/python3.7/dist-packages (0.8.1)\n",
            "Requirement already satisfied: pyyaml>=5.1 in /usr/local/lib/python3.7/dist-packages (from huggingface-hub) (6.0)\n",
            "Requirement already satisfied: importlib-metadata in /usr/local/lib/python3.7/dist-packages (from huggingface-hub) (4.12.0)\n",
            "Requirement already satisfied: requests in /usr/local/lib/python3.7/dist-packages (from huggingface-hub) (2.23.0)\n",
            "Requirement already satisfied: typing-extensions>=3.7.4.3 in /usr/local/lib/python3.7/dist-packages (from huggingface-hub) (4.1.1)\n",
            "Requirement already satisfied: packaging>=20.9 in /usr/local/lib/python3.7/dist-packages (from huggingface-hub) (21.3)\n",
            "Requirement already satisfied: filelock in /usr/local/lib/python3.7/dist-packages (from huggingface-hub) (3.7.1)\n",
            "Requirement already satisfied: tqdm in /usr/local/lib/python3.7/dist-packages (from huggingface-hub) (4.64.0)\n",
            "Requirement already satisfied: pyparsing!=3.0.5,>=2.0.2 in /usr/local/lib/python3.7/dist-packages (from packaging>=20.9->huggingface-hub) (3.0.9)\n",
            "Requirement already satisfied: zipp>=0.5 in /usr/local/lib/python3.7/dist-packages (from importlib-metadata->huggingface-hub) (3.8.0)\n",
            "Requirement already satisfied: chardet<4,>=3.0.2 in /usr/local/lib/python3.7/dist-packages (from requests->huggingface-hub) (3.0.4)\n",
            "Requirement already satisfied: urllib3!=1.25.0,!=1.25.1,<1.26,>=1.21.1 in /usr/local/lib/python3.7/dist-packages (from requests->huggingface-hub) (1.25.11)\n",
            "Requirement already satisfied: idna<3,>=2.5 in /usr/local/lib/python3.7/dist-packages (from requests->huggingface-hub) (2.10)\n",
            "Requirement already satisfied: certifi>=2017.4.17 in /usr/local/lib/python3.7/dist-packages (from requests->huggingface-hub) (2022.6.15)\n"
          ]
        }
      ],
      "source": [
        "#install tensorflow datasets library\n",
        "!pip install datasets\n",
        "!pip install huggingface-hub"
      ]
    },
    {
      "cell_type": "code",
      "execution_count": 2,
      "metadata": {
        "id": "fp6RbMMzQg4e"
      },
      "outputs": [],
      "source": [
        "from datasets import load_dataset\n",
        "import tensorflow as tf\n",
        "import tensorflow_datasets as tfds\n",
        "import pandas as pd\n",
        "import numpy as np\n",
        "import matplotlib.pyplot as plt\n",
        "import json\n",
        "from google.colab import files\n",
        "import re"
      ]
    },
    {
      "cell_type": "code",
      "execution_count": 3,
      "metadata": {
        "colab": {
          "base_uri": "https://localhost:8080/",
          "height": 87,
          "referenced_widgets": [
            "88005adaf06f4ff995f7f1ada1450922",
            "6e108d0dcc8541569c87bb34492438be",
            "39754349de8a42d2872870198fffee2f",
            "f3ec54d18e3148668b04d6500d79e446",
            "69bdf6a9fbdb4cfd88838fb58e02ffd6",
            "b4cd1af926064ea1ada0ca1a498e36d5",
            "c393793be9a34c96af355bc7cfcc2e82",
            "b353581370a347e295a5641e802b36d6",
            "377591a6a620426280b79bdfac3c35ee",
            "b4e4c0da7eaa42068fc866e80147b02a",
            "b02bc05628584ba0a4306d85f0a90f31"
          ]
        },
        "id": "d315bOhdQz23",
        "outputId": "73002c3a-7fbe-4d3f-dc8e-bff76002ccf4"
      },
      "outputs": [
        {
          "output_type": "stream",
          "name": "stderr",
          "text": [
            "Reusing dataset trivia_qa (/root/.cache/huggingface/datasets/trivia_qa/rc/1.2.0/e73c5e47a8704744fa9ded33504b35a6c098661813d1c2a09892eb9b9e9d59ae)\n"
          ]
        },
        {
          "output_type": "display_data",
          "data": {
            "text/plain": [
              "  0%|          | 0/3 [00:00<?, ?it/s]"
            ],
            "application/vnd.jupyter.widget-view+json": {
              "version_major": 2,
              "version_minor": 0,
              "model_id": "88005adaf06f4ff995f7f1ada1450922"
            }
          },
          "metadata": {}
        }
      ],
      "source": [
        "dataset_train, dataset_validation, dataset_test = load_dataset('trivia_qa', 'rc',split = ['train', 'validation', 'test'])"
      ]
    },
    {
      "cell_type": "code",
      "source": [
        "from google.colab import drive\n",
        "drive.mount('/content/drive')\n",
        "!ls drive/MyDrive/w266/data"
      ],
      "metadata": {
        "colab": {
          "base_uri": "https://localhost:8080/"
        },
        "id": "AlXMX7_zi0Q5",
        "outputId": "a0b9a8c4-fa65-4e4e-90c0-02393d6e0afa"
      },
      "execution_count": 13,
      "outputs": [
        {
          "output_type": "stream",
          "name": "stdout",
          "text": [
            "Drive already mounted at /content/drive; to attempt to forcibly remount, call drive.mount(\"/content/drive\", force_remount=True).\n",
            "dataset_test  dataset_train  dataset_validation\n"
          ]
        }
      ]
    },
    {
      "cell_type": "code",
      "source": [
        "# match squad 2 annotations\n",
        "dataset_train.save_to_disk(\"drive/MyDrive/w266/data/dataset_train.json\")"
      ],
      "metadata": {
        "id": "F2lKcNGsixtl"
      },
      "execution_count": 14,
      "outputs": []
    },
    {
      "cell_type": "code",
      "source": [
        "#load dataset\n",
        "!cd drive/MyDrive/w266/data/\n",
        "!ls -lh drive/MyDrive/w266/data/\n",
        "path = '/drive/MyDrive/w266/data/'\n"
      ],
      "metadata": {
        "colab": {
          "base_uri": "https://localhost:8080/"
        },
        "id": "P5k1wl6BjMwa",
        "outputId": "57ac156c-84c2-4ef6-ce09-d39c61e435df"
      },
      "execution_count": 18,
      "outputs": [
        {
          "output_type": "stream",
          "name": "stdout",
          "text": [
            "total 16K\n",
            "drwx------ 2 root root 4.0K Jul 17 02:50 dataset_test\n",
            "drwx------ 2 root root 4.0K Jul 17 02:46 dataset_train\n",
            "drwx------ 2 root root 4.0K Jul 20 17:00 dataset_train.json\n",
            "drwx------ 2 root root 4.0K Jul 17 02:49 dataset_validation\n"
          ]
        }
      ]
    },
    {
      "cell_type": "code",
      "source": [
        "train_set = load_dataset('json', data_files='drive/MyDrive/w266/data/dataset_train.json/dataset.arrow')"
      ],
      "metadata": {
        "colab": {
          "base_uri": "https://localhost:8080/",
          "height": 186,
          "referenced_widgets": [
            "132df1ba608047bfa6b00565b961ff32",
            "db1e491d26294bb685484349c55d427a",
            "682d93323688468b9f476cdc83ff30d9",
            "0fa2919baa9b4aa0a73f00e51f9fd27b",
            "6b1342dc898a4eea8f51c53d4fdfcd28",
            "fe0266a1245d45bfa4fd6942a717f118",
            "9cc6b14c6f3d479d8250d3c6628e5b7b",
            "f987daf6b9e2440a9dcc62b215e5b393",
            "9a87d89bd24c4328b794ba67238cffd1",
            "0a4f89926f1c40c38e0b5a2d41100a6e",
            "c449593e6de84b40ad7c35e947854f3b",
            "27d230c58de54c64a41e36ebaa35b970",
            "95198f29ecfb4da98c54aaaaff7192ca",
            "0902aa1c6a9c405281fe678472d57c50",
            "4a832c1e0eda4494972ec5e2f0447818",
            "b720b3102e65439b96d8412b3f45e92a",
            "fabb917901444c8592cc47f33f720b99",
            "54f867edfd5e4fd194faa9c5fe25e1bc",
            "ba4789e76d974ffe998fa79925cf9cc0",
            "bf26485f859b40a69722d7faa9ea0fb7",
            "2c2be82be0d043f8a937219983dac68e",
            "44edff3e26204e979b13a956ee5f1a52",
            "481d902e5aa24146b8e05966f6bc0da2",
            "234b342ad61c4cafacccdc7780875494",
            "bbfe98bb9177454199f30c7732a6fd89",
            "204a514a10ed43549bca505fbd2d284d",
            "486a0235d1414098bdc034e30d1845db",
            "003cff9128d249ebb4b98d1f6a7b0de4",
            "e4b1033432d44abf8599f5992b58d67c",
            "ee6b4067a7d640a08c8d18a858beafee",
            "41dfb3e946b741dba173481aff75daa8",
            "c3a8a7ff024b41deae159cc9670374ec",
            "0895c65fe75b4b17a4aacb5cf066a968"
          ]
        },
        "id": "8BTt_gDsj-Bv",
        "outputId": "4b39e831-ea5e-4e42-d21a-da44a8938857"
      },
      "execution_count": null,
      "outputs": [
        {
          "output_type": "stream",
          "name": "stderr",
          "text": [
            "WARNING:datasets.builder:Using custom data configuration default-8048f7afe6842440\n"
          ]
        },
        {
          "output_type": "stream",
          "name": "stdout",
          "text": [
            "Downloading and preparing dataset json/default to /root/.cache/huggingface/datasets/json/default-8048f7afe6842440/0.0.0/da492aad5680612e4028e7f6ddc04b1dfcec4b64db470ed7cc5f2bb265b9b6b5...\n"
          ]
        },
        {
          "output_type": "display_data",
          "data": {
            "text/plain": [
              "Downloading data files:   0%|          | 0/1 [00:00<?, ?it/s]"
            ],
            "application/vnd.jupyter.widget-view+json": {
              "version_major": 2,
              "version_minor": 0,
              "model_id": "132df1ba608047bfa6b00565b961ff32"
            }
          },
          "metadata": {}
        },
        {
          "output_type": "display_data",
          "data": {
            "text/plain": [
              "Extracting data files:   0%|          | 0/1 [00:00<?, ?it/s]"
            ],
            "application/vnd.jupyter.widget-view+json": {
              "version_major": 2,
              "version_minor": 0,
              "model_id": "27d230c58de54c64a41e36ebaa35b970"
            }
          },
          "metadata": {}
        },
        {
          "output_type": "display_data",
          "data": {
            "text/plain": [
              "0 tables [00:00, ? tables/s]"
            ],
            "application/vnd.jupyter.widget-view+json": {
              "version_major": 2,
              "version_minor": 0,
              "model_id": "481d902e5aa24146b8e05966f6bc0da2"
            }
          },
          "metadata": {}
        },
        {
          "output_type": "stream",
          "name": "stderr",
          "text": [
            "ERROR:datasets.packaged_modules.json.json:Failed to read file '/content/drive/MyDrive/w266/data/dataset_train.json/dataset.arrow' with error <class 'pyarrow.lib.ArrowInvalid'>: JSON parse error: Invalid value. in row 0\n"
          ]
        }
      ]
    },
    {
      "cell_type": "code",
      "execution_count": null,
      "metadata": {
        "id": "eyauLawo7YPB",
        "colab": {
          "base_uri": "https://localhost:8080/"
        },
        "outputId": "7698f1d4-9673-4d81-a98f-6034dcee2798"
      },
      "outputs": [
        {
          "output_type": "execute_result",
          "data": {
            "text/plain": [
              "dict_keys(['question', 'question_id', 'question_source', 'entity_pages', 'search_results', 'answer'])"
            ]
          },
          "metadata": {},
          "execution_count": 15
        }
      ],
      "source": [
        "dataset_test[0].keys()"
      ]
    },
    {
      "cell_type": "code",
      "source": [
        "dataset_validation[0].keys()"
      ],
      "metadata": {
        "colab": {
          "base_uri": "https://localhost:8080/"
        },
        "id": "CYUxDNWA_HE7",
        "outputId": "740be327-ad6c-4198-a17d-e8c7ccefcad3"
      },
      "execution_count": null,
      "outputs": [
        {
          "output_type": "execute_result",
          "data": {
            "text/plain": [
              "dict_keys(['question', 'question_id', 'question_source', 'entity_pages', 'search_results', 'answer'])"
            ]
          },
          "metadata": {},
          "execution_count": 34
        }
      ]
    },
    {
      "cell_type": "code",
      "source": [
        "dataset_train[0].keys()"
      ],
      "metadata": {
        "colab": {
          "base_uri": "https://localhost:8080/"
        },
        "id": "WrbBcf3hFryb",
        "outputId": "ed17d4e7-dc43-4a33-c44f-c448a229fe15"
      },
      "execution_count": 10,
      "outputs": [
        {
          "output_type": "execute_result",
          "data": {
            "text/plain": [
              "dict_keys(['question', 'question_id', 'question_source', 'entity_pages', 'search_results', 'answer'])"
            ]
          },
          "metadata": {},
          "execution_count": 10
        }
      ]
    },
    {
      "cell_type": "code",
      "execution_count": null,
      "metadata": {
        "id": "lrxqOGRY5lKG"
      },
      "outputs": [],
      "source": [
        "#check how many empty search_context values\n",
        "counter = 0\n",
        "for item in dataset_train:\n",
        "  if item['search_results']['search_context'] != []:\n",
        "    continue   \n",
        "  else:\n",
        "    counter +=1 "
      ]
    },
    {
      "cell_type": "code",
      "source": [
        "print('There are ' + str(counter) + ' empty search_context in the dataset_train')"
      ],
      "metadata": {
        "colab": {
          "base_uri": "https://localhost:8080/"
        },
        "id": "e4N9IZ3NL_hn",
        "outputId": "ab37decb-5fc3-474f-de4d-3c7bf5132327"
      },
      "execution_count": null,
      "outputs": [
        {
          "output_type": "stream",
          "name": "stdout",
          "text": [
            "There are 65038 empty search_context in the dataset_train\n"
          ]
        }
      ]
    },
    {
      "cell_type": "code",
      "source": [
        "#total length of dataset_train\n",
        "len(dataset_train)"
      ],
      "metadata": {
        "colab": {
          "base_uri": "https://localhost:8080/"
        },
        "id": "65Ae9hp5MggA",
        "outputId": "1a5042cb-a26a-4d27-b2b1-ed3ab2cba793"
      },
      "execution_count": null,
      "outputs": [
        {
          "output_type": "execute_result",
          "data": {
            "text/plain": [
              "138384"
            ]
          },
          "metadata": {},
          "execution_count": 14
        }
      ]
    },
    {
      "cell_type": "code",
      "source": [
        "from google.colab import drive\n",
        "drive.mount('/content/drive')\n",
        "!ls drive/MyDrive/w266/data"
      ],
      "metadata": {
        "colab": {
          "base_uri": "https://localhost:8080/"
        },
        "id": "Xfa_ChOn6_lT",
        "outputId": "da68641d-ab1e-4c02-fb27-b57d92092be4"
      },
      "execution_count": null,
      "outputs": [
        {
          "output_type": "stream",
          "name": "stdout",
          "text": [
            "Drive already mounted at /content/drive; to attempt to forcibly remount, call drive.mount(\"/content/drive\", force_remount=True).\n",
            "dataset_test  dataset_train  dataset_validation\n"
          ]
        }
      ]
    },
    {
      "cell_type": "code",
      "source": [
        "def clean_text(text):\n",
        "  text = text.lower()\n",
        "  text = text.replace('\\\\n', ' ').replace('\\n', ' ').replace('\\t',' ').replace('\\\\', ' ')\n",
        "  return text"
      ],
      "metadata": {
        "id": "nFgqVFNpPzqB"
      },
      "execution_count": 4,
      "outputs": []
    },
    {
      "cell_type": "code",
      "source": [
        "#create answer start function\n",
        "def answer_start(dataset, context):\n",
        "  for item in dataset['answer']['normalized_aliases']:\n",
        "    answer_string = str(item)\n",
        "    start_char = answer_string[0]\n",
        "    start_index = context.find(start_char)\n",
        "    return {'text': answer_string, 'answer_start': start_index}"
      ],
      "metadata": {
        "id": "s_ymNNUHxEKi"
      },
      "execution_count": 5,
      "outputs": []
    },
    {
      "cell_type": "code",
      "execution_count": 11,
      "metadata": {
        "id": "Ce_beymBWbvT"
      },
      "outputs": [],
      "source": [
        "#function to format train, validation, and test data\n",
        "def format_dataset(dataset):\n",
        "\n",
        "  #extract needed information\n",
        "  question_id = dataset['question_id']\n",
        "  question = dataset['question']\n",
        "  #clean up question text, context by lower case, removing unicode chars, removing stop words\n",
        "  question = clean_text(question)\n",
        "  #wiki_context = dataset['entity_pages']['wiki_context']\n",
        "  search_context = dataset['search_results']['search_context']\n",
        "  #evaluate each item in search_context list and make one large context\n",
        "  total_context = []\n",
        "  for item in search_context:\n",
        "    item = clean_text(item)\n",
        "    total_context.append(item) \n",
        "\n",
        "  #normalized aliases\n",
        "  answer = dataset['answer']['normalized_aliases']\n",
        " \n",
        "  #join search context to one large string\n",
        "  total_context_joined = ','.join(total_context)\n",
        "  \n",
        "  answer_text_list = []\n",
        "  answer_start_list = []\n",
        "  for item2 in answer:\n",
        "    answer_string = str(item2)\n",
        "    start_char = answer_string[0]\n",
        "    start_index = total_context_joined.find(start_char)\n",
        "    answer_text_list.append(answer_string)\n",
        "    answer_start_list.append(start_index)\n",
        "\n",
        "\n",
        "  #answer = answer_start(dataset, total_context_joined)\n",
        "\n",
        "  return {'question_id': question_id,  'question': question, 'search_context': total_context_joined, 'answer': {'text': answer_text_list,'answer_start': answer_start_list}}\n"
      ]
    },
    {
      "cell_type": "code",
      "source": [
        "#Scan first 76401 entries for search context fields, previous EDA showed majority of search context were located here\n",
        "cleaned_traindata =[]\n",
        "for x in range(0,76041):\n",
        "    if dataset_train[x]['search_results']['search_context'] != []:\n",
        "      cleaned_traindata.append(format_dataset(dataset_train[x]))\n",
        "    else:\n",
        "      continue"
      ],
      "metadata": {
        "id": "xNhajUQBpWb0"
      },
      "execution_count": null,
      "outputs": []
    },
    {
      "cell_type": "code",
      "source": [
        "#clear list for RAM maint.\n",
        "cleaned_traindata = []"
      ],
      "metadata": {
        "id": "SyHpDbm5paiG"
      },
      "execution_count": 20,
      "outputs": []
    },
    {
      "cell_type": "code",
      "source": [
        "#save first chucnk\n",
        "with open('cleaned_traindata1.json', 'w') as f:\n",
        "    json.dump(cleaned_traindata, f)"
      ],
      "metadata": {
        "id": "ZCN2kWEQodYd"
      },
      "execution_count": 27,
      "outputs": []
    },
    {
      "cell_type": "code",
      "source": [
        "len(cleaned_traindata)"
      ],
      "metadata": {
        "colab": {
          "base_uri": "https://localhost:8080/"
        },
        "id": "gzwK24WMp48B",
        "outputId": "500d3e70-18de-4c74-c1d6-49c743b223af"
      },
      "execution_count": 15,
      "outputs": [
        {
          "output_type": "execute_result",
          "data": {
            "text/plain": [
              "31560"
            ]
          },
          "metadata": {},
          "execution_count": 15
        }
      ]
    },
    {
      "cell_type": "code",
      "source": [
        "cleaned_traindata[500]"
      ],
      "metadata": {
        "colab": {
          "base_uri": "https://localhost:8080/"
        },
        "id": "_2B3P69u0nmM",
        "outputId": "da4a7557-fdaa-4ed5-f9ea-4ca0596fc52b"
      },
      "execution_count": 18,
      "outputs": [
        {
          "output_type": "execute_result",
          "data": {
            "text/plain": [
              "{'answer': {'answer_start': [8, 1116, 18, 1116, 73, 8, 204],\n",
              "  'text': ['homer bedloe',\n",
              "   'j homer bedloe',\n",
              "   'shady rest hotel',\n",
              "   'j homer bedlow',\n",
              "   'petticoat junction',\n",
              "   'homer bedlow',\n",
              "   'kate bradley']},\n",
              " 'question': 'what was the first spin-off from the beverly hillbillies called?',\n",
              " 'question_id': 'tc_923',\n",
              " 'search_context': 'beverly hillbillies: season 3 beverly hillbillies: season 3 for the most part television sit-coms are a light and  fluffy form of family entertainment. during the seventies there were some  attempts to make cutting edge and socially relevant shows like �all in the  family� but the general rule of thumb stands that this type of tv programming is  silly fun. sometimes even a show like this can achieve a level of fame that  makes it a household name and the proverbial must see television. in 1962 one  such series got its start; �the beverly hillbillies�. it would become an instant  hit and result in several spin off series. at the time critics initially panned  the show calling it puerile and foolish but the producers laughed all the way to  the bank as the show constantly top the all important ratings. okay, the show  was silly. even a die hard fan would have to admit this fact. the point is back  at that time it was the perfect diversion from what was going on in the world.  vietnam was on the rise and starting to divide the country. there was the  aftermath of the mccarthy era and communism was a major concern along with the  growing proliferation of nuclear weapons. the last thing the american audience  wanted during those couple of hours of prime time was something that required  thought. the hillbillies offered solace from the turbulent world and people  gathered around to watch them week after week. there was also the idea that even  the poorest among us could strike it rich. this series was the embodiment of the  american dream. when the episodes of the start of the series� run were about to  go into public domain cbs overlooked renewing them. as a result there have been  some dvd releases of the early seasons and after seeing a few of them the  quality is simply not there. they look like they were made from some old video  tapes. actually some old 16mm prints used by small stations for syndication were  the source material for many of these unauthorized releases. thanks to a few  mergers and some shifting in distribution rights cbs paramount is able to  release the �official� season sets. last year they started off with the  �official second season� followed no by the third. there still seems to be some  residual issues with the first season since i haven�t seen that one out on cbs  paramount yet. all 34 episodes are included here and they have not been cut for  syndication. this is what many of us remember watching with our parents every  week. the series was created by paul henning who was one of  the most successful men in the early years of television and maintained his  record for hits throughout the sixties. he not only wrote the treatment for the  series and many of the episodes he penned the still famous theme song. he goes  back to the golden age of television with his work n such successful shows like  �burns and allen�, �dennis day� and �the real mccoys�. if are of the age that  you don�t remember a time without computers ask your parents or perhaps your  grandparents about these shows; they were the staples of our television viewing  for many years. henning would also create the two spin offs of �hillbillies�;  �green acres� and �petticoat junction�. at one time csb was considered the rural  television network because of henning�s hit shows. there would later be some  backlash for this public perception but during this third season the  hillbillies� were at the height of their popularity. there was something special  about the shows that henning provided to us. they were about simple people  untouched by the hectic modern world; unassuming folk that we all could relate  to. we all knew that we would never be a private detective, cowboy, lawyer or  doctor, the subject of other tv shows, but we could feel a kinship to the simple  folk shown in this series. if you don�t know the premise of the show then you  have been in a coma or forty five years or born very recently. don�t worry, the  synopsis of the plot is repeated in the theme song each week sung by bluegrass  legends jerry scoggins and flatt and scruggs. jed clampett (buddy ebsen) was a  man living in the ozark mountains eking out a meager living for his family. when  an oil company discovers a rich deposit of oil under his property jed abd his  kin were suddenly extremely rich. they move to the upscale beverly hills but you  can take the family out of the mountains but you can�t take the mountains out of  the family. despite the pressure to act in a way contusive to their new found  wealth the clampetts remain true to their simple nature. coming along to the  city with jed is his daughter elly may (donna douglas), cousin jethro bodine  (max baer jr.) and the always ornery granny (irene ryan). elly may loves animals  and much the consternation of the neighbors has turned the clampett mansion into  a game preserve with a large number of �critters�. jethro sees this move as a  means to put his sixth grade education to good use a doctor, movie star or any  profession that happens to capture his fancy that moment. granny just wants to  continue brewing her home made medicines and her copper still prepared highly  potent moonshine. jed may be able to buy and sell anyone in the neighborhood but  he kept his down home country wisdom. living next to the campletts is his  banker, milburn drysdale (raymond bailey) who is usually trailed by his super  efficient secretary jane hathaway (nancy kulp). in the first episode of the season jed is bored. he  has been whittling all day and the family hound dog duke is asleep at his feet  covered in shavings. miss jane tells granny and jed that he now owns a movie  studio. in their typical fashion they have to see what they own so off to the  studio they go. jed likes the studio head for speaking his mind but when an  actor shows up in full horror makeup they think that is how he actually looks.  there is a thought to get the beautiful elly may into the movies but her tom boy  ways and over aggression scares off the star. the movie studio gets to set the  scene for several more episodes. at one point most of the clan winds up in a  remake of cleopatra with disastrous results. elly may is supposed to be thrown  to the lions but she befriends them all and in her presence become tame kittens.  in another episode jed donates a lot of money to a college and gets an honorary  degree. granny is upset since always thought of herself as an country doctor,  albeit without a degree. this is how most episodes go; a fish out of water story  where the county bumpkin proves to be better off than the city slicker. the episodes have held up very well over the many  years. there are some signs of age but overall the picture quality is very good.  the black and white picture is clear with excellent contrast. the audio also  does well. you can watch the episodes alone or select an option to include made  for the series commercials. often they are included as an extra verse to the  theme song. these are a real blast form the past for those of us who watched the  series the first time around. this is great fun and should not be missed. posted 02/05/09,amazon.com: the beverly hillbillies/petticoat junction christmas collection: buddy ebsen, donna douglas, edgar buchanan, linda henning, bea benaderet, higgins the dog, frank cady, lori saunders, rufe davis, meredith macrae, mike minor, smiley burnette, ron mcmanus, al simon, martin ransohoff, paul henning: movies & tv the beverly hillbillies/petticoat junction christmas collection $3.85 deal of the day: save on \"the twilight zone\" today only, save on \"the twilight zone\" series and seasons. offer ends 11:59 p.m. (pt) on sunday, january 1, 2016. learn more see all buying options customers who bought this item also bought page 1 of 1 start over page 1 of 1 this shopping feature will continue to load items. in order to navigate out of this carousel please use your heading shortcut key to navigate to the next or previous heading. page 1 of 1 start over sponsored products are advertisements for products sold by merchants on amazon.com. when you click on a sponsored product ad, you will be taken to an amazon detail page where you can learn more about the product and purchase it. to learn more about amazon sponsored products, click here . ad feedback special offers and product promotions get a $75.00 statement credit after first amazon.com purchase made with new discover itâ® card within 3 months. terms and conditions apply. see offer for details. apply now. editorial reviews it\\'s a down home holiday extravaganza with the whole gang from petticoat junction in their very special cannonball christmas\" episode in which a scrooge-like railroad executive tries to shut them down. then it\\'s off to the west coast for a double feature starring the beverly hillbillies , including home for christmas\" and christmas with the clampetts.\" 1962-63/b&w/90 min/nr/fullscreen. special features format: multiple formats, black & white, ntsc language: english region: region 1 (u.s. and canada only. read more about dvd formats. ) number of discs: 1 dvd release date: october 25, 2005 run time: 120 minutes page 1 of 1 start over sponsored products are advertisements for products sold by merchants on amazon.com. when you click on a sponsored product ad, you will be taken to an amazon detail page where you can learn more about the product and purchase it. to learn more about amazon sponsored products, click here . by music expert on april 16, 2006 format: dvd these two classic country comedy shows from the 60s are true time pieces of a simpler time. but they are also amusing and extremely charming slices of americana. since mpi has released the only authorized \"petticoat\" and \"hillbillies\" dvds to date (see their \"ultimate collections\" for both shows), these are the only dvds to feature the wonderful theme songs that introduce each series over the opening credits. also, linda kaye henning, daughter of creator-producer paul henning and co-star of \"petticoat\" (as daughter betty jo bradley) provides informative introductions to all 3 shows on this dvd plus does a sweet christmas greeting with co-star frank cady (known as hooterville general store owner sam drucker). there\\'s also some original cast commercials from both series, including a great jethro recitation of \"the night before christmas\" for kellogg\\'s corn flakes. this dvd is a real treat and a great buy. (p.s. there\\'s also another bonus - a christmas episode from henning\\'s earlier series from the late 50\\'s -- \"the bob cummings show/love that bob\" with dwayne hickman and rosemary decamp.,\"the beverly hillbillies\" sam drucker\\'s visit (tv episode 1969) - imdb imdb there was an error trying to load your rating for this title. some parts of this page won\\'t work property. please reload or try later. x beta i\\'m watching this! keep track of everything you watch; tell your friends. error sam drucker comes to beverly hills to visit and granny assumes he\\'s interested in courting her. director: title: sam drucker\\'s visit (05 mar 1969) 7.4/10 want to share imdb\\'s rating on your own site? use the html below. you must be a registered user to use the imdb rating plugin. add image add an image do you have any images for this title? 5 march 1969 (usa) see more \\xa0» filming locations: the tile mentioned sam drucker, general store owner from hooterville. see more » connections last petticoat junction crossover for the season 17 may 2016 | by stingrayfilms (united states) – see all my reviews this 8th and final crossover for season 7 begins in petticoat junction. sam drucker asks betty jo (lori saunders) to look after the general store while he\\'s in los angeles. he won a trip to hollywood and plans on visiting the clampetts as well. a garbled telegram message gives granny the false impression sam is coming \"a courting\" and she over-reacts as usual. the misunderstanding between her and sam has been an ongoing joke in most of the crossovers during the season. fearing granny will run off with sam -- leaving him at the mercy of elly\\'s terrible cooking, jethro tries to sabotage this supposed romance. he gets movie star dash riprock to pretend to be one of granny\\'s many suitors so sam will lose interest. the only funny bit in the episode is when dash shows up dressed as the lone ranger (granny\\'s hero) and she rides off with him on his horse down the suburban streets. this is the only time in the entire series where a cast member from petticoat junction (or green acres, for that matter) visits the clampetts in beverly hills. the family will visit the junction once more in a season 9 two-part episode. 1 of 1 people found this review helpful.\\xa0 was this review helpful to you? yes,the hooterville trilogy: \"the beverly hillbillies\", \"green acres\" and \"petticoat junction\" type: crossovers group: 15 \\xa0\\xa0\\xa0it started with the story of a man named jed, a poor mountaineer who barely kept his family fed.  from there it turned into a mini-tv dynasty. \\xa0\\xa0\\xa0in 1962 the beverly hillbillies premiered.  it told the story of jed clampett and his family.  having accidentally struck oil (black gold, texas tea) while hunting, mountain man jed became instantly wealthy.  his relatives convinced jed that now being wealthy, for the good of his daughter elly may he should move to posh beverly hills.  jed was happy living the hillbilly life but, for elly\\'s sake, agreed.  so he loaded up his truck and they moved to beverly... hills that is.  swimmin\\' pools, movie stars. \\xa0\\xa0\\xa0the rest of the family consisted of his knockout gorgeous daughter elly may who was strong as an ox and had a way with critters, er, animals. jethro bodine was jed\\'s nephew.  big, super strong, handsome and dumb as a, well, dumbass, jethro tried to become a ladies man and a movie mogul.  if he wasn\\'t terminally retarded he might have succeeded (my apologies to retarded people - it was rude of me to lump you in with jethro). granny was the matriarch of the family.  cranky and cantankerous, granny specialized in \"medcine\" - otherwise known as high octane moonshine.  like jethro and elly, granny also seemed somehow preternaturally strong and athletic.  she looked to be one hundred years old and yet was still capable of running faster than is humanly possible all the while leaping over obstacles. \\xa0\\xa0\\xa0also in the cast was mr. drysdale who ran the bank jed kept his money in and his secretary miss hathaway.  mr. drysdale was a live action incarnation of daffy duck\\'s insatiable greed - he loooved money and would often bend over backward to make sure the clampett\\'s kept their money in his care. \\xa0\\xa0\\xa0at one point, mr. drysdale feared he might lose that money when the clampetts headed home to the mountains for a multi-episode visit.  mr. drysdale feared the clampetts might decide to stay in the mountains and take their money with them.  once again mr. drysdale drove himself to madness making sure this didn\\'t happen. \\xa0\\xa0\\xa0but something else happened during the clampetts\\' visit home.  it was revealed that the hills where the clampetts were originally from were very close to a little town called hooterville which also happened to be the setting for two other shows produced by the same people. \\xa0\\xa0\\xa0the first was a show called petticoat junction.  premiering in 1963, it was a sitcom about a hotel called the shady rest that sat next to the local train depot, or \"junction\" - petticoat junction.  the hotel was run by widower kate bradley who had to watch over her three gorgeous daughters and keep them out of trouble.  there was also old uncle joe who was movin\\' kinda slow at the junction - petticoat junction.  a lot of other characters came and went but one who stayed for the entire run of the show was sam drucker who ran the town store.  when the beverly hillbillies came home to visit, sam was of utmost concern to mr. drysdale since he also ran what passed for the town bank - he was drysdales competition!  he wasn\\'t much competition but like i said, money made mr. drysdale crazy and paranoid with greed.  the junction - petticoat junction - was called petticoat junction because kate\\'s daughters would go skinny dipping in the local water tower and leave their petticoats hanging over the edge of the water tower.  the show\\'s opening credits always showed the girls getting caught, popping their heads over the edge of the tower in front of the hung petticoats and then disappearing inside with them.  i\\'m sorry.  it actually would be the girls doing this along with the show\\'s final star - their dog who was played by the original benji before he found movie fame! \\xa0\\xa0\\xa0in 1965 the final member of the hooterville triology premiered.  green acres was the mirror opposite of the beverly hillbillies.  whereas the beverly hillbillies were the story of a bunch of backwoods country hill folk living in the city, green acres was the story of a couple of city folk living in the backwoods country!  oliver wendell douglas was a big time manhattan lawyer who, wanting a to live a simpler life bought a farm, packed up and moved to the country.  keep manhattan just give him that countryside!  he forced his city loving wife to come with him.  oliver, she loves you but give her park avenue! \\xa0\\xa0\\xa0once on his farm outside hooterville, oliver learned country life wasn\\'t all it was cracked up to be.  the farm was a dump.  he hired people to repair the place but in the show\\'s six year run the repairs were never completed.  to answer the telephone he had to climb to the top of a phone pole where the phone was hanging!  the neighbors were grimy country folks.  he was constantly getting upset and frustrated with them all.  oddly enough, his wife lisa who never wanted to move to the country seemed to actually enjoy herself more, blithely carrying on her life as closely as she could to  the same style and manner she had in the city. \\xa0\\xa0\\xa0in addition to the douglas family, hooterville had a number of other... colorful residents.  the ziffel were the grimy country folk i mentioned earlier.  they treated their pig arnold like one of the family.  and to be blunt, arnold was probably the smartest character on the show!  mr. haney was the shifty traveling salseman.  eb dawson was their handyman.  sam drucker was... well the same guy he was on petticoat junction and in his guest appearances on the beverly hillbillies: the guy who ran the local store! \\xa0\\xa0\\xa0while the beverly hillbillies only made the occassional guest visit to hooterville, the casts of green acres and petticoat junction frequently bopped back and forth between shows with some like sam drucker being regulars on both shows! \\xa0\\xa0\\xa0it was an empire!  a grimy pig pooped doused empire!  nothing could stop this hick town juggernaut trilogy!  except for cbs which ran all three shows.  petticoat junction was cancelled in 1970.  then in 1971, cbs cancelled the still popular green acres and the beverly hillbillies as part of a sweeping move on the networks part to get rid of all its \"rural\" comedies.  smart programming guys.  \"gee, people still love these shows but lets cancel them anyway because they seem to have country appeal and not city appeal.  and we want urban viewers not farmers.\"  because, of course, country folk only watch country themed shows and city folk only watch city themed shows.  and so i guess only nazis and pow could enjoy hogan\\'s heroes and only people in parallel dimensions watched the twilight zone.  and even if there was any truth to that way of thinking, what is up with snubbing country viewers anyway!  screw you 1971 cbs executives!  next time you need a meal, go eat pavement.  those are the folks who put the food on your overly self important tables mr. corporate fat cat!  may jed clampett buy you out and make you live on the douglas\\' run down farm! other beverly hillbillies crossover links,the beverly hillbillies | beverly hillbillies wiki | fandom powered by wikia green acres the beverly hillbillies is an american situation comedy originally broadcast for nine seasons on cbs from 1962 to 1971, starring buddy ebsen , irene ryan , donna douglas , and max baer, jr. the series is about a poor backwoods family transplanted to beverly hills, california, after striking oil on their land. a filmways production created by writer paul henning , it is the first in a genre of \"fish out of water\" themed television shows, and was followed by other henning-inspired country-cousin series on cbs. in 1963, henning introduced petticoat junction , and in 1965 he reversed the rags to riches model for green acres . the show paved the way for later culture-conflict programs such as mccloud, the nanny, the fresh prince of bel-air, and doc (tv series). panned by many entertainment critics of its time, it quickly became a huge ratings success for most of its nine-year run on cbs. the beverly hillbillies ranked among the top twenty most watched programs on television for eight of its nine seasons, twice ranking as the number one series of the year, with a number of episodes that remain among the most watched television episodes of all time. [1] the ongoing popularity of the series spawned a 1993 film remake by 20th century fox. [2] in 1997, the episode \"hedda hopper\\'s hollywood\" was ranked #62 on tv guide\\'s 100 greatest episodes of all time. [3] contents edit the beverly hillbillies series starts with the ok oil company learning of oil in jed clampett\\'s swamp land and paying him a fortune to acquire the rights to drill on his land.  patriarch jed moves with his family into a mansion next door to his banker (milburn drysdale) in the wealthy los angeles county city of beverly hills, california, where he brings a moral, unsophisticated, and minimalistic lifestyle to the swanky, sometimes self-obsessed and superficial community. the theme song introduces the viewer to the world\\'s most fortunate hunting accident – whereby jed shoots at game but instead hits \"black gold, texas tea\": he had discovered oil. double entendres and cultural misconceptions were the core of the sitcom\\'s humor. frequently, plots involved the outlandish efforts taken by drysdale to keep the clampetts in beverly hills and their money in his bank. the family\\'s periodic attempts to return to the mountains were often prompted by granny due to a perceived slight she received from one of the \"city-folk.\" the beverly hillbillies accumulated seven emmy nominations during its run. nearly a half century since its premiere, the series remains in syndication on metv. the hillbillies themselves were buddy ebsen as the widowed patriarch jed \"j.d.\" clampett; irene ryan as his ornery mother-in-law, daisy may \"granny\" moses; donna douglas as his curvaceous, tom-boy daughter elly may clampett; and max baer, jr. as jethro, the brawny, half-witted son of his cousin pearl bodine. pearl (played by bea benaderet ) appeared in most of the first season episodes, as did jethro\\'s twin sister jethrine, played by baer in drag, using linda kaye henning \\'s voiceover. pearl was the relative who prodded jed to move to california, after being told his modest property could yield $25 million. the supporting cast featured raymond bailey as jed\\'s greedy, unscrupulous banker milburn drysdale; harriet e. macgibbon as drysdale\\'s ostentatious wife margaret drysdale; and nancy kulp as \"miss\" jane hathaway, drysdale\\'s scholarly, \"plain jane\" secretary, who pined for the clueless jethro. while granny frequently mentioned that she was from tennessee, the series never specified the state from which the clampetts moved to california. however, they often referred to nearby towns such as joplin, branson, springfield, tulsa, silver dollar city, all of which are in or near southwest missouri. in the eighth episode of season 8, named \"manhattan hillbillies,\" granny tells the police officer in central park that her family comes from taney county (which is in southwest missouri). early episodes also contained several references to eureka springs, which is in northwest arkansas. all of the communities are in the ozark mountains. the show\\'s creator was hamilton (buddy) morgan, a television technician from nyc. producer paul henning is from independence, missouri, and donated 1,534 acres (621\\xa0ha) for the ruth and paul henning conservation area near branson. [4] animal trainer frank inn provided animals for all three of hennings\\'s hit shows, which included elly may\\'s \"critters,\" such as chimp alfie, who portrayed cousin bessie, and duke, jed\\'s hunting bloodhound. cousin bessie was known to strategically outsmart jethro whenever the latter attempted to make her a beast of burden. a three-act stage play based on the pilot was written by david rogers in 1968. [5] crossovers with related shows edit two episodes of petticoat junction feature characters from the beverly hillbillies: \"granny, the baby expert\" featuring granny, and \"a cake from granny\" featuring granny and miss jane. although none of the characters from the beverly hillbillies ever appeared on green acres, an episode of green acres was named after the beverly hillbillies. theme music edit the show\\'s theme song, \" the ballad of jed clampett \", was written by producer and writer paul henning and originally performed by bluegrass artists flatt and scruggs . the song was sung by jerry scoggins (backed by flatt and scruggs) over the opening and end credits of each episode. flatt and scruggs subsequently cut their own version of the theme (with flatt singing) for columbia records; released as a single, it reached #44 on billboard hot 100 pop music chart and #1 on the billboard hot country chart (the lone country chart-topper for the duo). flatt and scruggs also had another billboard country top ten hit with the comic \"pearl, pearl, pearl\", an ode to the feminine charms of miss pearl bodine who was featured in the episode \"jed throws a wingding,\" the first of several flatt and scruggs appearances on the show. the six main cast members participated on a 1963 columbia soundtrack album which featured original song numbers in character. additionally, ebsen, ryan, and douglas each made a few solo recordings following the show\\'s success, including ryan\\'s 1966 novelty single, \"granny\\'s miniskirt.\" the series generally featured no country music beyond the bluegrass banjo theme song, although country star roy clark and the team of flatt and scruggs occasionally played on the program. pop singer pat boone appeared on one episode as himself, with the premise that he hailed from the same area of the country as the clampetts (boone is, in fact, a native of jacksonville, florida, although he spent most of his childhood in tennessee). the 1989 film uhf featured a \"weird al\" yankovic parody music video, \"money for nothing/beverly hillbillies*,\" combining \" the ballad of jed clampett \" and dire straits\\' \"money for nothing.\" broadcast history edit note: the most frequent time slot for the series is in bold text. wednesday at 9:00-9:30 pm on cbs: september 26, 1962—june 10, 1964; september 25, 1968—march 26, 1969 wednesday at 8:30-9:00 pm on cbs: september 23, 1964—april 3, 1968; september 24, 1969—march 18, 1970 tuesday at 7:30-8:00 pm on cbs: september 15, 1970—march 23, 1971 popularity edit written-off as lowbrow by some critics, the show shot to the top of the nielsen ratings shortly after its premiere and stayed there for several seasons. during its first two seasons, it was the number one program in the u.s. during its second season, it earned some of the highest ratings ever recorded for a half-hour sitcom. the season two episode \"the giant jackrabbit\" also became the most watched telecast up to the time of its airing, and remains the most watched half-hour episode of a sitcom as well. [6] the series enjoyed excellent ratings throughout its run, although it had fallen out of the top 20 most watched shows during its final season. nielsen ratings not in the top 30 influence on other television shows edit because of the show\\'s high ratings, cbs asked creator paul henning to pen two more folksy comedies, spawning a mini-genre of rural sitcoms during the 1960s. petticoat junction featured an extended family, including three pretty young women of marrying age, running a small hotel in the isolated rural town of hooterville. green acres flipped the clampetts\\' fish-out-of-water concept by depicting two city sophisticates moving to hooterville , which was populated by oddball country bumpkins. certain actors appeared on more than one of these series: bea benaderet, who had played jethro\\'s mother during the first season of the beverly hillbillies, was the mother of the family on petticoat junction. linda kaye henning , who provided the voiceover for the beverly hillbillies character jethrine, portrayed benaderet\\'s daughter betty jo bradley on petticoat junction (the only female who remained all seven seasons). edgar buchanan , who starred in all 222 episodes of petticoat junction and guest-starred in 17 episodes of green acres, also guested in three episodes of the beverly hillbillies, always as the character uncle joe carson. charles lane played homer bedloe, vice president of the c. & f. w. railroad, on both shows.  he also played an apartment landlord to jane hathaway (\"foster phinney\") during the 1970–71 season. sam drucker, played by frank cady , of both petticoat junction and green acres, also appeared in several episodes of the beverly hillbillies. several animal actors trained by frank inn , including higgins the dog , also moved between series as needed. despite the actor cross-overs and the character uncle joe carson\\'s multiple appearances (which made it clear that the three shows were set in the same fictional universe), the two hooterville series retained identities that were distinct from the beverly hillbillies. primetime emmy nominations edit 1963 outstanding continued performance by an actress in a series (lead) - irene ryan (winner: shirley booth for hazel (tv series)) outstanding directorial achievement in comedy - richard whorf (winner: john rich (director) for the dick van dyke show) outstanding program achievement in the field of humor (winner: the dick van dyke show) outstanding writing achievement in comedy - paul henning (winner: carl reiner for the dick van dyke show) 1964 outstanding continued performance by an actress in a series (lead) - irene ryan (winner: mary tyler moore for the dick van dyke show) outstanding directorial achievement in comedy - richard whorf (winner: jerry paris for the dick van dyke show) 1967 outstanding performance by an actress in a supporting role in a comedy - nancy kulp (winner: frances bavier for the andy griffith show) cancellation and \"the rural purge\" edit the clampetts\\' truck (a 1921 oldsmobile truck modified by george barris) on display at planet hollywood in downtown disney. another truck is at the college of the ozarks. [7] the 1970–71 season failed to gain a top 30 nielson placing [8] and the show was cancelled in 1971 after 274 episodes. the cbs network, prompted by pressure from advertisers seeking a more sophisticated urban audience, decided to refocus its schedule on several \"hip\" new urban-themed shows and, to make room for them, all of cbs\\'s rural-themed comedies were simultaneously cancelled, despite some considerable nielsen ratings. [9] this action came to be known as \"the rural purge .\" pat buttram , who played mr haney on green acres, famously remarked that, \"it was the year cbs killed everything with a tree in it.\" [10] in addition to the beverly hillbillies, the series that were eliminated included green acres , mayberry r.f.d. , and hee haw , the last of which was resurrected in first-run syndication, where it ran for another twenty-one years. petticoat junction had been canceled a year earlier due to declining ratings following the death of its star, bea benaderet . main cast edit j.d. \"jed\" clampett although he had received little formal education, jed clampett has a good deal of common sense. a good-natured man, he is the apparent head of the family. jed\\'s wife (elly may\\'s mother) died but is referred to in the episode \"duke steals a wife\" as rose ellen. jed is shown to be an expert marksman and is extremely loyal to his family and kinfolk. the huge oil pool in the swamp he owned was the beginning of his rags-to-riches journey to beverly hills. although he longs for the old ways back in the hills, he makes the best of being in beverly hills. whenever he has anything on his mind, he sits on the curbstone of his mansion and whittles until he comes up with the answer. jed\\'s full first name is never given in the television series, though \\'jedediah\\' was used in the 1993 beverly hillbillies theatrical movie (coincidentally, on ebsen\\'s subsequent series, barnaby jones, barnaby\\'s nephew j.r. was also named jedediah). in one episode jed and granny reminisce about seeing buddy ebsen and vilma ebsen—a joking reference to the ebsens\\' song and dance act. jed appears in all 274 episodes. granny (daisy may moses) called \"granny\" by all, relatives or not, shotgun-toting daisy moses, jed\\'s mother-in-law, is a true daughter of dixie. paul henning, the show\\'s creator/producer quickly disposed of the idea of granny being jed\\'s mother, which would have changed the show\\'s dynamics, making granny the matriarch and jed subordinate to her. granny can be aggressive but is often over-ruled by jed. she is a confederate to the core, defending president jefferson davis, the stars and bars, and the simple life.  short-fused and easily angered, granny fancies herself a \"dunked\" (not \"sprinkled\") christian with forgiveness in her heart. she abhors \"revenuers\" and blue-coat yankees. a self-styled \"m.d.\"\\xa0— \"mountain doctor\"\\xa0— she claims to have an edge over expensive know-nothing city physicians. in lieu of anesthesia, granny uses her \"white lightning\" brew before commencing on painful treatments such as leech bleeding and yanking teeth with pliers. short and scrappy, granny often wields a double-barreled, 12-gauge shotgun and fires it numerous times during the run of the show (in a first-season episode she chases milburn drysale with it when she found out his family had a feud with her family back in the hills). she fires it once at the front lawn when jed is witching for water and several times on the skeet shooting range. during the mock indian invasion she believed she was shooting live shells, though milburn drysdale had removed the buckshot to protect the actors portraying the indians. she fires rock salt and bacon rind at a crow during the \"happy valley\" episode, and again at the back of an armored truck in which milburn drysdale was taking refuge in.  she fires at (and hits in the posterior) milburn drysdale with rocksalt believing he is the ghost of \"lady clemintine\" ending their second visit to \"clampett castle\" in kent, england. granny also fires \"lady fingers\" (which elly had baked for jethro to take to the army reserve) into the posterior of an actor portraying gen. ulysses s. grant during \"the battle of culpepper plantation\" she is also able to tell the precise time via a sun dial and the weather via a beetle (granny versus the weather bureau). without her glasses, granny is extremely nearsighted\\xa0— once in a crossover with the petticoat junction show, granny mistakes a dog for a baby child and a coffee pot for a telephone. two of granny\\'s phobias are \"injuns\" (she actually buys wigs so the clampetts won\\'t be \"scalped\") and the \"cement pond\" (swimming pool–she has a fear of water). in a long story arc in the show\\'s ninth season, elly may dates a u.s. navy frogman, which confuses granny: after seeing the frogman climb out of the pool in his skin-diving wear, she thinks that anyone who swims in the pool will be turned into a frog. she also has a peculiar way of retelling the war between the states, in which she thinks the south has won and jefferson davis is the president, while calling sherman\\'s march \"sherman\\'s retreat to the sea\". any attempts to correct her meet with failure. she is also known for slicing off switches to use on jethro, mainly whenever he goes too far with his dumb and idiotic schemes. there are references to granny growing up in the smoky mountains of tennessee. from episode 9: \"when i was a girl back in tennessee, i set so many boys\\' hearts on fire that they took to calling that neck of the woods the smoky mountains.\" granny\\'s full name, daisy moses, allegedly an homage to the popular and dearly loved folk artist anna mary robertson, known to the world as grandma moses. (grandma moses died in 1961, a year before the beverly hillbillies made its television debut.) granny is frequently referred to as \"granny clampett\" in a number of episodes but technically she is a moses. granny appears in all 274 episodes. elly may clampett elly may, jed\\'s only child, is a mountain beauty with the body of a pinup girl and the soul of a tomboy. she can throw a fastball as well as \"rassle\" most men to a fall, and she can be as tender with her friends, animals, and family as she is tough with anyone she rassles. she said once that animals could be better companions than people, but as she grew older she saw that, \"fellas kin be more fun than critters.\" elly is squired about by eager young hollywood actors with stage names like \"dash riprock\" and \"bolt upright.\" other boyfriends for elly include sonny drysdale, beau short, beatnik sheldon epps, and mark templeton, a frogman. elly\\'s most notable weakness, oft mentioned when she is being \"courted,\" is her lack of kitchen skills. family members cringe when, for plot reasons, elly takes over the kitchen. rock-like donuts and cookies, for example, are a plot function in an episode featuring wally cox as bird watching professor biddle. elly is briefly considered for film stardom at the movie studio owned by jed. in one episode, hearing rock hudson and cary grant are both single, granny asks that elly be introduced to them. during the final season elly may takes a job as a secretary at the commerce bank after jed and granny persuade her that it would be a good way to \"meet a husband.\" in the 1981 tv movie of the beverly hillbillies, elly may is head of a zoo. elly may appears in all 274 episodes. jethro bodine jethro (though he addresses jed as his uncle) is the son of jed\\'s cousin, pearl bodine. he drove the clampett family to their new home in california and stayed on with them to further his education. the whole family boasts of jethro\\'s \"sixth grade education\" but nevertheless feels he is a bit of an idiot. jethro is simply naive in the first season of the show but becomes incredibly ignorant and pompous as the series progresses. he often shows off his cyphering abilities with multiplication and \"go-zin-ta\\'s,\" as in \"five gozinta five one times, five gozinta ten two times,\" etc.  the tallest student in his class in the town of oxford (so named because \"that\\'s where the oxen used to ford the creek\") because of his age, he is often impressing others that he graduated \"top of his class at oxford.\"  in beverly hills, he decides to go to college. he manages to enroll late in the semester at a local secretarial school due to his financial backing and earns his diploma by the end of the day because he didn\\'t understand what was going on in class and was too disruptive. (this was an ironic in-joke—in real life max baer jr, has a bachelor\\'s degree in business administration from santa clara university(also minored in philosophy)). many stories in the series involve jethro\\'s endless career search, which include such diverse vocations as a millwright, a brain surgeon, street car conductor, double-naught spy, hollywood producer (a studio flunky remarks jethro has the right qualifications for being a producer-a 6th grade education and his uncle owns the studio. the in-joke gag of jethro as a movie producer was replayed in the 1981 movie), soda jerk, short order cook, and once as a bookkeeper for milburn drysdale\\'s bank. more often than not, his overall goal in these endeavors is to obtain as many pretty girls as humanly possible. out of all the clampett clan, he is the one who makes the most change from \\'country bumpkin\\' to \\'city boy.\\' another running gag is that jethro is known as the \"six foot stomach\" for his ability to eat: in one episode he eats a jetliner\\'s entire supply of steaks; in another episode jethro tries to set himself up as a hollywood agent for cousin \"bessie\"-with a fee of 10,000 bananas for bessie and 1,000 bananas for jethro. at one time jed mentions that jethro was the only baby he knew born with a full set of teeth \"just like a beaver.\" jethro appears in 272 episodes; he is not in the third- or second-to-last episodes but baer of course remains billed in the title credits. baer claimed he only auditioned for the role of jethro for fun and never expected to get the part. supposedly, he clinched the part largely because of his grin. duke the clampetts\\' family dog. he\\'s an old bloodhound that jed had bought for four bits (50 cents) when he was a puppy. in early episodes, jethro tries to teach duke to fetch sticks, though to jed it looks as if duke is teaching jethro how to do the trick. in a couple of episodes, duke gets involved with a french poodle that was brought in to mate with mrs. drysdale\\'s pampered pooch claude. apparently, the poodle has better taste and has duke\\'s puppies instead. when mrs. drysdale wants claude to get revenge against duke, jed warns her that he\\'s seen that old hound dog hold his own against a bobcat. the drysdales milburn, margaret, and sonny: the drysdales are the clampetts\\' next door neighbors. milburn is the commerce bank\\'s tightwad president and the friendly bumpkins\\' confidant. the haughty mrs. drysdale touts a heritage that traces back to the mayflower, but money-hungry milburn\\'s concerns are strictly monetary. when suffering an anxiety attack, milburn sniffs a stack of money and is quickly revived. mr. drysdale appeases the clampetts and says that anything they do is unquestionably right. he often forces others, especially his secretary, to placate the clampetts\\' by granting their unorthodox requests. although wife margaret, a blue-blooded bostonian, has obvious disdain for the \"peasant\" hillbillies, she tacitly agrees to tolerate them (rather than milburn lose their ever growing account—which is $96,000,000 in 1969, equal to $608,406,534 today). margaret loathes all four \"vagabonds,\" but her most heated rivalry is with granny, with whom she occasionally has some \"scraps.\" raymond bailey appears in 247 episodes. harriet e. macgibbon appears in 55 episodes between 1962 and 1969, she is not seen in the last two seasons of the show although is occasionally mentioned. margaret\\'s aged father has gambled away most of their money. mrs. drysdale\\'s son—and milburn\\'s stepson—is sonny (played by louis nye ), who is a forty-something collegian who doesn\\'t believe in working up a sweat and is an insufferable mama\\'s boy. finding elly may a lovely, naive pollyanna, he courts her until she literally tosses him. although the character is fondly remembered by fans, sonny only appears in four episodes, three in 1962 and a final appearance in 1966. nancy kulp (center) as the beverly hillbillies\\' jane hathaway jane hathaway jane hathaway, whom the clampetts addressed as \"miss jane,\" is drysdale\\'s loyal and efficient secretarial assistant. though she always carried out his wishes, she was inherently decent and was frequently put off by her boss\\' greed. when she was annoyed with him, as was often especially when one of drysdale\\'s schemes went too far, she would usually and forcefully say \"chief!\" jane was genuinely fond of the family (to the clampetts, she was considered family; even granny, the one most dead-set against living in california, liked her very much and thought of her as part of the family), in fact, she actually harbored something of a crush on jethro for most of the series\\' run. at first, she mistook the clampetts as the servants, until she realized who they really were (which almost cost her her job). miss hathaway frequently has to \"rescue\" drysdale from his idiotic schemes, receiving little or no thanks for her efforts. in one episode, she and granny, disguised as \"geisha girls,\" finally have enough and \"crown\" drysdale and jethro, who have made one too many comments about women serving men. jane is loyal to drysdale as well, despite her misgivings toward his avarice and greed. in one episode, the clampetts, feeling money has corrupted them, give all of their money to virginia \"ginny\" jennings ( sheila kuehl ), a college student. while drysdale moans the loss of the money, jane immediately tells him to stop thinking about the clampetts and start trying to get the jennings account. eventually, everyone discovered jennings\\' real motives, and she was gone, with the clampetts getting their money back, and things were as they were before. in one episode, it is established that miss jane sacrificed her job as the top secretary of the top executive of the top insurance company to join mr. drysdale at the commerce bank. miss jane was a vassar graduate. jane hathaway appears in 246 episodes. note- in 1999 tv guide ranked her number 38 on its \\'50 greatest tv characters of all time\\' list. [11] semi-regulars lester flatt and earl scruggs country music stars flatt and scruggs (who play themselves in seven episodes, 1963–68), are longtime friends of the clampetts \"back home\" (kimberling city, missouri) who visit with the clampetts when they are on tour in california. the duo had a number-one billboard country single with the show\\'s \"the ballad of jed clampett\" (although the song is actually performed in the credits by jerry scoggins to flatt and scruggs\\' instrumental). actress joi lansing played flatt\\'s wife, gladys, in five episodes, 1963–68. john brewster brewster (played by frank wilcox ), is the president & ceo of the ok oil company headquartered in tulsa who purchases the oil rights to the gusher on the clampett home back in the hills. the clampetts are quite fond of him, and his wife occasionally visits them in california. john brewster appears in 14 episodes, 1962–1966. janet trego janet (played by sharon tate ) is a beautiful secretary at the commerce bank. although janet appears in 15 episodes, 1963–65, her role is generally quite minor. tate was later murdered by charles manson\\'s \"family\" just before the start of the eighth season. sam drucker sam (played by frank cady ) owns the general store in hooterville. granny is constantly under the impression that sam wants to marry her, however sam has no intentions of doing so. he appears in 10 episodes between 1968–1970. cady also starred as sam drucker in petticoat junction and green acres. cady reprised the role of sam drucker for the 1990 green acres reunion movie return to green acres helen thompson helen (played by danielle mardi) is a beautiful british secretary at the commerce bank. helen takes over jane hathaway\\'s job as mr. drysdale\\'s secretary after ms. hathaway resigned. helen appears in 17 episodes between 1969–1971. helen was one of the ringleaders of the protest group the secretaries of the commerce bank created, grun (girls resist unfair neglect). she, along with many other secretaries as well as elly and granny, lived with ms. hathaway for a short time in her apartment. shorty kellums shorty (played by shug fisher ) is jed\\'s longtime buddy from back home whom jed reunites with in 1969 when the clampetts go back for an extended period to the hills. shorty is a wiry little man who is crazy about voluptuous girls half his age. shorty later moves into the clampett mansion in beverly hills for a period. shorty kellums appears in 17 episodes in the 1969–70 season, and returned again briefly during 1970–71. elverna bradshaw elverna is granny\\'s longtime rival back in the hills, a gossip second to none. she makes a brief appearance in a 1963 episode when the clampetts go back to the hills to fetch pearl to california but is not seen again until 1969 when the clampetts return to their native land for an extended visit. however, both granny and jed referred to the character in several episodes throughout the series\\' run. elverna (played by elvia allman ) and granny rekindle their feud in a match to see who will be first wed, elverna\\'s daughter or elly may. for reasons not really explained, elverna also moves into the clampett beverly hills mansion during the same period that shorty does; both of them, however, are gone from the estate for the final 1970–71 season, presumably having returned home. elverna bradshaw appears in 13 episodes, 1963–1970. matthew and mark templeton the templetons are two brothers both played by actor roger torrey , who originally auditioned (unsuccessfully) for the part of jethro. matthew is seen in three episodes in october 1969 during the clampetts\\' stay in the hills where granny tags the preacherman as a prospective husband for elly. unfortunately, granny learns that matthew is married. just a year later back in california, elly meets matthew\\'s brother, mark templeton, who is a marine biologist, a frogman whom granny believes is actually part frog. the mark templeton storyline played out for nine episodes and was abruptly dropped although advance publicity for the show indicated elly may and mark would be marrying during the season; however, the show was cancelled at the end of that season as part of the cbs rural purge . the \"critters\" edit most episodes revolved around the clash between the \"uncivilized\" hillbilly culture represented by the clampetts and the \"civilized\" american culture of the drysdales. the clampetts lived as they always had, even in their large, elegant mansion, never abandoning their mountain attire or replacing the old rattletrap truck in which they had moved to california. although when asked what kind of truck it is, jethro said \\'i think it\\'s a stutz\\', it is actually based on a 1921 oldsmobile. all the hillbillies were handy with firearms and always seemed to have their weapons close at hand and ready to draw. they continued to grow their own food, and granny made lye soap and moonshine. the extreme potency of the moonshine liquor and the harshness of the lye soap were running gags throughout the run of the series. as another running joke, the movie theaters back in the hills were still showing films from the silent movie era and the hillbillies were unaware of talking pictures or more contemporary movie stars. granny\\'s favorite actor was hoot gibson, but she also had an intense crush on william s. hart, and the whole clampett family adored mary pickford. silent movie legend gloria swanson made a memorable guest appearance on the show as herself in an episode that featured a comic parody of a silent melodrama. the clampetts did, however, have a television, on which they watched soap operas and \"rasslin\\'\", as well as john wayne movies, as he was apparently one of the few \"talkie\" movie stars of whom they were aware. wayne made a brief cameo as himself after the clampett mansion was \"attacked\" by stuntmen dressed as native americans. pearl and granny often fought for kitchen supremacy. pearl once told granny \"a blood cousin trumps a mother-in-law\". this underscored a familial disconnect between jethro and granny; although they shared no bloodlines, jethro still called her \"granny\" (as did everyone else on the show, including miss jane and the drysdales). other than their kitchen wars, relations between granny and pearl were generally friendly. the second season began with a brief mention of pearl having moved back to the hills, an ironic departure, as it was pearl who had urged jed to move to california. the change came about because actress bea benaderet had left the show to star in petticoat junction . mrs. drysdale soon became granny\\'s main sparring partner. although both douglas and baer were well into their twenties when the series started, during the first years of the series, their characters were supposed to be teenagers. elly may was enrolled in an elite girls\\' school in the first season, although no further mention was made of her education in later episodes. jethro was enrolled in a sixth-grade class with much younger students; a few episodes later on, the scripts suggested that he was still in school. should granny or one of her kin feel lonely for the hills, banker drysdale would bend over backwards to placate the offended subject. drysdale went so far as to re-create the log cabin the clampetts had lived in and place it right next to the \"cee-ment pond\" and the still granny had installed to make moonshine. another time drysdale followed the clampetts to the \"hills\" and bought up the silver dollar city \"bank\" just to make sure he had a controlling interest in the clampetts\\' money. one running gag was that when jed would take money out of his pocket, drysdale\\'s blood pressure would go up. a similar running joke was that when it seemed the clampetts would take their money out of his bank, drysdale\\'s face would turn green. a variation of the joke of drysdale\\'s face changing color is in one episode when, after being given some of granny\\'s \"tennessee tranquilizer\" (moonshine), drysdale\\'s face turns red. another frequent source of humor dealt with jethro\\'s endless career search, which included such diverse vocations as soda jerk, brain surgeon, hollywood celebrity, and secret \"double naught\" agent/spy. jethro coveted movie star fame and relished becoming a \"playboy\" like elly\\'s beau dash riprock. jethro\\'s stupidity usually caused such career attempts to fail spectacularly, as when he decided to open a \"topless\" restaurant (\"the happy gizzard\"), where the waiters and waitresses were hatless. the one time in the series when jethro almost succeeded as a \"hollywood celebrity\" was when \"cousin roy\" ( roy clark ) tried to get jethro to back him up as a country singer in hollywood; jethro refused and failed as usual. jethro did have one success, of sorts. when he rescued a bird watchers girl troop who fell into the \"cement pond\" (they were attacked by ants), jethro got a \"lifesaving badge\". misunderstandings were a general source of humor in the program: when the clampetts did not understand something they had never encountered before (such as a water faucet), or when various city dwellers could not comprehend something the clampetts were talking about. a group of businessmen overheard jed talking about \"crawdads\" and concluded that he was discussing a new type of military vehicle, which they wanted to invest in. conversely, when jed muses to mr. brewster about whether he can afford to move to beverly hills, brewster responds with, \"why, mr. clampett, with your money, you could afford the taj mahal,\" to which jed rejoins, \"i\\'ll take it!\" when brewster insists he was making a joke; jed allows that he can go right ahead. brewster: \"well, that was the joke.\" jed: \"mr. brewster, you\\'re an awfully nice feller, but i\\'ve heard a sight better jokes than that!\" the clampetts went back to the hills for christmas during the first season but did not return there until the eighth season, during which several episodes were filmed on location in kimberling city, missouri. during this period, shug fisher and elvia allman joined the cast as shorty and elverna (allman had appeared on an episode in the first season playing the same character). one constant throughout the series was that the hillbillies, who were scrupulously honest, were surrounded by cynical, conniving and money-hungry \"city-folk,\" whose plans were always foiled (usually unknowingly) by the clampetts. merchandise edit the 1960s saw a plethora of tie-in merchandise hit store shelves, particularly toys. several different coloring books and jigsaw puzzles were released, as was a fairly long-running comic book. there were even hillbillies halloween costumes. a beverly hillbillies lunchbox is among the most valuable pieces of memorabilia from the era. the beverly hillbillies made the cover of tv guide nine times between 1962 and 1970. donna douglas is the only cast member pictured on every cover. donna douglas was also one of the most publicized actresses of the era, making the covers of many movie magazines. in 1993, a 110-card set of beverly hillbillies trading cards was released by eclipse comics. although timed to coincide with the release of the 1993 beverly hillbillies film, these cards featured photos from the original television series, with storylines and character details on the back. an earlier card series from 1963 is highly sought by collectors and is among the most expensive non-sports cards sets. reunions edit in 1981, a return of the beverly hillbillies television movie, written and produced by series creator paul henning , was aired on the cbs network. irene ryan had died in 1973, and raymond bailey had died in 1980. the script acknowledged granny\\'s passing but featured imogene coca as granny\\'s mother. max baer decided against reprising the role that both started and stymied his career, so the character of jethro bodine was given to another actor, ray young. the film\\'s plot had jed back in his old homestead in bugtussle, having divided his massive fortune among elly may and jethro, both of whom stayed on the west coast. jane hathaway had become a department of energy agent and was seeking granny\\'s \"white lightnin\\'\" recipe to combat the energy crisis. since granny had gone on to \"her re-ward\", it was up to granny\\'s centenarian \"maw\" ( imogene coca ) to divulge the secret brew\\'s ingredients. subplots included jethro playing an egocentric, starlet-starved hollywood producer, jane and her boss ( werner klemperer ) having a romance and elly may owning a large petting zoo. the four main characters finally got together by the end of the story. having been filmed a mere decade after the final episode of the original series, viewer consensus was that the series\\' original spirit was lost to the film on many fronts, chief of which being the deaths of ryan and bailey and baer\\'s absence, which left only three of the six original cast members available to reprise their respective roles. further subtracting from the familiarity was the fact that the legendary clampett mansion was unavailable for a location shoot as the owners\\' lease was too expensive. henning himself admitted sheer embarrassment when the finished product aired, blaming his inability to rewrite the script due to the 1981 writers guild strike. [12] the last hillbilly hurrah edit in 1993, ebsen, douglas, and baer reunited onscreen for the only time in the cbs-tv retrospective television special, the legend of the beverly hillbillies which ranked as the 4th most watched television program of the week – a major surprise given the mediocre rating for the 1981 tv-movie. it was a rare tribute from the \"tiffany network\" which owed much of its success in the 1960s to the series but has often seemed embarrassed by it in hindsight, often down-playing the show in retrospective television specials on the network\\'s history and rarely inviting cast members to participate in such all-star broadcasts. the legend of the beverly hillbillies special ignored several plot twists of the tv movie, notably jethro was now not a film director but a leading los angeles physician. critter-loving elly may was still in california with her animals but jed was back home in the hills, having lost his fortune, stolen by the now-imprisoned banker drysdale (a plot twist that many fans found unsettling for this good-natured show.) nancy kulp had died in 1991 and was little referred to beyond the multitude of film clips that dotted the special (which curiously failed to include a single film clip of harriet macgibbon.) the special was released on vhs tape by cbs/fox video in 1995 and as a bonus feature on the official third season dvd set in 2009. reruns and syndication edit the beverly hillbillies is still televised daily around the world in syndication. in the united states, the show is broadcast on tv land and metv and was previously on wgn america. [13] a limited number of episodes from the earlier portions of the series run have turned up in the public domain and as such are seen occasionally on many smaller networks. the show is distributed by cbs television distribution, the syndication arm of cbs television studios. the repeats of the show that debuted on cbs daytime on september 5–9, 1966 as \"mornin\\' beverly hillbillies\" through september 10, 1971 and on september 13–17, 1971 as \"the beverly hillbillies\" lasted up to winter 1971–1972. it aired at 11:00–11:30am eastern/10:00-10:30am central through september 3, 1971, then moved to 10:30–11:00am eastern/9:30-10:00am central for the last season on cbs daytime. media edit there are 55 episodes of the series that are in the public domain, (all 36 season one episodes and 19 season two episodes), because orion television, successor to filmways, neglected to renew their copyrights. as a result, these episodes have been released on home video and dvd on many low-budget labels and shown on low-power television stations and low-budget networks in 16 mm prints. in many video prints of the public domain episodes, the original theme music has been replaced by generic music due to copyright issues. before his death, paul henning , whose estate now holds the original film elements to the public domain episodes, authorized mpi home video to release the best of the first two seasons on dvd, the first \"ultimate collection\" of which was released in the fall of 2005. these collections include the original, uncut versions of the first season\\'s episodes, complete with their original theme music and opening sponsor plugs. vol. 1 has, among its bonus features, the alternate, un-aired version of the pilot film, the hillbillies of beverly hills (the version of the episode that sold the series to cbs), and the \"cast commercials\" (cast members pitching the products of the show\\'s sponsors) originally shown at the end of each episode. with the exception of the public domain episodes, the copyrights to the series were renewed by orion television.  however, any new compilation of hillbillies material will be copyrighted by either mpi media group or cbs, depending on the content of the material utilized.  the trademarks, concepts and character rights are the exclusive property of cbs broadcasting. for many years, 20th century fox, through a joint venture with cbs called cbs/fox video, released select episodes of hillbillies on videocassette. after viacom merged with cbs, paramount home entertainment (the video division of paramount pictures, which was acquired by viacom in 1994) took over the video rights. in 2006, paramount announced plans to release the copyrighted episodes in boxed sets through cbs dvd later that year. the show\\'s second season (consisting of the public domain episodes from that season) was released on dvd in region 1 on october 7, 2008 as \"...the official second season\". the third season was released on february 17, 2009. [14] both seasons are available to be purchased together from major online retailers. movie version in 1993, a movie version of the beverly hillbillies was released starring jim varney as jed clampett and featuring buddy ebsen in a cameo as barnaby jones, the lead character in his long-running post-hillbillies television series. see also'}"
            ]
          },
          "metadata": {},
          "execution_count": 18
        }
      ]
    },
    {
      "cell_type": "code",
      "source": [
        "#recreate cleaned trained data with nested answer info\n",
        "def_finalformat(dataset):\n",
        "  \n",
        "\n"
      ],
      "metadata": {
        "colab": {
          "base_uri": "https://localhost:8080/"
        },
        "id": "iCNkGPEz1NN_",
        "outputId": "77204c64-c338-4ded-8d7e-fe95b0233072"
      },
      "execution_count": 20,
      "outputs": [
        {
          "output_type": "execute_result",
          "data": {
            "text/plain": [
              "['grace hegger',\n",
              " 'lewis harry sinclair',\n",
              " 'harry sinclair lewis',\n",
              " 'sinclair lewis']"
            ]
          },
          "metadata": {},
          "execution_count": 20
        }
      ]
    },
    {
      "cell_type": "code",
      "source": [
        "a = ['test', 'fun']\n",
        "','.join(a)\n",
        "a"
      ],
      "metadata": {
        "colab": {
          "base_uri": "https://localhost:8080/"
        },
        "id": "1P2y_8cZ1Swv",
        "outputId": "b906bdab-a862-4380-ef36-e3de32b37d4b"
      },
      "execution_count": 65,
      "outputs": [
        {
          "output_type": "execute_result",
          "data": {
            "text/plain": [
              "['test', 'fun']"
            ]
          },
          "metadata": {},
          "execution_count": 65
        }
      ]
    },
    {
      "cell_type": "code",
      "source": [
        "a = ''"
      ],
      "metadata": {
        "id": "hN2h3EZs2lLY"
      },
      "execution_count": null,
      "outputs": []
    }
  ],
  "metadata": {
    "colab": {
      "collapsed_sections": [],
      "name": "266_Project_Goding.ipynb",
      "provenance": [],
      "background_execution": "on",
      "mount_file_id": "1cvFS11SpjfxzaNDqcpjgWw8EqkmYAnSk",
      "authorship_tag": "ABX9TyPlXl1DTmZFXTRRMUPQbqp1",
      "include_colab_link": true
    },
    "kernelspec": {
      "display_name": "Python 3",
      "name": "python3"
    },
    "language_info": {
      "name": "python"
    },
    "widgets": {
      "application/vnd.jupyter.widget-state+json": {
        "88005adaf06f4ff995f7f1ada1450922": {
          "model_module": "@jupyter-widgets/controls",
          "model_name": "HBoxModel",
          "model_module_version": "1.5.0",
          "state": {
            "_dom_classes": [],
            "_model_module": "@jupyter-widgets/controls",
            "_model_module_version": "1.5.0",
            "_model_name": "HBoxModel",
            "_view_count": null,
            "_view_module": "@jupyter-widgets/controls",
            "_view_module_version": "1.5.0",
            "_view_name": "HBoxView",
            "box_style": "",
            "children": [
              "IPY_MODEL_6e108d0dcc8541569c87bb34492438be",
              "IPY_MODEL_39754349de8a42d2872870198fffee2f",
              "IPY_MODEL_f3ec54d18e3148668b04d6500d79e446"
            ],
            "layout": "IPY_MODEL_69bdf6a9fbdb4cfd88838fb58e02ffd6"
          }
        },
        "6e108d0dcc8541569c87bb34492438be": {
          "model_module": "@jupyter-widgets/controls",
          "model_name": "HTMLModel",
          "model_module_version": "1.5.0",
          "state": {
            "_dom_classes": [],
            "_model_module": "@jupyter-widgets/controls",
            "_model_module_version": "1.5.0",
            "_model_name": "HTMLModel",
            "_view_count": null,
            "_view_module": "@jupyter-widgets/controls",
            "_view_module_version": "1.5.0",
            "_view_name": "HTMLView",
            "description": "",
            "description_tooltip": null,
            "layout": "IPY_MODEL_b4cd1af926064ea1ada0ca1a498e36d5",
            "placeholder": "​",
            "style": "IPY_MODEL_c393793be9a34c96af355bc7cfcc2e82",
            "value": "100%"
          }
        },
        "39754349de8a42d2872870198fffee2f": {
          "model_module": "@jupyter-widgets/controls",
          "model_name": "FloatProgressModel",
          "model_module_version": "1.5.0",
          "state": {
            "_dom_classes": [],
            "_model_module": "@jupyter-widgets/controls",
            "_model_module_version": "1.5.0",
            "_model_name": "FloatProgressModel",
            "_view_count": null,
            "_view_module": "@jupyter-widgets/controls",
            "_view_module_version": "1.5.0",
            "_view_name": "ProgressView",
            "bar_style": "success",
            "description": "",
            "description_tooltip": null,
            "layout": "IPY_MODEL_b353581370a347e295a5641e802b36d6",
            "max": 3,
            "min": 0,
            "orientation": "horizontal",
            "style": "IPY_MODEL_377591a6a620426280b79bdfac3c35ee",
            "value": 3
          }
        },
        "f3ec54d18e3148668b04d6500d79e446": {
          "model_module": "@jupyter-widgets/controls",
          "model_name": "HTMLModel",
          "model_module_version": "1.5.0",
          "state": {
            "_dom_classes": [],
            "_model_module": "@jupyter-widgets/controls",
            "_model_module_version": "1.5.0",
            "_model_name": "HTMLModel",
            "_view_count": null,
            "_view_module": "@jupyter-widgets/controls",
            "_view_module_version": "1.5.0",
            "_view_name": "HTMLView",
            "description": "",
            "description_tooltip": null,
            "layout": "IPY_MODEL_b4e4c0da7eaa42068fc866e80147b02a",
            "placeholder": "​",
            "style": "IPY_MODEL_b02bc05628584ba0a4306d85f0a90f31",
            "value": " 3/3 [00:01&lt;00:00,  2.22it/s]"
          }
        },
        "69bdf6a9fbdb4cfd88838fb58e02ffd6": {
          "model_module": "@jupyter-widgets/base",
          "model_name": "LayoutModel",
          "model_module_version": "1.2.0",
          "state": {
            "_model_module": "@jupyter-widgets/base",
            "_model_module_version": "1.2.0",
            "_model_name": "LayoutModel",
            "_view_count": null,
            "_view_module": "@jupyter-widgets/base",
            "_view_module_version": "1.2.0",
            "_view_name": "LayoutView",
            "align_content": null,
            "align_items": null,
            "align_self": null,
            "border": null,
            "bottom": null,
            "display": null,
            "flex": null,
            "flex_flow": null,
            "grid_area": null,
            "grid_auto_columns": null,
            "grid_auto_flow": null,
            "grid_auto_rows": null,
            "grid_column": null,
            "grid_gap": null,
            "grid_row": null,
            "grid_template_areas": null,
            "grid_template_columns": null,
            "grid_template_rows": null,
            "height": null,
            "justify_content": null,
            "justify_items": null,
            "left": null,
            "margin": null,
            "max_height": null,
            "max_width": null,
            "min_height": null,
            "min_width": null,
            "object_fit": null,
            "object_position": null,
            "order": null,
            "overflow": null,
            "overflow_x": null,
            "overflow_y": null,
            "padding": null,
            "right": null,
            "top": null,
            "visibility": null,
            "width": null
          }
        },
        "b4cd1af926064ea1ada0ca1a498e36d5": {
          "model_module": "@jupyter-widgets/base",
          "model_name": "LayoutModel",
          "model_module_version": "1.2.0",
          "state": {
            "_model_module": "@jupyter-widgets/base",
            "_model_module_version": "1.2.0",
            "_model_name": "LayoutModel",
            "_view_count": null,
            "_view_module": "@jupyter-widgets/base",
            "_view_module_version": "1.2.0",
            "_view_name": "LayoutView",
            "align_content": null,
            "align_items": null,
            "align_self": null,
            "border": null,
            "bottom": null,
            "display": null,
            "flex": null,
            "flex_flow": null,
            "grid_area": null,
            "grid_auto_columns": null,
            "grid_auto_flow": null,
            "grid_auto_rows": null,
            "grid_column": null,
            "grid_gap": null,
            "grid_row": null,
            "grid_template_areas": null,
            "grid_template_columns": null,
            "grid_template_rows": null,
            "height": null,
            "justify_content": null,
            "justify_items": null,
            "left": null,
            "margin": null,
            "max_height": null,
            "max_width": null,
            "min_height": null,
            "min_width": null,
            "object_fit": null,
            "object_position": null,
            "order": null,
            "overflow": null,
            "overflow_x": null,
            "overflow_y": null,
            "padding": null,
            "right": null,
            "top": null,
            "visibility": null,
            "width": null
          }
        },
        "c393793be9a34c96af355bc7cfcc2e82": {
          "model_module": "@jupyter-widgets/controls",
          "model_name": "DescriptionStyleModel",
          "model_module_version": "1.5.0",
          "state": {
            "_model_module": "@jupyter-widgets/controls",
            "_model_module_version": "1.5.0",
            "_model_name": "DescriptionStyleModel",
            "_view_count": null,
            "_view_module": "@jupyter-widgets/base",
            "_view_module_version": "1.2.0",
            "_view_name": "StyleView",
            "description_width": ""
          }
        },
        "b353581370a347e295a5641e802b36d6": {
          "model_module": "@jupyter-widgets/base",
          "model_name": "LayoutModel",
          "model_module_version": "1.2.0",
          "state": {
            "_model_module": "@jupyter-widgets/base",
            "_model_module_version": "1.2.0",
            "_model_name": "LayoutModel",
            "_view_count": null,
            "_view_module": "@jupyter-widgets/base",
            "_view_module_version": "1.2.0",
            "_view_name": "LayoutView",
            "align_content": null,
            "align_items": null,
            "align_self": null,
            "border": null,
            "bottom": null,
            "display": null,
            "flex": null,
            "flex_flow": null,
            "grid_area": null,
            "grid_auto_columns": null,
            "grid_auto_flow": null,
            "grid_auto_rows": null,
            "grid_column": null,
            "grid_gap": null,
            "grid_row": null,
            "grid_template_areas": null,
            "grid_template_columns": null,
            "grid_template_rows": null,
            "height": null,
            "justify_content": null,
            "justify_items": null,
            "left": null,
            "margin": null,
            "max_height": null,
            "max_width": null,
            "min_height": null,
            "min_width": null,
            "object_fit": null,
            "object_position": null,
            "order": null,
            "overflow": null,
            "overflow_x": null,
            "overflow_y": null,
            "padding": null,
            "right": null,
            "top": null,
            "visibility": null,
            "width": null
          }
        },
        "377591a6a620426280b79bdfac3c35ee": {
          "model_module": "@jupyter-widgets/controls",
          "model_name": "ProgressStyleModel",
          "model_module_version": "1.5.0",
          "state": {
            "_model_module": "@jupyter-widgets/controls",
            "_model_module_version": "1.5.0",
            "_model_name": "ProgressStyleModel",
            "_view_count": null,
            "_view_module": "@jupyter-widgets/base",
            "_view_module_version": "1.2.0",
            "_view_name": "StyleView",
            "bar_color": null,
            "description_width": ""
          }
        },
        "b4e4c0da7eaa42068fc866e80147b02a": {
          "model_module": "@jupyter-widgets/base",
          "model_name": "LayoutModel",
          "model_module_version": "1.2.0",
          "state": {
            "_model_module": "@jupyter-widgets/base",
            "_model_module_version": "1.2.0",
            "_model_name": "LayoutModel",
            "_view_count": null,
            "_view_module": "@jupyter-widgets/base",
            "_view_module_version": "1.2.0",
            "_view_name": "LayoutView",
            "align_content": null,
            "align_items": null,
            "align_self": null,
            "border": null,
            "bottom": null,
            "display": null,
            "flex": null,
            "flex_flow": null,
            "grid_area": null,
            "grid_auto_columns": null,
            "grid_auto_flow": null,
            "grid_auto_rows": null,
            "grid_column": null,
            "grid_gap": null,
            "grid_row": null,
            "grid_template_areas": null,
            "grid_template_columns": null,
            "grid_template_rows": null,
            "height": null,
            "justify_content": null,
            "justify_items": null,
            "left": null,
            "margin": null,
            "max_height": null,
            "max_width": null,
            "min_height": null,
            "min_width": null,
            "object_fit": null,
            "object_position": null,
            "order": null,
            "overflow": null,
            "overflow_x": null,
            "overflow_y": null,
            "padding": null,
            "right": null,
            "top": null,
            "visibility": null,
            "width": null
          }
        },
        "b02bc05628584ba0a4306d85f0a90f31": {
          "model_module": "@jupyter-widgets/controls",
          "model_name": "DescriptionStyleModel",
          "model_module_version": "1.5.0",
          "state": {
            "_model_module": "@jupyter-widgets/controls",
            "_model_module_version": "1.5.0",
            "_model_name": "DescriptionStyleModel",
            "_view_count": null,
            "_view_module": "@jupyter-widgets/base",
            "_view_module_version": "1.2.0",
            "_view_name": "StyleView",
            "description_width": ""
          }
        },
        "132df1ba608047bfa6b00565b961ff32": {
          "model_module": "@jupyter-widgets/controls",
          "model_name": "HBoxModel",
          "model_module_version": "1.5.0",
          "state": {
            "_dom_classes": [],
            "_model_module": "@jupyter-widgets/controls",
            "_model_module_version": "1.5.0",
            "_model_name": "HBoxModel",
            "_view_count": null,
            "_view_module": "@jupyter-widgets/controls",
            "_view_module_version": "1.5.0",
            "_view_name": "HBoxView",
            "box_style": "",
            "children": [
              "IPY_MODEL_db1e491d26294bb685484349c55d427a",
              "IPY_MODEL_682d93323688468b9f476cdc83ff30d9",
              "IPY_MODEL_0fa2919baa9b4aa0a73f00e51f9fd27b"
            ],
            "layout": "IPY_MODEL_6b1342dc898a4eea8f51c53d4fdfcd28"
          }
        },
        "db1e491d26294bb685484349c55d427a": {
          "model_module": "@jupyter-widgets/controls",
          "model_name": "HTMLModel",
          "model_module_version": "1.5.0",
          "state": {
            "_dom_classes": [],
            "_model_module": "@jupyter-widgets/controls",
            "_model_module_version": "1.5.0",
            "_model_name": "HTMLModel",
            "_view_count": null,
            "_view_module": "@jupyter-widgets/controls",
            "_view_module_version": "1.5.0",
            "_view_name": "HTMLView",
            "description": "",
            "description_tooltip": null,
            "layout": "IPY_MODEL_fe0266a1245d45bfa4fd6942a717f118",
            "placeholder": "​",
            "style": "IPY_MODEL_9cc6b14c6f3d479d8250d3c6628e5b7b",
            "value": "Downloading data files: 100%"
          }
        },
        "682d93323688468b9f476cdc83ff30d9": {
          "model_module": "@jupyter-widgets/controls",
          "model_name": "FloatProgressModel",
          "model_module_version": "1.5.0",
          "state": {
            "_dom_classes": [],
            "_model_module": "@jupyter-widgets/controls",
            "_model_module_version": "1.5.0",
            "_model_name": "FloatProgressModel",
            "_view_count": null,
            "_view_module": "@jupyter-widgets/controls",
            "_view_module_version": "1.5.0",
            "_view_name": "ProgressView",
            "bar_style": "success",
            "description": "",
            "description_tooltip": null,
            "layout": "IPY_MODEL_f987daf6b9e2440a9dcc62b215e5b393",
            "max": 1,
            "min": 0,
            "orientation": "horizontal",
            "style": "IPY_MODEL_9a87d89bd24c4328b794ba67238cffd1",
            "value": 1
          }
        },
        "0fa2919baa9b4aa0a73f00e51f9fd27b": {
          "model_module": "@jupyter-widgets/controls",
          "model_name": "HTMLModel",
          "model_module_version": "1.5.0",
          "state": {
            "_dom_classes": [],
            "_model_module": "@jupyter-widgets/controls",
            "_model_module_version": "1.5.0",
            "_model_name": "HTMLModel",
            "_view_count": null,
            "_view_module": "@jupyter-widgets/controls",
            "_view_module_version": "1.5.0",
            "_view_name": "HTMLView",
            "description": "",
            "description_tooltip": null,
            "layout": "IPY_MODEL_0a4f89926f1c40c38e0b5a2d41100a6e",
            "placeholder": "​",
            "style": "IPY_MODEL_c449593e6de84b40ad7c35e947854f3b",
            "value": " 1/1 [00:00&lt;00:00, 22.04it/s]"
          }
        },
        "6b1342dc898a4eea8f51c53d4fdfcd28": {
          "model_module": "@jupyter-widgets/base",
          "model_name": "LayoutModel",
          "model_module_version": "1.2.0",
          "state": {
            "_model_module": "@jupyter-widgets/base",
            "_model_module_version": "1.2.0",
            "_model_name": "LayoutModel",
            "_view_count": null,
            "_view_module": "@jupyter-widgets/base",
            "_view_module_version": "1.2.0",
            "_view_name": "LayoutView",
            "align_content": null,
            "align_items": null,
            "align_self": null,
            "border": null,
            "bottom": null,
            "display": null,
            "flex": null,
            "flex_flow": null,
            "grid_area": null,
            "grid_auto_columns": null,
            "grid_auto_flow": null,
            "grid_auto_rows": null,
            "grid_column": null,
            "grid_gap": null,
            "grid_row": null,
            "grid_template_areas": null,
            "grid_template_columns": null,
            "grid_template_rows": null,
            "height": null,
            "justify_content": null,
            "justify_items": null,
            "left": null,
            "margin": null,
            "max_height": null,
            "max_width": null,
            "min_height": null,
            "min_width": null,
            "object_fit": null,
            "object_position": null,
            "order": null,
            "overflow": null,
            "overflow_x": null,
            "overflow_y": null,
            "padding": null,
            "right": null,
            "top": null,
            "visibility": null,
            "width": null
          }
        },
        "fe0266a1245d45bfa4fd6942a717f118": {
          "model_module": "@jupyter-widgets/base",
          "model_name": "LayoutModel",
          "model_module_version": "1.2.0",
          "state": {
            "_model_module": "@jupyter-widgets/base",
            "_model_module_version": "1.2.0",
            "_model_name": "LayoutModel",
            "_view_count": null,
            "_view_module": "@jupyter-widgets/base",
            "_view_module_version": "1.2.0",
            "_view_name": "LayoutView",
            "align_content": null,
            "align_items": null,
            "align_self": null,
            "border": null,
            "bottom": null,
            "display": null,
            "flex": null,
            "flex_flow": null,
            "grid_area": null,
            "grid_auto_columns": null,
            "grid_auto_flow": null,
            "grid_auto_rows": null,
            "grid_column": null,
            "grid_gap": null,
            "grid_row": null,
            "grid_template_areas": null,
            "grid_template_columns": null,
            "grid_template_rows": null,
            "height": null,
            "justify_content": null,
            "justify_items": null,
            "left": null,
            "margin": null,
            "max_height": null,
            "max_width": null,
            "min_height": null,
            "min_width": null,
            "object_fit": null,
            "object_position": null,
            "order": null,
            "overflow": null,
            "overflow_x": null,
            "overflow_y": null,
            "padding": null,
            "right": null,
            "top": null,
            "visibility": null,
            "width": null
          }
        },
        "9cc6b14c6f3d479d8250d3c6628e5b7b": {
          "model_module": "@jupyter-widgets/controls",
          "model_name": "DescriptionStyleModel",
          "model_module_version": "1.5.0",
          "state": {
            "_model_module": "@jupyter-widgets/controls",
            "_model_module_version": "1.5.0",
            "_model_name": "DescriptionStyleModel",
            "_view_count": null,
            "_view_module": "@jupyter-widgets/base",
            "_view_module_version": "1.2.0",
            "_view_name": "StyleView",
            "description_width": ""
          }
        },
        "f987daf6b9e2440a9dcc62b215e5b393": {
          "model_module": "@jupyter-widgets/base",
          "model_name": "LayoutModel",
          "model_module_version": "1.2.0",
          "state": {
            "_model_module": "@jupyter-widgets/base",
            "_model_module_version": "1.2.0",
            "_model_name": "LayoutModel",
            "_view_count": null,
            "_view_module": "@jupyter-widgets/base",
            "_view_module_version": "1.2.0",
            "_view_name": "LayoutView",
            "align_content": null,
            "align_items": null,
            "align_self": null,
            "border": null,
            "bottom": null,
            "display": null,
            "flex": null,
            "flex_flow": null,
            "grid_area": null,
            "grid_auto_columns": null,
            "grid_auto_flow": null,
            "grid_auto_rows": null,
            "grid_column": null,
            "grid_gap": null,
            "grid_row": null,
            "grid_template_areas": null,
            "grid_template_columns": null,
            "grid_template_rows": null,
            "height": null,
            "justify_content": null,
            "justify_items": null,
            "left": null,
            "margin": null,
            "max_height": null,
            "max_width": null,
            "min_height": null,
            "min_width": null,
            "object_fit": null,
            "object_position": null,
            "order": null,
            "overflow": null,
            "overflow_x": null,
            "overflow_y": null,
            "padding": null,
            "right": null,
            "top": null,
            "visibility": null,
            "width": null
          }
        },
        "9a87d89bd24c4328b794ba67238cffd1": {
          "model_module": "@jupyter-widgets/controls",
          "model_name": "ProgressStyleModel",
          "model_module_version": "1.5.0",
          "state": {
            "_model_module": "@jupyter-widgets/controls",
            "_model_module_version": "1.5.0",
            "_model_name": "ProgressStyleModel",
            "_view_count": null,
            "_view_module": "@jupyter-widgets/base",
            "_view_module_version": "1.2.0",
            "_view_name": "StyleView",
            "bar_color": null,
            "description_width": ""
          }
        },
        "0a4f89926f1c40c38e0b5a2d41100a6e": {
          "model_module": "@jupyter-widgets/base",
          "model_name": "LayoutModel",
          "model_module_version": "1.2.0",
          "state": {
            "_model_module": "@jupyter-widgets/base",
            "_model_module_version": "1.2.0",
            "_model_name": "LayoutModel",
            "_view_count": null,
            "_view_module": "@jupyter-widgets/base",
            "_view_module_version": "1.2.0",
            "_view_name": "LayoutView",
            "align_content": null,
            "align_items": null,
            "align_self": null,
            "border": null,
            "bottom": null,
            "display": null,
            "flex": null,
            "flex_flow": null,
            "grid_area": null,
            "grid_auto_columns": null,
            "grid_auto_flow": null,
            "grid_auto_rows": null,
            "grid_column": null,
            "grid_gap": null,
            "grid_row": null,
            "grid_template_areas": null,
            "grid_template_columns": null,
            "grid_template_rows": null,
            "height": null,
            "justify_content": null,
            "justify_items": null,
            "left": null,
            "margin": null,
            "max_height": null,
            "max_width": null,
            "min_height": null,
            "min_width": null,
            "object_fit": null,
            "object_position": null,
            "order": null,
            "overflow": null,
            "overflow_x": null,
            "overflow_y": null,
            "padding": null,
            "right": null,
            "top": null,
            "visibility": null,
            "width": null
          }
        },
        "c449593e6de84b40ad7c35e947854f3b": {
          "model_module": "@jupyter-widgets/controls",
          "model_name": "DescriptionStyleModel",
          "model_module_version": "1.5.0",
          "state": {
            "_model_module": "@jupyter-widgets/controls",
            "_model_module_version": "1.5.0",
            "_model_name": "DescriptionStyleModel",
            "_view_count": null,
            "_view_module": "@jupyter-widgets/base",
            "_view_module_version": "1.2.0",
            "_view_name": "StyleView",
            "description_width": ""
          }
        },
        "27d230c58de54c64a41e36ebaa35b970": {
          "model_module": "@jupyter-widgets/controls",
          "model_name": "HBoxModel",
          "model_module_version": "1.5.0",
          "state": {
            "_dom_classes": [],
            "_model_module": "@jupyter-widgets/controls",
            "_model_module_version": "1.5.0",
            "_model_name": "HBoxModel",
            "_view_count": null,
            "_view_module": "@jupyter-widgets/controls",
            "_view_module_version": "1.5.0",
            "_view_name": "HBoxView",
            "box_style": "",
            "children": [
              "IPY_MODEL_95198f29ecfb4da98c54aaaaff7192ca",
              "IPY_MODEL_0902aa1c6a9c405281fe678472d57c50",
              "IPY_MODEL_4a832c1e0eda4494972ec5e2f0447818"
            ],
            "layout": "IPY_MODEL_b720b3102e65439b96d8412b3f45e92a"
          }
        },
        "95198f29ecfb4da98c54aaaaff7192ca": {
          "model_module": "@jupyter-widgets/controls",
          "model_name": "HTMLModel",
          "model_module_version": "1.5.0",
          "state": {
            "_dom_classes": [],
            "_model_module": "@jupyter-widgets/controls",
            "_model_module_version": "1.5.0",
            "_model_name": "HTMLModel",
            "_view_count": null,
            "_view_module": "@jupyter-widgets/controls",
            "_view_module_version": "1.5.0",
            "_view_name": "HTMLView",
            "description": "",
            "description_tooltip": null,
            "layout": "IPY_MODEL_fabb917901444c8592cc47f33f720b99",
            "placeholder": "​",
            "style": "IPY_MODEL_54f867edfd5e4fd194faa9c5fe25e1bc",
            "value": "Extracting data files: 100%"
          }
        },
        "0902aa1c6a9c405281fe678472d57c50": {
          "model_module": "@jupyter-widgets/controls",
          "model_name": "FloatProgressModel",
          "model_module_version": "1.5.0",
          "state": {
            "_dom_classes": [],
            "_model_module": "@jupyter-widgets/controls",
            "_model_module_version": "1.5.0",
            "_model_name": "FloatProgressModel",
            "_view_count": null,
            "_view_module": "@jupyter-widgets/controls",
            "_view_module_version": "1.5.0",
            "_view_name": "ProgressView",
            "bar_style": "success",
            "description": "",
            "description_tooltip": null,
            "layout": "IPY_MODEL_ba4789e76d974ffe998fa79925cf9cc0",
            "max": 1,
            "min": 0,
            "orientation": "horizontal",
            "style": "IPY_MODEL_bf26485f859b40a69722d7faa9ea0fb7",
            "value": 1
          }
        },
        "4a832c1e0eda4494972ec5e2f0447818": {
          "model_module": "@jupyter-widgets/controls",
          "model_name": "HTMLModel",
          "model_module_version": "1.5.0",
          "state": {
            "_dom_classes": [],
            "_model_module": "@jupyter-widgets/controls",
            "_model_module_version": "1.5.0",
            "_model_name": "HTMLModel",
            "_view_count": null,
            "_view_module": "@jupyter-widgets/controls",
            "_view_module_version": "1.5.0",
            "_view_name": "HTMLView",
            "description": "",
            "description_tooltip": null,
            "layout": "IPY_MODEL_2c2be82be0d043f8a937219983dac68e",
            "placeholder": "​",
            "style": "IPY_MODEL_44edff3e26204e979b13a956ee5f1a52",
            "value": " 1/1 [00:00&lt;00:00,  1.45it/s]"
          }
        },
        "b720b3102e65439b96d8412b3f45e92a": {
          "model_module": "@jupyter-widgets/base",
          "model_name": "LayoutModel",
          "model_module_version": "1.2.0",
          "state": {
            "_model_module": "@jupyter-widgets/base",
            "_model_module_version": "1.2.0",
            "_model_name": "LayoutModel",
            "_view_count": null,
            "_view_module": "@jupyter-widgets/base",
            "_view_module_version": "1.2.0",
            "_view_name": "LayoutView",
            "align_content": null,
            "align_items": null,
            "align_self": null,
            "border": null,
            "bottom": null,
            "display": null,
            "flex": null,
            "flex_flow": null,
            "grid_area": null,
            "grid_auto_columns": null,
            "grid_auto_flow": null,
            "grid_auto_rows": null,
            "grid_column": null,
            "grid_gap": null,
            "grid_row": null,
            "grid_template_areas": null,
            "grid_template_columns": null,
            "grid_template_rows": null,
            "height": null,
            "justify_content": null,
            "justify_items": null,
            "left": null,
            "margin": null,
            "max_height": null,
            "max_width": null,
            "min_height": null,
            "min_width": null,
            "object_fit": null,
            "object_position": null,
            "order": null,
            "overflow": null,
            "overflow_x": null,
            "overflow_y": null,
            "padding": null,
            "right": null,
            "top": null,
            "visibility": null,
            "width": null
          }
        },
        "fabb917901444c8592cc47f33f720b99": {
          "model_module": "@jupyter-widgets/base",
          "model_name": "LayoutModel",
          "model_module_version": "1.2.0",
          "state": {
            "_model_module": "@jupyter-widgets/base",
            "_model_module_version": "1.2.0",
            "_model_name": "LayoutModel",
            "_view_count": null,
            "_view_module": "@jupyter-widgets/base",
            "_view_module_version": "1.2.0",
            "_view_name": "LayoutView",
            "align_content": null,
            "align_items": null,
            "align_self": null,
            "border": null,
            "bottom": null,
            "display": null,
            "flex": null,
            "flex_flow": null,
            "grid_area": null,
            "grid_auto_columns": null,
            "grid_auto_flow": null,
            "grid_auto_rows": null,
            "grid_column": null,
            "grid_gap": null,
            "grid_row": null,
            "grid_template_areas": null,
            "grid_template_columns": null,
            "grid_template_rows": null,
            "height": null,
            "justify_content": null,
            "justify_items": null,
            "left": null,
            "margin": null,
            "max_height": null,
            "max_width": null,
            "min_height": null,
            "min_width": null,
            "object_fit": null,
            "object_position": null,
            "order": null,
            "overflow": null,
            "overflow_x": null,
            "overflow_y": null,
            "padding": null,
            "right": null,
            "top": null,
            "visibility": null,
            "width": null
          }
        },
        "54f867edfd5e4fd194faa9c5fe25e1bc": {
          "model_module": "@jupyter-widgets/controls",
          "model_name": "DescriptionStyleModel",
          "model_module_version": "1.5.0",
          "state": {
            "_model_module": "@jupyter-widgets/controls",
            "_model_module_version": "1.5.0",
            "_model_name": "DescriptionStyleModel",
            "_view_count": null,
            "_view_module": "@jupyter-widgets/base",
            "_view_module_version": "1.2.0",
            "_view_name": "StyleView",
            "description_width": ""
          }
        },
        "ba4789e76d974ffe998fa79925cf9cc0": {
          "model_module": "@jupyter-widgets/base",
          "model_name": "LayoutModel",
          "model_module_version": "1.2.0",
          "state": {
            "_model_module": "@jupyter-widgets/base",
            "_model_module_version": "1.2.0",
            "_model_name": "LayoutModel",
            "_view_count": null,
            "_view_module": "@jupyter-widgets/base",
            "_view_module_version": "1.2.0",
            "_view_name": "LayoutView",
            "align_content": null,
            "align_items": null,
            "align_self": null,
            "border": null,
            "bottom": null,
            "display": null,
            "flex": null,
            "flex_flow": null,
            "grid_area": null,
            "grid_auto_columns": null,
            "grid_auto_flow": null,
            "grid_auto_rows": null,
            "grid_column": null,
            "grid_gap": null,
            "grid_row": null,
            "grid_template_areas": null,
            "grid_template_columns": null,
            "grid_template_rows": null,
            "height": null,
            "justify_content": null,
            "justify_items": null,
            "left": null,
            "margin": null,
            "max_height": null,
            "max_width": null,
            "min_height": null,
            "min_width": null,
            "object_fit": null,
            "object_position": null,
            "order": null,
            "overflow": null,
            "overflow_x": null,
            "overflow_y": null,
            "padding": null,
            "right": null,
            "top": null,
            "visibility": null,
            "width": null
          }
        },
        "bf26485f859b40a69722d7faa9ea0fb7": {
          "model_module": "@jupyter-widgets/controls",
          "model_name": "ProgressStyleModel",
          "model_module_version": "1.5.0",
          "state": {
            "_model_module": "@jupyter-widgets/controls",
            "_model_module_version": "1.5.0",
            "_model_name": "ProgressStyleModel",
            "_view_count": null,
            "_view_module": "@jupyter-widgets/base",
            "_view_module_version": "1.2.0",
            "_view_name": "StyleView",
            "bar_color": null,
            "description_width": ""
          }
        },
        "2c2be82be0d043f8a937219983dac68e": {
          "model_module": "@jupyter-widgets/base",
          "model_name": "LayoutModel",
          "model_module_version": "1.2.0",
          "state": {
            "_model_module": "@jupyter-widgets/base",
            "_model_module_version": "1.2.0",
            "_model_name": "LayoutModel",
            "_view_count": null,
            "_view_module": "@jupyter-widgets/base",
            "_view_module_version": "1.2.0",
            "_view_name": "LayoutView",
            "align_content": null,
            "align_items": null,
            "align_self": null,
            "border": null,
            "bottom": null,
            "display": null,
            "flex": null,
            "flex_flow": null,
            "grid_area": null,
            "grid_auto_columns": null,
            "grid_auto_flow": null,
            "grid_auto_rows": null,
            "grid_column": null,
            "grid_gap": null,
            "grid_row": null,
            "grid_template_areas": null,
            "grid_template_columns": null,
            "grid_template_rows": null,
            "height": null,
            "justify_content": null,
            "justify_items": null,
            "left": null,
            "margin": null,
            "max_height": null,
            "max_width": null,
            "min_height": null,
            "min_width": null,
            "object_fit": null,
            "object_position": null,
            "order": null,
            "overflow": null,
            "overflow_x": null,
            "overflow_y": null,
            "padding": null,
            "right": null,
            "top": null,
            "visibility": null,
            "width": null
          }
        },
        "44edff3e26204e979b13a956ee5f1a52": {
          "model_module": "@jupyter-widgets/controls",
          "model_name": "DescriptionStyleModel",
          "model_module_version": "1.5.0",
          "state": {
            "_model_module": "@jupyter-widgets/controls",
            "_model_module_version": "1.5.0",
            "_model_name": "DescriptionStyleModel",
            "_view_count": null,
            "_view_module": "@jupyter-widgets/base",
            "_view_module_version": "1.2.0",
            "_view_name": "StyleView",
            "description_width": ""
          }
        },
        "481d902e5aa24146b8e05966f6bc0da2": {
          "model_module": "@jupyter-widgets/controls",
          "model_name": "HBoxModel",
          "model_module_version": "1.5.0",
          "state": {
            "_dom_classes": [],
            "_model_module": "@jupyter-widgets/controls",
            "_model_module_version": "1.5.0",
            "_model_name": "HBoxModel",
            "_view_count": null,
            "_view_module": "@jupyter-widgets/controls",
            "_view_module_version": "1.5.0",
            "_view_name": "HBoxView",
            "box_style": "",
            "children": [
              "IPY_MODEL_234b342ad61c4cafacccdc7780875494",
              "IPY_MODEL_bbfe98bb9177454199f30c7732a6fd89",
              "IPY_MODEL_204a514a10ed43549bca505fbd2d284d"
            ],
            "layout": "IPY_MODEL_486a0235d1414098bdc034e30d1845db"
          }
        },
        "234b342ad61c4cafacccdc7780875494": {
          "model_module": "@jupyter-widgets/controls",
          "model_name": "HTMLModel",
          "model_module_version": "1.5.0",
          "state": {
            "_dom_classes": [],
            "_model_module": "@jupyter-widgets/controls",
            "_model_module_version": "1.5.0",
            "_model_name": "HTMLModel",
            "_view_count": null,
            "_view_module": "@jupyter-widgets/controls",
            "_view_module_version": "1.5.0",
            "_view_name": "HTMLView",
            "description": "",
            "description_tooltip": null,
            "layout": "IPY_MODEL_003cff9128d249ebb4b98d1f6a7b0de4",
            "placeholder": "​",
            "style": "IPY_MODEL_e4b1033432d44abf8599f5992b58d67c",
            "value": ""
          }
        },
        "bbfe98bb9177454199f30c7732a6fd89": {
          "model_module": "@jupyter-widgets/controls",
          "model_name": "FloatProgressModel",
          "model_module_version": "1.5.0",
          "state": {
            "_dom_classes": [],
            "_model_module": "@jupyter-widgets/controls",
            "_model_module_version": "1.5.0",
            "_model_name": "FloatProgressModel",
            "_view_count": null,
            "_view_module": "@jupyter-widgets/controls",
            "_view_module_version": "1.5.0",
            "_view_name": "ProgressView",
            "bar_style": "info",
            "description": "",
            "description_tooltip": null,
            "layout": "IPY_MODEL_ee6b4067a7d640a08c8d18a858beafee",
            "max": 1,
            "min": 0,
            "orientation": "horizontal",
            "style": "IPY_MODEL_41dfb3e946b741dba173481aff75daa8",
            "value": 0
          }
        },
        "204a514a10ed43549bca505fbd2d284d": {
          "model_module": "@jupyter-widgets/controls",
          "model_name": "HTMLModel",
          "model_module_version": "1.5.0",
          "state": {
            "_dom_classes": [],
            "_model_module": "@jupyter-widgets/controls",
            "_model_module_version": "1.5.0",
            "_model_name": "HTMLModel",
            "_view_count": null,
            "_view_module": "@jupyter-widgets/controls",
            "_view_module_version": "1.5.0",
            "_view_name": "HTMLView",
            "description": "",
            "description_tooltip": null,
            "layout": "IPY_MODEL_c3a8a7ff024b41deae159cc9670374ec",
            "placeholder": "​",
            "style": "IPY_MODEL_0895c65fe75b4b17a4aacb5cf066a968",
            "value": " 0/? [00:00&lt;?, ? tables/s]"
          }
        },
        "486a0235d1414098bdc034e30d1845db": {
          "model_module": "@jupyter-widgets/base",
          "model_name": "LayoutModel",
          "model_module_version": "1.2.0",
          "state": {
            "_model_module": "@jupyter-widgets/base",
            "_model_module_version": "1.2.0",
            "_model_name": "LayoutModel",
            "_view_count": null,
            "_view_module": "@jupyter-widgets/base",
            "_view_module_version": "1.2.0",
            "_view_name": "LayoutView",
            "align_content": null,
            "align_items": null,
            "align_self": null,
            "border": null,
            "bottom": null,
            "display": null,
            "flex": null,
            "flex_flow": null,
            "grid_area": null,
            "grid_auto_columns": null,
            "grid_auto_flow": null,
            "grid_auto_rows": null,
            "grid_column": null,
            "grid_gap": null,
            "grid_row": null,
            "grid_template_areas": null,
            "grid_template_columns": null,
            "grid_template_rows": null,
            "height": null,
            "justify_content": null,
            "justify_items": null,
            "left": null,
            "margin": null,
            "max_height": null,
            "max_width": null,
            "min_height": null,
            "min_width": null,
            "object_fit": null,
            "object_position": null,
            "order": null,
            "overflow": null,
            "overflow_x": null,
            "overflow_y": null,
            "padding": null,
            "right": null,
            "top": null,
            "visibility": null,
            "width": null
          }
        },
        "003cff9128d249ebb4b98d1f6a7b0de4": {
          "model_module": "@jupyter-widgets/base",
          "model_name": "LayoutModel",
          "model_module_version": "1.2.0",
          "state": {
            "_model_module": "@jupyter-widgets/base",
            "_model_module_version": "1.2.0",
            "_model_name": "LayoutModel",
            "_view_count": null,
            "_view_module": "@jupyter-widgets/base",
            "_view_module_version": "1.2.0",
            "_view_name": "LayoutView",
            "align_content": null,
            "align_items": null,
            "align_self": null,
            "border": null,
            "bottom": null,
            "display": null,
            "flex": null,
            "flex_flow": null,
            "grid_area": null,
            "grid_auto_columns": null,
            "grid_auto_flow": null,
            "grid_auto_rows": null,
            "grid_column": null,
            "grid_gap": null,
            "grid_row": null,
            "grid_template_areas": null,
            "grid_template_columns": null,
            "grid_template_rows": null,
            "height": null,
            "justify_content": null,
            "justify_items": null,
            "left": null,
            "margin": null,
            "max_height": null,
            "max_width": null,
            "min_height": null,
            "min_width": null,
            "object_fit": null,
            "object_position": null,
            "order": null,
            "overflow": null,
            "overflow_x": null,
            "overflow_y": null,
            "padding": null,
            "right": null,
            "top": null,
            "visibility": null,
            "width": null
          }
        },
        "e4b1033432d44abf8599f5992b58d67c": {
          "model_module": "@jupyter-widgets/controls",
          "model_name": "DescriptionStyleModel",
          "model_module_version": "1.5.0",
          "state": {
            "_model_module": "@jupyter-widgets/controls",
            "_model_module_version": "1.5.0",
            "_model_name": "DescriptionStyleModel",
            "_view_count": null,
            "_view_module": "@jupyter-widgets/base",
            "_view_module_version": "1.2.0",
            "_view_name": "StyleView",
            "description_width": ""
          }
        },
        "ee6b4067a7d640a08c8d18a858beafee": {
          "model_module": "@jupyter-widgets/base",
          "model_name": "LayoutModel",
          "model_module_version": "1.2.0",
          "state": {
            "_model_module": "@jupyter-widgets/base",
            "_model_module_version": "1.2.0",
            "_model_name": "LayoutModel",
            "_view_count": null,
            "_view_module": "@jupyter-widgets/base",
            "_view_module_version": "1.2.0",
            "_view_name": "LayoutView",
            "align_content": null,
            "align_items": null,
            "align_self": null,
            "border": null,
            "bottom": null,
            "display": null,
            "flex": null,
            "flex_flow": null,
            "grid_area": null,
            "grid_auto_columns": null,
            "grid_auto_flow": null,
            "grid_auto_rows": null,
            "grid_column": null,
            "grid_gap": null,
            "grid_row": null,
            "grid_template_areas": null,
            "grid_template_columns": null,
            "grid_template_rows": null,
            "height": null,
            "justify_content": null,
            "justify_items": null,
            "left": null,
            "margin": null,
            "max_height": null,
            "max_width": null,
            "min_height": null,
            "min_width": null,
            "object_fit": null,
            "object_position": null,
            "order": null,
            "overflow": null,
            "overflow_x": null,
            "overflow_y": null,
            "padding": null,
            "right": null,
            "top": null,
            "visibility": null,
            "width": "20px"
          }
        },
        "41dfb3e946b741dba173481aff75daa8": {
          "model_module": "@jupyter-widgets/controls",
          "model_name": "ProgressStyleModel",
          "model_module_version": "1.5.0",
          "state": {
            "_model_module": "@jupyter-widgets/controls",
            "_model_module_version": "1.5.0",
            "_model_name": "ProgressStyleModel",
            "_view_count": null,
            "_view_module": "@jupyter-widgets/base",
            "_view_module_version": "1.2.0",
            "_view_name": "StyleView",
            "bar_color": null,
            "description_width": ""
          }
        },
        "c3a8a7ff024b41deae159cc9670374ec": {
          "model_module": "@jupyter-widgets/base",
          "model_name": "LayoutModel",
          "model_module_version": "1.2.0",
          "state": {
            "_model_module": "@jupyter-widgets/base",
            "_model_module_version": "1.2.0",
            "_model_name": "LayoutModel",
            "_view_count": null,
            "_view_module": "@jupyter-widgets/base",
            "_view_module_version": "1.2.0",
            "_view_name": "LayoutView",
            "align_content": null,
            "align_items": null,
            "align_self": null,
            "border": null,
            "bottom": null,
            "display": null,
            "flex": null,
            "flex_flow": null,
            "grid_area": null,
            "grid_auto_columns": null,
            "grid_auto_flow": null,
            "grid_auto_rows": null,
            "grid_column": null,
            "grid_gap": null,
            "grid_row": null,
            "grid_template_areas": null,
            "grid_template_columns": null,
            "grid_template_rows": null,
            "height": null,
            "justify_content": null,
            "justify_items": null,
            "left": null,
            "margin": null,
            "max_height": null,
            "max_width": null,
            "min_height": null,
            "min_width": null,
            "object_fit": null,
            "object_position": null,
            "order": null,
            "overflow": null,
            "overflow_x": null,
            "overflow_y": null,
            "padding": null,
            "right": null,
            "top": null,
            "visibility": null,
            "width": null
          }
        },
        "0895c65fe75b4b17a4aacb5cf066a968": {
          "model_module": "@jupyter-widgets/controls",
          "model_name": "DescriptionStyleModel",
          "model_module_version": "1.5.0",
          "state": {
            "_model_module": "@jupyter-widgets/controls",
            "_model_module_version": "1.5.0",
            "_model_name": "DescriptionStyleModel",
            "_view_count": null,
            "_view_module": "@jupyter-widgets/base",
            "_view_module_version": "1.2.0",
            "_view_name": "StyleView",
            "description_width": ""
          }
        }
      }
    },
    "gpuClass": "standard"
  },
  "nbformat": 4,
  "nbformat_minor": 0
}